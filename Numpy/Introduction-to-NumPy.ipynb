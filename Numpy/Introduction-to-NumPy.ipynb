{
 "cells": [
  {
   "cell_type": "code",
   "execution_count": 2,
   "id": "41d71de9",
   "metadata": {},
   "outputs": [],
   "source": [
    "import numpy as np"
   ]
  },
  {
   "cell_type": "markdown",
   "id": "9ce9fcad",
   "metadata": {},
   "source": [
    "# DataTypes and Attributes"
   ]
  },
  {
   "cell_type": "code",
   "execution_count": 3,
   "id": "f4dd285f",
   "metadata": {},
   "outputs": [
    {
     "data": {
      "text/plain": [
       "array([1, 2, 3])"
      ]
     },
     "execution_count": 3,
     "metadata": {},
     "output_type": "execute_result"
    }
   ],
   "source": [
    "a1 = np.array([1,2,3])\n",
    "a1"
   ]
  },
  {
   "cell_type": "code",
   "execution_count": 4,
   "id": "61a499bd",
   "metadata": {},
   "outputs": [
    {
     "data": {
      "text/plain": [
       "numpy.ndarray"
      ]
     },
     "execution_count": 4,
     "metadata": {},
     "output_type": "execute_result"
    }
   ],
   "source": [
    "type(a1)"
   ]
  },
  {
   "cell_type": "code",
   "execution_count": 5,
   "id": "a1c43c72",
   "metadata": {},
   "outputs": [],
   "source": [
    "a2 = np.array([[1.2,5.3,2],[5.6,7,6.9]])\n",
    "a3 = np.array([[[ 1, 2, 3],\n",
    "                [ 4, 5, 6],\n",
    "                [ 7, 8, 9]],\n",
    "               \n",
    "               [[ 10, 11, 12],\n",
    "                [ 13, 14, 15],\n",
    "                [ 16, 17, 18]]])"
   ]
  },
  {
   "cell_type": "code",
   "execution_count": 6,
   "id": "04157b73",
   "metadata": {},
   "outputs": [
    {
     "data": {
      "text/plain": [
       "array([[1.2, 5.3, 2. ],\n",
       "       [5.6, 7. , 6.9]])"
      ]
     },
     "execution_count": 6,
     "metadata": {},
     "output_type": "execute_result"
    }
   ],
   "source": [
    "a2"
   ]
  },
  {
   "cell_type": "code",
   "execution_count": 7,
   "id": "641d1433",
   "metadata": {},
   "outputs": [
    {
     "data": {
      "text/plain": [
       "array([[[ 1,  2,  3],\n",
       "        [ 4,  5,  6],\n",
       "        [ 7,  8,  9]],\n",
       "\n",
       "       [[10, 11, 12],\n",
       "        [13, 14, 15],\n",
       "        [16, 17, 18]]])"
      ]
     },
     "execution_count": 7,
     "metadata": {},
     "output_type": "execute_result"
    }
   ],
   "source": [
    "a3"
   ]
  },
  {
   "cell_type": "code",
   "execution_count": 8,
   "id": "6afed878",
   "metadata": {},
   "outputs": [
    {
     "data": {
      "text/plain": [
       "(3,)"
      ]
     },
     "execution_count": 8,
     "metadata": {},
     "output_type": "execute_result"
    }
   ],
   "source": [
    "a1.shape"
   ]
  },
  {
   "cell_type": "code",
   "execution_count": 9,
   "id": "ccc89a8e",
   "metadata": {},
   "outputs": [
    {
     "data": {
      "text/plain": [
       "(2, 3)"
      ]
     },
     "execution_count": 9,
     "metadata": {},
     "output_type": "execute_result"
    }
   ],
   "source": [
    "a2.shape"
   ]
  },
  {
   "cell_type": "code",
   "execution_count": 10,
   "id": "284adf4e",
   "metadata": {},
   "outputs": [
    {
     "data": {
      "text/plain": [
       "(2, 3, 3)"
      ]
     },
     "execution_count": 10,
     "metadata": {},
     "output_type": "execute_result"
    }
   ],
   "source": [
    "a3.shape"
   ]
  },
  {
   "cell_type": "code",
   "execution_count": 11,
   "id": "8ea0d98b",
   "metadata": {},
   "outputs": [
    {
     "data": {
      "text/plain": [
       "1"
      ]
     },
     "execution_count": 11,
     "metadata": {},
     "output_type": "execute_result"
    }
   ],
   "source": [
    "a1.ndim"
   ]
  },
  {
   "cell_type": "code",
   "execution_count": 12,
   "id": "082b4a52",
   "metadata": {},
   "outputs": [
    {
     "data": {
      "text/plain": [
       "2"
      ]
     },
     "execution_count": 12,
     "metadata": {},
     "output_type": "execute_result"
    }
   ],
   "source": [
    "a2.ndim"
   ]
  },
  {
   "cell_type": "code",
   "execution_count": 13,
   "id": "a4aa1bc1",
   "metadata": {},
   "outputs": [
    {
     "data": {
      "text/plain": [
       "3"
      ]
     },
     "execution_count": 13,
     "metadata": {},
     "output_type": "execute_result"
    }
   ],
   "source": [
    "a3.ndim"
   ]
  },
  {
   "cell_type": "code",
   "execution_count": 14,
   "id": "44d5dda7",
   "metadata": {},
   "outputs": [
    {
     "data": {
      "text/plain": [
       "(dtype('int32'), dtype('float64'), dtype('int32'))"
      ]
     },
     "execution_count": 14,
     "metadata": {},
     "output_type": "execute_result"
    }
   ],
   "source": [
    "a1.dtype , a2.dtype, a3.dtype"
   ]
  },
  {
   "cell_type": "code",
   "execution_count": 15,
   "id": "61433745",
   "metadata": {},
   "outputs": [
    {
     "data": {
      "text/plain": [
       "(3, 6, 18)"
      ]
     },
     "execution_count": 15,
     "metadata": {},
     "output_type": "execute_result"
    }
   ],
   "source": [
    "a1.size ,a2.size,a3.size"
   ]
  },
  {
   "cell_type": "code",
   "execution_count": 16,
   "id": "70988c1f",
   "metadata": {},
   "outputs": [
    {
     "data": {
      "text/plain": [
       "(numpy.ndarray, numpy.ndarray, numpy.ndarray)"
      ]
     },
     "execution_count": 16,
     "metadata": {},
     "output_type": "execute_result"
    }
   ],
   "source": [
    "type(a1) , type(a2) , type(a3)"
   ]
  },
  {
   "cell_type": "code",
   "execution_count": 17,
   "id": "6f03f391",
   "metadata": {},
   "outputs": [
    {
     "data": {
      "text/html": [
       "<div>\n",
       "<style scoped>\n",
       "    .dataframe tbody tr th:only-of-type {\n",
       "        vertical-align: middle;\n",
       "    }\n",
       "\n",
       "    .dataframe tbody tr th {\n",
       "        vertical-align: top;\n",
       "    }\n",
       "\n",
       "    .dataframe thead th {\n",
       "        text-align: right;\n",
       "    }\n",
       "</style>\n",
       "<table border=\"1\" class=\"dataframe\">\n",
       "  <thead>\n",
       "    <tr style=\"text-align: right;\">\n",
       "      <th></th>\n",
       "      <th>0</th>\n",
       "      <th>1</th>\n",
       "      <th>2</th>\n",
       "    </tr>\n",
       "  </thead>\n",
       "  <tbody>\n",
       "    <tr>\n",
       "      <th>0</th>\n",
       "      <td>1.2</td>\n",
       "      <td>5.3</td>\n",
       "      <td>2.0</td>\n",
       "    </tr>\n",
       "    <tr>\n",
       "      <th>1</th>\n",
       "      <td>5.6</td>\n",
       "      <td>7.0</td>\n",
       "      <td>6.9</td>\n",
       "    </tr>\n",
       "  </tbody>\n",
       "</table>\n",
       "</div>"
      ],
      "text/plain": [
       "     0    1    2\n",
       "0  1.2  5.3  2.0\n",
       "1  5.6  7.0  6.9"
      ]
     },
     "execution_count": 17,
     "metadata": {},
     "output_type": "execute_result"
    }
   ],
   "source": [
    " # Create a DataFrame from NumPy array\n",
    "import pandas as pd\n",
    "\n",
    "df=pd.DataFrame(a2)\n",
    "df"
   ]
  },
  {
   "cell_type": "code",
   "execution_count": 18,
   "id": "06d3cbc8",
   "metadata": {},
   "outputs": [],
   "source": [
    "df.columns = [\"c1\",\"c2\",\"c3\"]"
   ]
  },
  {
   "cell_type": "code",
   "execution_count": 19,
   "id": "7f86676a",
   "metadata": {},
   "outputs": [
    {
     "data": {
      "text/plain": [
       "Index(['c1', 'c2', 'c3'], dtype='object')"
      ]
     },
     "execution_count": 19,
     "metadata": {},
     "output_type": "execute_result"
    }
   ],
   "source": [
    "df.columns"
   ]
  },
  {
   "cell_type": "code",
   "execution_count": 20,
   "id": "bbc13209",
   "metadata": {},
   "outputs": [
    {
     "data": {
      "text/html": [
       "<div>\n",
       "<style scoped>\n",
       "    .dataframe tbody tr th:only-of-type {\n",
       "        vertical-align: middle;\n",
       "    }\n",
       "\n",
       "    .dataframe tbody tr th {\n",
       "        vertical-align: top;\n",
       "    }\n",
       "\n",
       "    .dataframe thead th {\n",
       "        text-align: right;\n",
       "    }\n",
       "</style>\n",
       "<table border=\"1\" class=\"dataframe\">\n",
       "  <thead>\n",
       "    <tr style=\"text-align: right;\">\n",
       "      <th></th>\n",
       "      <th>c1</th>\n",
       "      <th>c2</th>\n",
       "      <th>c3</th>\n",
       "    </tr>\n",
       "  </thead>\n",
       "  <tbody>\n",
       "    <tr>\n",
       "      <th>0</th>\n",
       "      <td>1.2</td>\n",
       "      <td>5.3</td>\n",
       "      <td>2.0</td>\n",
       "    </tr>\n",
       "    <tr>\n",
       "      <th>1</th>\n",
       "      <td>5.6</td>\n",
       "      <td>7.0</td>\n",
       "      <td>6.9</td>\n",
       "    </tr>\n",
       "  </tbody>\n",
       "</table>\n",
       "</div>"
      ],
      "text/plain": [
       "    c1   c2   c3\n",
       "0  1.2  5.3  2.0\n",
       "1  5.6  7.0  6.9"
      ]
     },
     "execution_count": 20,
     "metadata": {},
     "output_type": "execute_result"
    }
   ],
   "source": [
    "df"
   ]
  },
  {
   "cell_type": "markdown",
   "id": "0e34cbe6",
   "metadata": {},
   "source": [
    "## Creating Arrays"
   ]
  },
  {
   "cell_type": "code",
   "execution_count": 21,
   "id": "153eeb31",
   "metadata": {},
   "outputs": [
    {
     "data": {
      "text/plain": [
       "array([1, 2, 3])"
      ]
     },
     "execution_count": 21,
     "metadata": {},
     "output_type": "execute_result"
    }
   ],
   "source": [
    "sample_array = np.array(range(1,4))\n",
    "sample_array"
   ]
  },
  {
   "cell_type": "code",
   "execution_count": 22,
   "id": "a97c6ad6",
   "metadata": {},
   "outputs": [
    {
     "data": {
      "text/plain": [
       "dtype('int32')"
      ]
     },
     "execution_count": 22,
     "metadata": {},
     "output_type": "execute_result"
    }
   ],
   "source": [
    "sample_array.dtype"
   ]
  },
  {
   "cell_type": "code",
   "execution_count": 23,
   "id": "1a26600a",
   "metadata": {},
   "outputs": [
    {
     "data": {
      "text/plain": [
       "array([[1., 1., 1., 1.],\n",
       "       [1., 1., 1., 1.],\n",
       "       [1., 1., 1., 1.]])"
      ]
     },
     "execution_count": 23,
     "metadata": {},
     "output_type": "execute_result"
    }
   ],
   "source": [
    "ones=np.ones((3,4))\n",
    "ones"
   ]
  },
  {
   "cell_type": "code",
   "execution_count": 24,
   "id": "6dbeecc3",
   "metadata": {},
   "outputs": [
    {
     "data": {
      "text/plain": [
       "dtype('float64')"
      ]
     },
     "execution_count": 24,
     "metadata": {},
     "output_type": "execute_result"
    }
   ],
   "source": [
    "ones.dtype"
   ]
  },
  {
   "cell_type": "code",
   "execution_count": 25,
   "id": "1bb8e806",
   "metadata": {},
   "outputs": [
    {
     "data": {
      "text/plain": [
       "array([[0., 0., 0.],\n",
       "       [0., 0., 0.]])"
      ]
     },
     "execution_count": 25,
     "metadata": {},
     "output_type": "execute_result"
    }
   ],
   "source": [
    "zeros = np.zeros((2,3))\n",
    "zeros"
   ]
  },
  {
   "cell_type": "code",
   "execution_count": 26,
   "id": "3992dae8",
   "metadata": {},
   "outputs": [
    {
     "data": {
      "text/plain": [
       "array([ 0,  2,  4,  6,  8, 10, 12, 14, 16, 18])"
      ]
     },
     "execution_count": 26,
     "metadata": {},
     "output_type": "execute_result"
    }
   ],
   "source": [
    "range_array = np.arange(0,20,2)\n",
    "range_array"
   ]
  },
  {
   "cell_type": "code",
   "execution_count": 27,
   "id": "41ca4ee1",
   "metadata": {},
   "outputs": [
    {
     "data": {
      "text/plain": [
       "array([[[ 4,  3],\n",
       "        [ 2,  8],\n",
       "        [12, 11],\n",
       "        [ 2,  1],\n",
       "        [ 3,  6]],\n",
       "\n",
       "       [[ 3, 10],\n",
       "        [ 9,  7],\n",
       "        [ 1, 13],\n",
       "        [12,  3],\n",
       "        [ 5,  8]]])"
      ]
     },
     "execution_count": 27,
     "metadata": {},
     "output_type": "execute_result"
    }
   ],
   "source": [
    "random_array = np.random.randint(0 , 15 ,size = (2,5,2))\n",
    "random_array"
   ]
  },
  {
   "cell_type": "code",
   "execution_count": 28,
   "id": "f7230e7c",
   "metadata": {},
   "outputs": [
    {
     "data": {
      "text/plain": [
       "(2, 5, 2)"
      ]
     },
     "execution_count": 28,
     "metadata": {},
     "output_type": "execute_result"
    }
   ],
   "source": [
    "random_array.shape"
   ]
  },
  {
   "cell_type": "code",
   "execution_count": 29,
   "id": "8e544703",
   "metadata": {},
   "outputs": [
    {
     "data": {
      "text/plain": [
       "3"
      ]
     },
     "execution_count": 29,
     "metadata": {},
     "output_type": "execute_result"
    }
   ],
   "source": [
    "random_array.ndim"
   ]
  },
  {
   "cell_type": "code",
   "execution_count": 30,
   "id": "c912c435",
   "metadata": {},
   "outputs": [
    {
     "data": {
      "text/plain": [
       "20"
      ]
     },
     "execution_count": 30,
     "metadata": {},
     "output_type": "execute_result"
    }
   ],
   "source": [
    "random_array.size"
   ]
  },
  {
   "cell_type": "code",
   "execution_count": 31,
   "id": "b9af656b",
   "metadata": {},
   "outputs": [
    {
     "data": {
      "text/plain": [
       "2"
      ]
     },
     "execution_count": 31,
     "metadata": {},
     "output_type": "execute_result"
    }
   ],
   "source": [
    "len(random_array)"
   ]
  },
  {
   "cell_type": "code",
   "execution_count": 32,
   "id": "d4f30c7f",
   "metadata": {},
   "outputs": [
    {
     "data": {
      "text/plain": [
       "dtype('int32')"
      ]
     },
     "execution_count": 32,
     "metadata": {},
     "output_type": "execute_result"
    }
   ],
   "source": [
    "random_array.dtype"
   ]
  },
  {
   "cell_type": "code",
   "execution_count": 33,
   "id": "2bc4d3ea",
   "metadata": {},
   "outputs": [
    {
     "data": {
      "text/plain": [
       "array([[['4', '3'],\n",
       "        ['2', '8'],\n",
       "        ['12', '11'],\n",
       "        ['2', '1'],\n",
       "        ['3', '6']],\n",
       "\n",
       "       [['3', '10'],\n",
       "        ['9', '7'],\n",
       "        ['1', '13'],\n",
       "        ['12', '3'],\n",
       "        ['5', '8']]], dtype='<U11')"
      ]
     },
     "execution_count": 33,
     "metadata": {},
     "output_type": "execute_result"
    }
   ],
   "source": [
    "r2 = random_array.astype(str)\n",
    "r2"
   ]
  },
  {
   "cell_type": "code",
   "execution_count": 34,
   "id": "e7ccbf5f",
   "metadata": {},
   "outputs": [
    {
     "data": {
      "text/plain": [
       "dtype('int32')"
      ]
     },
     "execution_count": 34,
     "metadata": {},
     "output_type": "execute_result"
    }
   ],
   "source": [
    "random_array.dtype"
   ]
  },
  {
   "cell_type": "code",
   "execution_count": 35,
   "id": "56888f21",
   "metadata": {},
   "outputs": [],
   "source": [
    "random_array_2 = np.random.random((2,3))"
   ]
  },
  {
   "cell_type": "code",
   "execution_count": 36,
   "id": "671cdb77",
   "metadata": {},
   "outputs": [
    {
     "data": {
      "text/plain": [
       "dtype('float64')"
      ]
     },
     "execution_count": 36,
     "metadata": {},
     "output_type": "execute_result"
    }
   ],
   "source": [
    "random_array_2.dtype"
   ]
  },
  {
   "cell_type": "code",
   "execution_count": 37,
   "id": "e5335ccf",
   "metadata": {},
   "outputs": [
    {
     "data": {
      "text/plain": [
       "(2, 3)"
      ]
     },
     "execution_count": 37,
     "metadata": {},
     "output_type": "execute_result"
    }
   ],
   "source": [
    "random_array_2.shape"
   ]
  },
  {
   "cell_type": "code",
   "execution_count": 38,
   "id": "5a75e47a",
   "metadata": {},
   "outputs": [
    {
     "data": {
      "text/plain": [
       "2"
      ]
     },
     "execution_count": 38,
     "metadata": {},
     "output_type": "execute_result"
    }
   ],
   "source": [
    "random_array_2.ndim"
   ]
  },
  {
   "cell_type": "code",
   "execution_count": 39,
   "id": "9cbf15b0",
   "metadata": {},
   "outputs": [],
   "source": [
    "random_array_3 = np.random.rand(5,3)"
   ]
  },
  {
   "cell_type": "code",
   "execution_count": 40,
   "id": "739f2958",
   "metadata": {},
   "outputs": [
    {
     "data": {
      "text/plain": [
       "array([[13.22884993, 14.16473869],\n",
       "       [ 3.15676171, 19.24153699],\n",
       "       [ 2.90275737, 10.78704061],\n",
       "       [17.3357145 ,  6.16850074],\n",
       "       [19.5855699 , 10.18647501]])"
      ]
     },
     "execution_count": 40,
     "metadata": {},
     "output_type": "execute_result"
    }
   ],
   "source": [
    "np.random.uniform(0.0,20.0, size = (5,2))"
   ]
  },
  {
   "cell_type": "code",
   "execution_count": 41,
   "id": "bf61c95a",
   "metadata": {},
   "outputs": [
    {
     "data": {
      "text/plain": [
       "array([[0.83725872, 0.63145641, 0.56378288],\n",
       "       [0.58058468, 0.64490714, 0.33384721],\n",
       "       [0.66814024, 0.24241344, 0.5666875 ],\n",
       "       [0.83081696, 0.54634645, 0.8059638 ],\n",
       "       [0.36794908, 0.3558876 , 0.84287121]])"
      ]
     },
     "execution_count": 41,
     "metadata": {},
     "output_type": "execute_result"
    }
   ],
   "source": [
    "random_array_3"
   ]
  },
  {
   "cell_type": "code",
   "execution_count": 42,
   "id": "540aa291",
   "metadata": {},
   "outputs": [
    {
     "data": {
      "text/plain": [
       "array([[0, 1, 4],\n",
       "       [1, 1, 3]])"
      ]
     },
     "execution_count": 42,
     "metadata": {},
     "output_type": "execute_result"
    }
   ],
   "source": [
    "# Pseudo random numbers\n",
    "#np.random.seed(seed=0)\n",
    "random_array_4 = np.random.randint(5, size=(2,3))\n",
    "random_array_4"
   ]
  },
  {
   "cell_type": "code",
   "execution_count": 43,
   "id": "6717a033",
   "metadata": {},
   "outputs": [
    {
     "data": {
      "text/plain": [
       "((2, 3), 2, dtype('int32'), 2, 6)"
      ]
     },
     "execution_count": 43,
     "metadata": {},
     "output_type": "execute_result"
    }
   ],
   "source": [
    "random_array_4.shape , random_array_4.ndim , random_array_4.dtype , len(random_array_4) , random_array_4.size"
   ]
  },
  {
   "cell_type": "code",
   "execution_count": 44,
   "id": "ba0dc6b4",
   "metadata": {},
   "outputs": [
    {
     "data": {
      "text/plain": [
       "array([[0.33080577, 0.95900144, 0.52765215],\n",
       "       [0.04615573, 0.63200284, 0.44443071],\n",
       "       [0.31154594, 0.67072542, 0.89315838],\n",
       "       [0.24706065, 0.2853833 , 0.48499082],\n",
       "       [0.82688698, 0.80872748, 0.4867199 ]])"
      ]
     },
     "execution_count": 44,
     "metadata": {},
     "output_type": "execute_result"
    }
   ],
   "source": [
    "#np.random.seed(seed=69)\n",
    "random_array_5 = np.random.random((5,3))\n",
    "random_array_5"
   ]
  },
  {
   "cell_type": "markdown",
   "id": "7069cb2c",
   "metadata": {},
   "source": [
    "# Viewing Arrays and Matrices"
   ]
  },
  {
   "cell_type": "code",
   "execution_count": 45,
   "id": "637accca",
   "metadata": {},
   "outputs": [
    {
     "data": {
      "text/plain": [
       "array([0, 1, 3, 4])"
      ]
     },
     "execution_count": 45,
     "metadata": {},
     "output_type": "execute_result"
    }
   ],
   "source": [
    "np.unique(random_array_4)"
   ]
  },
  {
   "cell_type": "code",
   "execution_count": 46,
   "id": "42bd4ff2",
   "metadata": {},
   "outputs": [
    {
     "data": {
      "text/plain": [
       "array([1, 2, 3])"
      ]
     },
     "execution_count": 46,
     "metadata": {},
     "output_type": "execute_result"
    }
   ],
   "source": [
    "a1"
   ]
  },
  {
   "cell_type": "code",
   "execution_count": 47,
   "id": "2e24bad6",
   "metadata": {},
   "outputs": [
    {
     "data": {
      "text/plain": [
       "array([[[ 1,  2,  3],\n",
       "        [ 4,  5,  6],\n",
       "        [ 7,  8,  9]],\n",
       "\n",
       "       [[10, 11, 12],\n",
       "        [13, 14, 15],\n",
       "        [16, 17, 18]]])"
      ]
     },
     "execution_count": 47,
     "metadata": {},
     "output_type": "execute_result"
    }
   ],
   "source": [
    "a3"
   ]
  },
  {
   "cell_type": "code",
   "execution_count": 48,
   "id": "1a108d65",
   "metadata": {},
   "outputs": [
    {
     "data": {
      "text/plain": [
       "array([ 1,  2,  3,  4,  5,  6,  7,  8,  9, 10, 11, 12, 13, 14, 15, 16, 17,\n",
       "       18])"
      ]
     },
     "execution_count": 48,
     "metadata": {},
     "output_type": "execute_result"
    }
   ],
   "source": [
    "np.unique(a3)"
   ]
  },
  {
   "cell_type": "code",
   "execution_count": 49,
   "id": "02a5c710",
   "metadata": {},
   "outputs": [
    {
     "data": {
      "text/plain": [
       "1"
      ]
     },
     "execution_count": 49,
     "metadata": {},
     "output_type": "execute_result"
    }
   ],
   "source": [
    "a1[0]"
   ]
  },
  {
   "cell_type": "code",
   "execution_count": 50,
   "id": "92f592ed",
   "metadata": {},
   "outputs": [
    {
     "data": {
      "text/plain": [
       "array([5.6, 7. , 6.9])"
      ]
     },
     "execution_count": 50,
     "metadata": {},
     "output_type": "execute_result"
    }
   ],
   "source": [
    "a2[1]"
   ]
  },
  {
   "cell_type": "code",
   "execution_count": 51,
   "id": "945d4df2",
   "metadata": {},
   "outputs": [
    {
     "data": {
      "text/plain": [
       "array([[10, 11, 12],\n",
       "       [13, 14, 15],\n",
       "       [16, 17, 18]])"
      ]
     },
     "execution_count": 51,
     "metadata": {},
     "output_type": "execute_result"
    }
   ],
   "source": [
    "a3[1]"
   ]
  },
  {
   "cell_type": "code",
   "execution_count": 52,
   "id": "3d9fa68d",
   "metadata": {},
   "outputs": [
    {
     "data": {
      "text/plain": [
       "array([[[ 1,  2,  3],\n",
       "        [ 4,  5,  6],\n",
       "        [ 7,  8,  9]],\n",
       "\n",
       "       [[10, 11, 12],\n",
       "        [13, 14, 15],\n",
       "        [16, 17, 18]]])"
      ]
     },
     "execution_count": 52,
     "metadata": {},
     "output_type": "execute_result"
    }
   ],
   "source": [
    "a3"
   ]
  },
  {
   "cell_type": "code",
   "execution_count": 53,
   "id": "f3ea7bc2",
   "metadata": {},
   "outputs": [
    {
     "data": {
      "text/plain": [
       "array([[[ 1,  2],\n",
       "        [ 4,  5]],\n",
       "\n",
       "       [[10, 11],\n",
       "        [13, 14]]])"
      ]
     },
     "execution_count": 53,
     "metadata": {},
     "output_type": "execute_result"
    }
   ],
   "source": [
    "a3[:2,:2,:2]"
   ]
  },
  {
   "cell_type": "code",
   "execution_count": 54,
   "id": "9142eb3f",
   "metadata": {},
   "outputs": [],
   "source": [
    "a4 = np.random.randint(5.0 , size=(2,3,3,5),dtype=int)"
   ]
  },
  {
   "cell_type": "code",
   "execution_count": 55,
   "id": "d5666cd9",
   "metadata": {},
   "outputs": [
    {
     "data": {
      "text/plain": [
       "array([[[[3, 2, 2, 1, 2],\n",
       "         [1, 0, 1, 1, 3],\n",
       "         [2, 3, 4, 0, 1]],\n",
       "\n",
       "        [[0, 1, 3, 1, 3],\n",
       "         [3, 2, 1, 0, 4],\n",
       "         [0, 3, 4, 3, 1]],\n",
       "\n",
       "        [[2, 0, 3, 1, 4],\n",
       "         [0, 1, 1, 1, 3],\n",
       "         [0, 3, 1, 1, 4]]],\n",
       "\n",
       "\n",
       "       [[[3, 0, 1, 1, 3],\n",
       "         [0, 4, 1, 1, 4],\n",
       "         [2, 1, 4, 1, 2]],\n",
       "\n",
       "        [[4, 1, 3, 2, 2],\n",
       "         [3, 1, 0, 2, 4],\n",
       "         [3, 1, 1, 3, 2]],\n",
       "\n",
       "        [[0, 0, 3, 1, 0],\n",
       "         [3, 1, 0, 3, 3],\n",
       "         [1, 2, 4, 3, 2]]]])"
      ]
     },
     "execution_count": 55,
     "metadata": {},
     "output_type": "execute_result"
    }
   ],
   "source": [
    "a4"
   ]
  },
  {
   "cell_type": "code",
   "execution_count": 56,
   "id": "4530fa53",
   "metadata": {},
   "outputs": [
    {
     "data": {
      "text/plain": [
       "((2, 3, 3, 5), 4, 90, 2, numpy.ndarray)"
      ]
     },
     "execution_count": 56,
     "metadata": {},
     "output_type": "execute_result"
    }
   ],
   "source": [
    "a4.shape,a4.ndim,a4.size,len(a4),type(a4)"
   ]
  },
  {
   "cell_type": "code",
   "execution_count": 57,
   "id": "d4e5301d",
   "metadata": {},
   "outputs": [
    {
     "data": {
      "text/plain": [
       "166"
      ]
     },
     "execution_count": 57,
     "metadata": {},
     "output_type": "execute_result"
    }
   ],
   "source": [
    "a4.sum()"
   ]
  },
  {
   "cell_type": "code",
   "execution_count": 58,
   "id": "98af9182",
   "metadata": {},
   "outputs": [
    {
     "data": {
      "text/plain": [
       "array([[[[3],\n",
       "         [1],\n",
       "         [2]],\n",
       "\n",
       "        [[0],\n",
       "         [3],\n",
       "         [0]],\n",
       "\n",
       "        [[2],\n",
       "         [0],\n",
       "         [0]]],\n",
       "\n",
       "\n",
       "       [[[3],\n",
       "         [0],\n",
       "         [2]],\n",
       "\n",
       "        [[4],\n",
       "         [3],\n",
       "         [3]],\n",
       "\n",
       "        [[0],\n",
       "         [3],\n",
       "         [1]]]])"
      ]
     },
     "execution_count": 58,
     "metadata": {},
     "output_type": "execute_result"
    }
   ],
   "source": [
    "# slice the 4 first elements in the array\n",
    "\n",
    "a4[:,:,:,:1]"
   ]
  },
  {
   "cell_type": "markdown",
   "id": "cd327f30",
   "metadata": {},
   "source": [
    "# Manipulating & Comparing Data"
   ]
  },
  {
   "cell_type": "markdown",
   "id": "0d5723ef",
   "metadata": {},
   "source": [
    "## Arithmetic "
   ]
  },
  {
   "cell_type": "code",
   "execution_count": 59,
   "id": "5d99b855",
   "metadata": {},
   "outputs": [
    {
     "data": {
      "text/plain": [
       "array([1, 2, 3])"
      ]
     },
     "execution_count": 59,
     "metadata": {},
     "output_type": "execute_result"
    }
   ],
   "source": [
    "a1"
   ]
  },
  {
   "cell_type": "code",
   "execution_count": 60,
   "id": "b14b04c3",
   "metadata": {},
   "outputs": [
    {
     "data": {
      "text/plain": [
       "array([[1, 1, 1],\n",
       "       [1, 1, 1],\n",
       "       [1, 1, 1],\n",
       "       [1, 1, 1],\n",
       "       [1, 1, 1]])"
      ]
     },
     "execution_count": 60,
     "metadata": {},
     "output_type": "execute_result"
    }
   ],
   "source": [
    "ones = np.ones((5,3),dtype=int)\n",
    "ones"
   ]
  },
  {
   "cell_type": "code",
   "execution_count": 61,
   "id": "0b00ad5c",
   "metadata": {},
   "outputs": [
    {
     "data": {
      "text/plain": [
       "array([[2, 3, 4],\n",
       "       [2, 3, 4],\n",
       "       [2, 3, 4],\n",
       "       [2, 3, 4],\n",
       "       [2, 3, 4]])"
      ]
     },
     "execution_count": 61,
     "metadata": {},
     "output_type": "execute_result"
    }
   ],
   "source": [
    "a1 + ones"
   ]
  },
  {
   "cell_type": "code",
   "execution_count": 62,
   "id": "706d87cd",
   "metadata": {},
   "outputs": [
    {
     "data": {
      "text/plain": [
       "array([[0, 1, 2],\n",
       "       [0, 1, 2],\n",
       "       [0, 1, 2],\n",
       "       [0, 1, 2],\n",
       "       [0, 1, 2]])"
      ]
     },
     "execution_count": 62,
     "metadata": {},
     "output_type": "execute_result"
    }
   ],
   "source": [
    "a1 - ones"
   ]
  },
  {
   "cell_type": "code",
   "execution_count": 63,
   "id": "1d9ef740",
   "metadata": {},
   "outputs": [
    {
     "data": {
      "text/plain": [
       "array([[1, 2, 3],\n",
       "       [1, 2, 3],\n",
       "       [1, 2, 3],\n",
       "       [1, 2, 3],\n",
       "       [1, 2, 3]])"
      ]
     },
     "execution_count": 63,
     "metadata": {},
     "output_type": "execute_result"
    }
   ],
   "source": [
    "a1* ones"
   ]
  },
  {
   "cell_type": "code",
   "execution_count": 64,
   "id": "84bb9b5c",
   "metadata": {},
   "outputs": [
    {
     "data": {
      "text/plain": [
       "array([[ 1.2, 10.6,  6. ],\n",
       "       [ 5.6, 14. , 20.7]])"
      ]
     },
     "execution_count": 64,
     "metadata": {},
     "output_type": "execute_result"
    }
   ],
   "source": [
    "a1 * a2"
   ]
  },
  {
   "cell_type": "code",
   "execution_count": 65,
   "id": "e04f8a0b",
   "metadata": {},
   "outputs": [
    {
     "data": {
      "text/plain": [
       "array([[0.83333333, 0.37735849, 1.5       ],\n",
       "       [0.17857143, 0.28571429, 0.43478261]])"
      ]
     },
     "execution_count": 65,
     "metadata": {},
     "output_type": "execute_result"
    }
   ],
   "source": [
    "a1 / a2"
   ]
  },
  {
   "cell_type": "code",
   "execution_count": 66,
   "id": "58d94384",
   "metadata": {
    "scrolled": true
   },
   "outputs": [
    {
     "data": {
      "text/plain": [
       "array([[[ 36.4,  44.9,  53.4],\n",
       "        [112.9, 121.4, 129.9]],\n",
       "\n",
       "       [[ 81.9, 101.4, 120.9],\n",
       "        [257.4, 276.9, 296.4]]])"
      ]
     },
     "execution_count": 66,
     "metadata": {},
     "output_type": "execute_result"
    }
   ],
   "source": [
    "np.dot(a2,a3)"
   ]
  },
  {
   "cell_type": "code",
   "execution_count": 67,
   "id": "c9eb5ebe",
   "metadata": {},
   "outputs": [
    {
     "data": {
      "text/plain": [
       "array([[1., 2., 0.],\n",
       "       [5., 3., 2.]])"
      ]
     },
     "execution_count": 67,
     "metadata": {},
     "output_type": "execute_result"
    }
   ],
   "source": [
    "a2 // a1"
   ]
  },
  {
   "cell_type": "code",
   "execution_count": 68,
   "id": "24213a62",
   "metadata": {},
   "outputs": [
    {
     "data": {
      "text/plain": [
       "array([[ 1.44, 28.09,  4.  ],\n",
       "       [31.36, 49.  , 47.61]])"
      ]
     },
     "execution_count": 68,
     "metadata": {},
     "output_type": "execute_result"
    }
   ],
   "source": [
    "a2**2"
   ]
  },
  {
   "cell_type": "code",
   "execution_count": 69,
   "id": "85a8dcc3",
   "metadata": {},
   "outputs": [
    {
     "data": {
      "text/plain": [
       "array([[2, 3, 4],\n",
       "       [2, 3, 4],\n",
       "       [2, 3, 4],\n",
       "       [2, 3, 4],\n",
       "       [2, 3, 4]])"
      ]
     },
     "execution_count": 69,
     "metadata": {},
     "output_type": "execute_result"
    }
   ],
   "source": [
    "np.add(a1,ones)"
   ]
  },
  {
   "cell_type": "code",
   "execution_count": 70,
   "id": "fa79a373",
   "metadata": {},
   "outputs": [
    {
     "data": {
      "text/plain": [
       "array([1, 0, 1], dtype=int32)"
      ]
     },
     "execution_count": 70,
     "metadata": {},
     "output_type": "execute_result"
    }
   ],
   "source": [
    "a1%2"
   ]
  },
  {
   "cell_type": "code",
   "execution_count": 71,
   "id": "c21e3773",
   "metadata": {},
   "outputs": [
    {
     "data": {
      "text/plain": [
       "array([ 2.71828183,  7.3890561 , 20.08553692])"
      ]
     },
     "execution_count": 71,
     "metadata": {},
     "output_type": "execute_result"
    }
   ],
   "source": [
    "np.exp(a1)"
   ]
  },
  {
   "cell_type": "code",
   "execution_count": 72,
   "id": "2ce863cb",
   "metadata": {},
   "outputs": [
    {
     "data": {
      "text/plain": [
       "array([1, 2, 3])"
      ]
     },
     "execution_count": 72,
     "metadata": {},
     "output_type": "execute_result"
    }
   ],
   "source": [
    "a1"
   ]
  },
  {
   "cell_type": "code",
   "execution_count": 73,
   "id": "6c7c7f3b",
   "metadata": {},
   "outputs": [
    {
     "data": {
      "text/plain": [
       "array([0.        , 0.69314718, 1.09861229])"
      ]
     },
     "execution_count": 73,
     "metadata": {},
     "output_type": "execute_result"
    }
   ],
   "source": [
    "np.log(a1)"
   ]
  },
  {
   "cell_type": "code",
   "execution_count": 74,
   "id": "eb46c015",
   "metadata": {},
   "outputs": [
    {
     "data": {
      "text/plain": [
       "0.4804530131419524"
      ]
     },
     "execution_count": 74,
     "metadata": {},
     "output_type": "execute_result"
    }
   ],
   "source": [
    "0.69314718**2"
   ]
  },
  {
   "cell_type": "code",
   "execution_count": 75,
   "id": "9bf92bd2",
   "metadata": {},
   "outputs": [
    {
     "data": {
      "text/plain": [
       "0.4804530131419524"
      ]
     },
     "execution_count": 75,
     "metadata": {},
     "output_type": "execute_result"
    }
   ],
   "source": [
    "0.69314718 * 0.69314718"
   ]
  },
  {
   "cell_type": "code",
   "execution_count": 76,
   "id": "b4c59573",
   "metadata": {},
   "outputs": [
    {
     "data": {
      "text/plain": [
       "1.38629436"
      ]
     },
     "execution_count": 76,
     "metadata": {},
     "output_type": "execute_result"
    }
   ],
   "source": [
    "0.69314718 * 2"
   ]
  },
  {
   "cell_type": "markdown",
   "id": "375413a2",
   "metadata": {},
   "source": [
    "## Aggregation \n",
    "### Aggregation = performing the same operation on a number things"
   ]
  },
  {
   "cell_type": "code",
   "execution_count": 77,
   "id": "22b86954",
   "metadata": {},
   "outputs": [
    {
     "data": {
      "text/plain": [
       "[1, 2, 3, 1, 5]"
      ]
     },
     "execution_count": 77,
     "metadata": {},
     "output_type": "execute_result"
    }
   ],
   "source": [
    "list = [1,2,3,1,5]\n",
    "list"
   ]
  },
  {
   "cell_type": "code",
   "execution_count": 78,
   "id": "eb9c6697",
   "metadata": {},
   "outputs": [
    {
     "data": {
      "text/plain": [
       "12"
      ]
     },
     "execution_count": 78,
     "metadata": {},
     "output_type": "execute_result"
    }
   ],
   "source": [
    "sum(list)"
   ]
  },
  {
   "cell_type": "code",
   "execution_count": 79,
   "id": "6a905890",
   "metadata": {},
   "outputs": [
    {
     "data": {
      "text/plain": [
       "(6, 6)"
      ]
     },
     "execution_count": 79,
     "metadata": {},
     "output_type": "execute_result"
    }
   ],
   "source": [
    "np.sum(a1),sum(a1)"
   ]
  },
  {
   "cell_type": "markdown",
   "id": "9d23c7cb",
   "metadata": {},
   "source": [
    "Use Python methods (``sum()``) on Python DataTypes and Use Numpy Methods on Numpy DataTypes"
   ]
  },
  {
   "cell_type": "code",
   "execution_count": 80,
   "id": "428f2a37",
   "metadata": {},
   "outputs": [],
   "source": [
    "# Create a Massive Array"
   ]
  },
  {
   "cell_type": "code",
   "execution_count": 81,
   "id": "8613a4d1",
   "metadata": {},
   "outputs": [
    {
     "data": {
      "text/plain": [
       "array([1.41277822e-01, 6.25250060e-01, 3.24856669e-01, 7.11735878e-01,\n",
       "       7.40406513e-01, 4.22587094e-01, 4.07367024e-01, 4.30136949e-01,\n",
       "       6.17990941e-01, 1.23879170e-01, 4.89372127e-01, 8.91125412e-01,\n",
       "       6.17447286e-01, 4.70975773e-01, 7.34711716e-02, 9.69922587e-02,\n",
       "       5.18452191e-02, 5.19782016e-01, 1.92216567e-01, 5.77222515e-01,\n",
       "       5.54073076e-01, 1.05657525e-01, 6.73345780e-01, 2.79253630e-02,\n",
       "       2.89620988e-02, 2.13779289e-01, 6.53538440e-01, 5.94891381e-02,\n",
       "       4.67113005e-01, 5.22840490e-01, 1.60156145e-01, 2.34511945e-01,\n",
       "       3.08475335e-01, 6.94164890e-01, 3.67188229e-01, 8.26691989e-01,\n",
       "       5.16479903e-02, 4.81629230e-01, 3.74209220e-01, 3.72128480e-01,\n",
       "       4.30630832e-01, 9.93947370e-01, 9.17775848e-01, 6.40593699e-01,\n",
       "       3.98065345e-01, 6.00636383e-01, 1.43122687e-01, 9.91664623e-02,\n",
       "       1.07837136e-01, 7.30777547e-01, 8.32919410e-01, 2.29415207e-01,\n",
       "       7.94639643e-01, 3.40681167e-01, 1.19540192e-01, 6.17482657e-01,\n",
       "       3.53624111e-01, 4.39445785e-01, 2.46166106e-01, 7.92233796e-01,\n",
       "       3.68708789e-01, 9.62201322e-01, 9.29698194e-02, 8.00112680e-01,\n",
       "       9.02182074e-01, 7.62855902e-01, 2.02426174e-01, 7.95678515e-02,\n",
       "       8.71051034e-01, 3.41202327e-01, 2.46501772e-01, 1.81453443e-01,\n",
       "       8.95899931e-01, 5.34445402e-01, 8.74201456e-02, 5.03505201e-01,\n",
       "       3.99314015e-01, 5.62106284e-01, 4.06326952e-01, 5.42484803e-01,\n",
       "       3.06491473e-01, 5.93861348e-02, 9.47840639e-01, 5.23011717e-01,\n",
       "       1.88299219e-01, 5.10678566e-03, 6.55941666e-01, 5.33776412e-01,\n",
       "       4.65917535e-01, 5.77725715e-01, 1.61305020e-01, 9.31031008e-01,\n",
       "       9.35429180e-01, 7.97364730e-01, 4.69790626e-01, 6.68438705e-01,\n",
       "       6.92921279e-02, 7.78117124e-01, 1.12575629e-01, 8.07285316e-01,\n",
       "       3.82473696e-01, 4.38567570e-01, 4.33231971e-01, 5.63288614e-01,\n",
       "       7.56345342e-01, 1.25487458e-01, 8.87404563e-02, 5.46329280e-01,\n",
       "       9.30352407e-01, 9.47298489e-01, 9.14707284e-01, 7.73259634e-01,\n",
       "       1.33797890e-01, 5.51241597e-01, 1.74211822e-01, 8.77189984e-01,\n",
       "       2.89613188e-01, 8.39554564e-01, 3.43476802e-01, 9.71374053e-01,\n",
       "       6.73207089e-01, 8.05694376e-01, 2.08443289e-01, 1.63687346e-02,\n",
       "       8.13433485e-01, 5.48272253e-01, 8.50292634e-01, 1.39545657e-01,\n",
       "       2.73664838e-01, 5.60868633e-01, 9.53720130e-01, 5.19699573e-01,\n",
       "       9.05348002e-02, 2.06503082e-01, 3.45101727e-01, 9.46098538e-01,\n",
       "       1.03664656e-01, 3.00791311e-01, 5.41945673e-01, 2.94506482e-01,\n",
       "       8.20271283e-01, 7.39605033e-01, 2.21321905e-01, 7.45860158e-01,\n",
       "       6.89786072e-01, 6.71793874e-01, 4.52732070e-01, 8.25093240e-01,\n",
       "       2.18334658e-01, 6.71950295e-01, 2.95932107e-01, 4.04554120e-01,\n",
       "       8.72037780e-01, 1.77668726e-01, 5.91569556e-02, 1.13671570e-01,\n",
       "       1.28233614e-01, 3.54847847e-01, 2.06281840e-01, 2.02807619e-01,\n",
       "       5.69743025e-01, 2.40916453e-01, 1.39853004e-01, 8.02563228e-01,\n",
       "       3.15915722e-01, 9.11027274e-01, 5.12806839e-01, 7.32377215e-01,\n",
       "       4.10834887e-01, 3.77699767e-01, 1.32426600e-02, 5.05793481e-01,\n",
       "       3.46507860e-01, 3.57161587e-01, 8.85383097e-01, 8.18902274e-02,\n",
       "       5.76865269e-01, 4.48750086e-01, 1.13242132e-01, 8.87741899e-01,\n",
       "       7.29090290e-01, 6.45408351e-01, 2.09585173e-01, 4.32496308e-01,\n",
       "       7.31880441e-02, 5.27815695e-01, 1.32329473e-01, 9.62111712e-01,\n",
       "       1.32672364e-01, 4.00164758e-01, 1.21105629e-01, 4.30849533e-01,\n",
       "       4.05118938e-01, 3.64074087e-01, 8.38901682e-02, 9.91721561e-01,\n",
       "       3.13198377e-01, 3.44332387e-01, 4.70295984e-01, 8.09829008e-01,\n",
       "       1.48160127e-02, 8.91568670e-01, 3.02955578e-01, 9.41354827e-01,\n",
       "       2.06762877e-01, 5.33138182e-01, 7.34718314e-01, 4.58141815e-01,\n",
       "       7.03545200e-01, 7.97666748e-01, 4.95950756e-01, 7.19808298e-01,\n",
       "       2.59045527e-01, 8.93224733e-01, 9.41417795e-01, 8.23068738e-01,\n",
       "       3.94778917e-02, 6.58821887e-01, 8.37704484e-01, 8.15080514e-01,\n",
       "       3.76603746e-01, 6.23498578e-01, 4.61458649e-01, 2.14980743e-01,\n",
       "       4.98878636e-01, 1.66299191e-01, 6.62026989e-01, 3.56220792e-01,\n",
       "       8.75566866e-01, 8.80782061e-01, 1.48945062e-01, 3.80796596e-01,\n",
       "       1.50325371e-01, 7.59207002e-01, 3.36653452e-01, 8.13898187e-01,\n",
       "       4.72027706e-01, 8.93594080e-01, 5.23975253e-01, 7.28044496e-01,\n",
       "       4.03628902e-01, 8.86311925e-01, 5.95341195e-01, 3.73628415e-01,\n",
       "       1.85383598e-02, 4.73656153e-01, 6.66928420e-01, 4.75736654e-01,\n",
       "       1.04059769e-01, 3.88529352e-01, 2.40368277e-01, 4.11184564e-01,\n",
       "       6.76377104e-01, 3.78242003e-01, 5.75294647e-01, 1.68418568e-01,\n",
       "       2.34142985e-01, 5.89205090e-01, 5.87298520e-01, 3.36860322e-01,\n",
       "       2.73144900e-01, 2.77870765e-01, 4.44002523e-01, 8.11835701e-01,\n",
       "       4.01023280e-01, 7.36430724e-01, 2.99476220e-01, 1.38237665e-01,\n",
       "       4.10464932e-01, 4.76671766e-01, 8.06331300e-01, 9.14286337e-01,\n",
       "       5.23126098e-01, 2.67145410e-02, 7.12837092e-01, 9.36199072e-02,\n",
       "       2.60735702e-01, 8.96425804e-01, 4.71281312e-01, 9.11272028e-01,\n",
       "       2.08379926e-01, 4.85208263e-01, 9.23708536e-01, 6.36783441e-01,\n",
       "       4.49303057e-01, 7.40507792e-01, 2.76887549e-01, 9.09036425e-01,\n",
       "       6.62477633e-01, 4.67090008e-01, 9.32667981e-01, 2.49354351e-01,\n",
       "       1.39408284e-01, 6.38022841e-01, 7.49446440e-01, 8.02069447e-01,\n",
       "       9.10216684e-01, 3.05811329e-01, 7.02775010e-01, 7.03207705e-01,\n",
       "       6.39418842e-02, 2.32475526e-01, 1.54688609e-01, 7.48545048e-01,\n",
       "       2.69419744e-01, 8.53934401e-02, 3.58785395e-01, 8.15737768e-01,\n",
       "       7.69679029e-01, 8.53866841e-01, 2.62977763e-01, 8.90691922e-01,\n",
       "       1.86246588e-01, 3.86858153e-01, 1.52778806e-01, 9.21722126e-01,\n",
       "       4.58914111e-01, 8.90894676e-01, 3.05159774e-01, 9.88339527e-01,\n",
       "       1.99081417e-01, 2.22364706e-01, 5.48408784e-01, 2.46095488e-02,\n",
       "       1.11967026e-01, 7.08023619e-01, 8.12989156e-01, 7.60834527e-01,\n",
       "       9.59856638e-02, 7.60327777e-01, 2.20443898e-01, 2.14510918e-01,\n",
       "       4.19098927e-01, 2.79211745e-01, 8.28661430e-01, 8.63933240e-01,\n",
       "       8.40141127e-01, 6.32882648e-01, 5.38783399e-01, 3.20911005e-02,\n",
       "       2.13689012e-01, 1.14436654e-01, 6.35963166e-03, 7.54436499e-01,\n",
       "       7.79641413e-01, 4.59556728e-02, 7.03958437e-01, 1.50342090e-01,\n",
       "       6.57613559e-01, 2.44113648e-01, 3.11694804e-01, 1.35561618e-01,\n",
       "       8.68865149e-01, 8.24417837e-01, 3.41578346e-01, 3.74775225e-01,\n",
       "       1.58290872e-01, 7.05699045e-01, 1.79186180e-01, 1.09571179e-01,\n",
       "       5.27233868e-01, 5.74997695e-01, 7.55912148e-01, 4.52913737e-01,\n",
       "       1.29365125e-01, 3.98429380e-01, 2.46553682e-01, 8.14973711e-01,\n",
       "       4.93361649e-01, 5.07539141e-01, 1.43226999e-01, 2.68874176e-01,\n",
       "       7.01950434e-02, 1.08934003e-01, 7.26264454e-02, 3.98222681e-01,\n",
       "       8.99264315e-01, 2.25942465e-01, 2.28445969e-01, 7.77682151e-01,\n",
       "       7.55514679e-01, 4.54879559e-01, 2.67332417e-01, 8.12120207e-01,\n",
       "       1.79414888e-01, 8.55045015e-01, 6.27526670e-01, 1.38448832e-01,\n",
       "       6.14829910e-01, 2.18029973e-01, 6.77972388e-01, 2.55129693e-01,\n",
       "       1.22181156e-01, 4.84459495e-01, 7.00181047e-01, 4.41235949e-01,\n",
       "       3.93640079e-01, 4.60932043e-01, 3.99135904e-01, 2.27551185e-01,\n",
       "       5.32545992e-01, 2.74953871e-01, 1.38940758e-01, 5.35380209e-01,\n",
       "       4.74233538e-01, 6.55042405e-01, 3.91057573e-01, 9.22763644e-01,\n",
       "       7.78662707e-02, 9.72711468e-01, 8.19484001e-01, 6.35323869e-01,\n",
       "       4.44779379e-01, 3.18371479e-02, 5.35881813e-01, 8.78527097e-01,\n",
       "       9.41469414e-01, 7.06033430e-02, 2.96425452e-01, 9.13251050e-01,\n",
       "       5.14726522e-01, 1.33752273e-01, 6.16927159e-01, 9.81888836e-01,\n",
       "       7.16143734e-01, 7.41954254e-01, 3.19232986e-01, 4.59438335e-01,\n",
       "       9.67206134e-01, 3.73829293e-01, 1.24235332e-01, 5.18964322e-01,\n",
       "       7.80481506e-01, 7.54008797e-01, 1.04595123e-01, 8.28239039e-01,\n",
       "       9.54535881e-02, 6.88922331e-01, 8.71011150e-01, 7.86889222e-01,\n",
       "       2.56642287e-01, 1.86460669e-01, 9.27803519e-01, 4.32945128e-01,\n",
       "       1.93110659e-02, 8.31908643e-01, 3.92193204e-02, 7.07748898e-01,\n",
       "       6.98576555e-01, 9.70712432e-01, 2.33424328e-01, 1.96945532e-01,\n",
       "       4.40837603e-02, 7.99421161e-01, 4.99219323e-01, 4.43997119e-01,\n",
       "       3.50718774e-01, 1.97242560e-01, 6.74206113e-01, 2.63276129e-01,\n",
       "       2.71709888e-02, 9.37113897e-01, 3.26137803e-01, 8.90281154e-01,\n",
       "       6.63392925e-01, 8.61356679e-02, 3.39243261e-02, 6.13703578e-01,\n",
       "       7.66069259e-01, 9.57712998e-02, 7.71266038e-01, 5.29000502e-01,\n",
       "       1.88598635e-01, 1.34447942e-03, 3.07323642e-01, 1.88695998e-01,\n",
       "       5.50774974e-01, 5.46981682e-01, 5.97527523e-01, 7.27292468e-01,\n",
       "       4.69117914e-01, 4.26423244e-01, 8.69154382e-01, 5.56347334e-01,\n",
       "       7.53347307e-02, 2.89300553e-01, 9.91981564e-01, 8.54421104e-01,\n",
       "       7.62251270e-01, 1.37489122e-01, 7.69148525e-01, 3.51286641e-01,\n",
       "       3.87153359e-01, 3.95707580e-01, 1.96528564e-01, 1.37912736e-01,\n",
       "       8.51142450e-01, 1.41056833e-01, 3.16380323e-01, 1.34770504e-01,\n",
       "       2.99365088e-01, 9.29482681e-01, 6.01745739e-02, 5.29412737e-01,\n",
       "       8.97461293e-01, 5.18936684e-01, 3.41977984e-02, 7.97782796e-02,\n",
       "       5.72857922e-01, 1.53504798e-01, 8.68826397e-01, 8.73862342e-01,\n",
       "       1.58623174e-01, 4.44496351e-02, 8.04410865e-01, 4.45656588e-01,\n",
       "       5.47115532e-01, 3.09440271e-01, 5.65914018e-01, 6.45747115e-01,\n",
       "       8.55925097e-01, 6.40737812e-01, 2.89577722e-01, 2.45380793e-01,\n",
       "       5.91542539e-01, 8.18007091e-01, 9.44948055e-01, 7.63793599e-01,\n",
       "       4.51312649e-01, 1.03497757e-01, 5.37855517e-02, 2.60509987e-01,\n",
       "       9.66361941e-01, 7.46993462e-01, 9.06041962e-01, 3.74621073e-01,\n",
       "       6.37032709e-01, 3.95336831e-01, 3.11614914e-01, 3.50980717e-01,\n",
       "       8.35915429e-01, 3.29858846e-01, 8.87094889e-01, 6.33066423e-01,\n",
       "       1.00619648e-02, 5.44947988e-01, 3.42804198e-01, 4.82657798e-01,\n",
       "       7.29385795e-01, 8.37657674e-01, 9.37622758e-01, 5.50989415e-01,\n",
       "       5.90414226e-01, 3.48929586e-01, 2.34565526e-01, 2.21822146e-01,\n",
       "       4.48531516e-01, 1.86141718e-02, 6.17095710e-01, 1.99704038e-01,\n",
       "       7.30215431e-01, 4.64014370e-01, 1.45680897e-01, 4.31070098e-01,\n",
       "       3.82670999e-02, 5.63798539e-01, 2.44983159e-01, 7.80115987e-01,\n",
       "       2.01683639e-01, 9.42923348e-01, 1.57584138e-01, 9.73489016e-01,\n",
       "       6.45870837e-02, 4.75646531e-01, 9.45354619e-01, 3.60677625e-01,\n",
       "       8.23142388e-01, 9.71020897e-01, 8.88957171e-01, 7.14056645e-01,\n",
       "       1.75059889e-01, 7.78554838e-01, 7.14882078e-01, 2.40649918e-02,\n",
       "       1.93088461e-01, 7.79158185e-01, 7.11717755e-01, 8.47773765e-01,\n",
       "       2.95209927e-01, 6.13694647e-01, 5.76511471e-01, 7.84361381e-01,\n",
       "       6.71414216e-01, 5.28719296e-01, 4.51712647e-01, 1.91818070e-02,\n",
       "       4.48626611e-02, 1.31380611e-01, 4.76423513e-01, 9.07218920e-01,\n",
       "       6.87088898e-02, 9.32573736e-01, 9.14277299e-01, 2.30800154e-01,\n",
       "       1.53886395e-01, 8.28322867e-01, 6.92104659e-01, 5.65279798e-01,\n",
       "       7.60077433e-01, 4.17058088e-01, 3.35075110e-01, 1.82141827e-01,\n",
       "       4.90589648e-01, 7.92595576e-01, 2.71281492e-01, 9.03533764e-01,\n",
       "       1.35715704e-01, 2.27607302e-01, 5.73611577e-01, 1.19336049e-01,\n",
       "       9.61467593e-02, 9.81218708e-01, 5.24625739e-01, 3.70715154e-01,\n",
       "       6.88706436e-01, 1.03218006e-02, 6.20035883e-01, 8.65775512e-01,\n",
       "       3.30926076e-01, 8.63043386e-01, 3.98103144e-01, 1.44957760e-01,\n",
       "       2.19731056e-01, 2.34223789e-01, 4.52082801e-01, 8.31283464e-01,\n",
       "       9.94510223e-01, 7.58041263e-01, 9.78290894e-01, 8.67375081e-01,\n",
       "       1.83742108e-01, 5.79783629e-02, 1.61463329e-01, 3.28291708e-01,\n",
       "       1.56411152e-01, 8.81987246e-01, 3.67159236e-02, 7.38271644e-01,\n",
       "       9.15995022e-01, 6.12616543e-01, 7.84427346e-01, 7.37517802e-02,\n",
       "       2.70057314e-01, 7.96727133e-01, 2.74122805e-01, 4.27363001e-01,\n",
       "       5.55256229e-01, 4.33340841e-01, 9.12285897e-01, 4.66903652e-01,\n",
       "       2.37058022e-01, 3.52767368e-01, 7.51156141e-01, 3.43339005e-01,\n",
       "       6.27932773e-01, 1.70488941e-01, 6.67192925e-01, 3.76605917e-01,\n",
       "       9.44405951e-01, 6.94536847e-01, 3.73302575e-01, 1.65641909e-01,\n",
       "       7.35300558e-01, 7.53833229e-01, 9.56798382e-01, 2.37059091e-01,\n",
       "       5.23383319e-01, 9.58742005e-01, 5.77319253e-01, 6.64967775e-03,\n",
       "       2.80826713e-01, 4.77961532e-01, 1.86419783e-02, 7.20850991e-01,\n",
       "       9.03971113e-01, 2.95711881e-01, 4.30158385e-01, 6.08330256e-01,\n",
       "       8.31871414e-01, 8.19075296e-01, 1.01400925e-01, 3.23466585e-01,\n",
       "       8.51848971e-01, 9.02046438e-01, 5.37712481e-01, 2.42595861e-01,\n",
       "       8.63495748e-01, 1.49255198e-01, 8.27341227e-01, 2.18812391e-01,\n",
       "       4.31873398e-01, 2.45873396e-01, 3.06941836e-01, 8.31764769e-01,\n",
       "       1.19868130e-01, 6.54116925e-01, 9.78237783e-01, 5.07743317e-01,\n",
       "       5.47916643e-01, 2.86960013e-01, 3.23189322e-01, 3.06392444e-01,\n",
       "       4.78086989e-01, 8.07142189e-01, 1.77267725e-01, 2.31987453e-01,\n",
       "       2.69026681e-01, 6.45506785e-01, 6.04419098e-01, 5.14591587e-01,\n",
       "       6.64535698e-01, 9.50251807e-01, 9.74107183e-01, 9.54618333e-01,\n",
       "       2.12951557e-01, 2.04174985e-01, 1.48939554e-01, 3.30430543e-01,\n",
       "       5.49867814e-01, 9.36034101e-02, 5.74421685e-01, 7.18833276e-01,\n",
       "       1.67296469e-01, 6.14541754e-01, 2.83162612e-01, 5.58667707e-02,\n",
       "       9.73616428e-01, 9.87235812e-01, 7.33945781e-01, 7.39546591e-01,\n",
       "       2.54732098e-01, 2.05520336e-01, 1.99374874e-01, 8.30152534e-02,\n",
       "       4.34079111e-01, 7.85633487e-01, 1.09191212e-01, 5.30497324e-01,\n",
       "       6.79177026e-01, 3.73452641e-02, 1.88794024e-01, 1.65455311e-01,\n",
       "       2.21063528e-01, 3.34360128e-01, 6.88539730e-01, 6.63826655e-01,\n",
       "       2.89590145e-01, 1.23634989e-01, 4.75535059e-01, 2.36274616e-01,\n",
       "       9.97940527e-01, 4.28814406e-01, 2.05059498e-01, 2.73310435e-01,\n",
       "       9.14377132e-01, 9.59520885e-01, 1.97085378e-01, 2.78954430e-01,\n",
       "       5.59198834e-02, 4.10110654e-01, 7.33905023e-01, 9.00523817e-01,\n",
       "       4.17429631e-01, 7.76480162e-01, 1.42106131e-01, 7.20183513e-01,\n",
       "       5.17701135e-01, 4.41942092e-01, 8.37299475e-01, 8.58583302e-01,\n",
       "       4.16343670e-01, 3.74287254e-01, 2.90925100e-01, 1.24200428e-01,\n",
       "       4.24964031e-02, 7.53405195e-01, 8.46741048e-01, 1.90336583e-02,\n",
       "       5.17887501e-01, 6.87399103e-01, 5.83399020e-01, 5.46850635e-01,\n",
       "       8.63544025e-01, 9.86593553e-01, 7.77103555e-01, 6.58466951e-01,\n",
       "       8.50384886e-01, 8.46383632e-01, 2.19163874e-01, 5.28460998e-01,\n",
       "       6.19428317e-01, 2.62404278e-01, 3.83186927e-01, 6.19019198e-01,\n",
       "       4.67531446e-01, 9.20273032e-02, 8.95407207e-01, 8.16045275e-01,\n",
       "       3.94408441e-02, 9.86901437e-01, 2.31116909e-01, 4.96704254e-01,\n",
       "       2.45987526e-01, 7.85195679e-01, 5.83201935e-01, 2.08825425e-01,\n",
       "       4.34559220e-01, 3.25588850e-01, 9.52273191e-01, 9.03216519e-01,\n",
       "       3.90500978e-01, 5.85931479e-01, 8.18878480e-01, 8.92151640e-01,\n",
       "       7.42342920e-01, 3.95160119e-01, 4.12021242e-02, 7.67666956e-01,\n",
       "       9.50891357e-01, 3.28212642e-01, 1.88318011e-01, 6.02372755e-02,\n",
       "       6.88184299e-01, 1.66642680e-01, 1.10689136e-01, 5.38097925e-01,\n",
       "       3.23441255e-01, 4.83892194e-01, 9.24359090e-01, 9.78941919e-01,\n",
       "       1.92945425e-01, 7.34476160e-01, 8.75497865e-01, 8.95819531e-02,\n",
       "       1.14339047e-01, 1.34327653e-01, 6.02391260e-01, 5.39112532e-01,\n",
       "       6.83766132e-01, 5.56292633e-01, 8.22683102e-01, 3.25122450e-01,\n",
       "       8.39248549e-01, 8.92485166e-01, 5.71037377e-01, 2.03753101e-01,\n",
       "       1.63846472e-01, 1.04793222e-01, 8.21764531e-01, 2.53059009e-01,\n",
       "       2.12191101e-01, 6.57418688e-01, 6.40070707e-01, 3.78880363e-01,\n",
       "       8.86664652e-01, 2.12062514e-01, 6.78838078e-01, 2.23203460e-01,\n",
       "       6.90257760e-01, 9.30526847e-02, 6.92767887e-01, 9.21880353e-01,\n",
       "       2.79658211e-01, 3.58338544e-01, 2.08975656e-01, 8.44871092e-01,\n",
       "       7.36392471e-01, 9.37322020e-01, 1.99419380e-02, 6.14305870e-01,\n",
       "       7.77076773e-01, 7.93718010e-01, 7.58149653e-01, 3.08755688e-01,\n",
       "       5.65214283e-01, 8.69428480e-01, 8.18947377e-01, 2.97345184e-01,\n",
       "       5.46755964e-01, 7.78328327e-01, 7.65927979e-01, 6.65625928e-01,\n",
       "       9.22765252e-01, 1.13478209e-01, 4.25923265e-01, 5.59969981e-02,\n",
       "       8.97636504e-01, 9.01839184e-01, 9.82752337e-02, 9.08524153e-01,\n",
       "       3.02083800e-01, 6.84499172e-01, 4.51866101e-01, 7.77038200e-01,\n",
       "       8.09039929e-01, 6.86216457e-01, 5.42867786e-01, 1.01306907e-01,\n",
       "       1.62784976e-01, 9.57704489e-01, 2.73046738e-01, 4.79496050e-01,\n",
       "       7.51262131e-01, 9.56808291e-01, 2.70879274e-01, 6.64318767e-01,\n",
       "       4.21105070e-01, 6.78291026e-01, 2.46423766e-01, 3.36235200e-01,\n",
       "       9.70656112e-01, 4.16868623e-01, 7.72342270e-01, 7.29085148e-01,\n",
       "       2.67332884e-01, 2.68492694e-01, 9.14382197e-02, 5.66710776e-02,\n",
       "       8.32712396e-01, 5.45730856e-01, 4.63428099e-01, 9.94753473e-01,\n",
       "       8.19609182e-01, 5.70239472e-01, 2.56100875e-01, 5.42780736e-01,\n",
       "       6.64105843e-01, 8.80535564e-01, 5.26892164e-01, 9.64077165e-01,\n",
       "       1.82995559e-01, 1.09081807e-01, 3.84017835e-01, 8.42818590e-01,\n",
       "       6.65456150e-01, 5.97546067e-01, 2.53224013e-01, 5.69517298e-01,\n",
       "       4.51454164e-01, 6.02509465e-01, 9.94474267e-01, 9.22611066e-01,\n",
       "       8.44697346e-01, 2.14293803e-01, 9.86808703e-01, 4.05372729e-01,\n",
       "       4.13706224e-01, 4.56184230e-01, 5.12062151e-01, 8.34980354e-01,\n",
       "       3.98373616e-01, 5.75295059e-01, 4.96609215e-01, 7.71256872e-02,\n",
       "       2.14992141e-01, 1.56849304e-01, 9.86625883e-01, 7.01248848e-02,\n",
       "       9.13290720e-01, 1.94123517e-01, 3.49301777e-01, 5.98688287e-01,\n",
       "       4.78682706e-01, 1.36320449e-01, 4.75160250e-01, 7.56541214e-01,\n",
       "       9.33240245e-01, 1.29244378e-01, 5.37041520e-02, 6.97625079e-01,\n",
       "       7.23940300e-01, 7.44871460e-01, 1.19859451e-04, 4.01145121e-01,\n",
       "       1.37170537e-01, 6.73642427e-01, 4.36584452e-01, 1.16434157e-01,\n",
       "       1.12244467e-01, 6.46681422e-01, 7.62108528e-01, 8.62951892e-01,\n",
       "       3.13645834e-01, 4.62700553e-02, 7.88995169e-01, 3.96557353e-01,\n",
       "       6.70824936e-01, 3.43592455e-01, 2.51951551e-02, 5.96220286e-02])"
      ]
     },
     "execution_count": 81,
     "metadata": {},
     "output_type": "execute_result"
    }
   ],
   "source": [
    "m_a = np.random.random(100)\n",
    "m_a"
   ]
  },
  {
   "cell_type": "code",
   "execution_count": 82,
   "id": "d2ac913f",
   "metadata": {},
   "outputs": [
    {
     "data": {
      "text/plain": [
       "array([0.14127782, 0.62525006, 0.32485667, 0.71173588, 0.74040651,\n",
       "       0.42258709, 0.40736702, 0.43013695, 0.61799094, 0.12387917])"
      ]
     },
     "execution_count": 82,
     "metadata": {},
     "output_type": "execute_result"
    }
   ],
   "source": [
    "m_a[:10]"
   ]
  },
  {
   "cell_type": "code",
   "execution_count": 83,
   "id": "9ecf62ba",
   "metadata": {},
   "outputs": [
    {
     "data": {
      "text/plain": [
       "490.7414977858527"
      ]
     },
     "execution_count": 83,
     "metadata": {},
     "output_type": "execute_result"
    }
   ],
   "source": [
    "sum(m_a)"
   ]
  },
  {
   "cell_type": "code",
   "execution_count": 84,
   "id": "5de4e9de",
   "metadata": {},
   "outputs": [
    {
     "name": "stdout",
     "output_type": "stream",
     "text": [
      "63.4 µs ± 380 ns per loop (mean ± std. dev. of 7 runs, 10,000 loops each)\n",
      "3.37 µs ± 21.3 ns per loop (mean ± std. dev. of 7 runs, 100,000 loops each)\n"
     ]
    }
   ],
   "source": [
    "%timeit sum(m_a) #how much it takes time to sum this big array Python Method\n",
    "%timeit np.sum(m_a) #Numpy Method"
   ]
  },
  {
   "cell_type": "code",
   "execution_count": 85,
   "id": "0a4d8cd5",
   "metadata": {},
   "outputs": [
    {
     "data": {
      "text/plain": [
       "array([[1.2, 5.3, 2. ],\n",
       "       [5.6, 7. , 6.9]])"
      ]
     },
     "execution_count": 85,
     "metadata": {},
     "output_type": "execute_result"
    }
   ],
   "source": [
    "a2"
   ]
  },
  {
   "cell_type": "code",
   "execution_count": 86,
   "id": "edc46a0b",
   "metadata": {},
   "outputs": [
    {
     "data": {
      "text/plain": [
       "4.666666666666667"
      ]
     },
     "execution_count": 86,
     "metadata": {},
     "output_type": "execute_result"
    }
   ],
   "source": [
    "np.mean(a2)"
   ]
  },
  {
   "cell_type": "code",
   "execution_count": 87,
   "id": "991a3aaf",
   "metadata": {},
   "outputs": [
    {
     "data": {
      "text/plain": [
       "2.266911751455907"
      ]
     },
     "execution_count": 87,
     "metadata": {},
     "output_type": "execute_result"
    }
   ],
   "source": [
    "np.std(a2)"
   ]
  },
  {
   "cell_type": "code",
   "execution_count": 88,
   "id": "d7672b15",
   "metadata": {},
   "outputs": [
    {
     "data": {
      "text/plain": [
       "5.138888888888888"
      ]
     },
     "execution_count": 88,
     "metadata": {},
     "output_type": "execute_result"
    }
   ],
   "source": [
    "#Variance \n",
    "np.var(a2)"
   ]
  },
  {
   "cell_type": "code",
   "execution_count": 89,
   "id": "dc950a43",
   "metadata": {},
   "outputs": [
    {
     "data": {
      "text/plain": [
       "2.266911751455907"
      ]
     },
     "execution_count": 89,
     "metadata": {},
     "output_type": "execute_result"
    }
   ],
   "source": [
    "# STD = square root of variance\n",
    "np.sqrt(np.var(a2))"
   ]
  },
  {
   "cell_type": "code",
   "execution_count": 90,
   "id": "1c917a29",
   "metadata": {},
   "outputs": [
    {
     "data": {
      "text/plain": [
       "(8366994.583333333, 2.0)"
      ]
     },
     "execution_count": 90,
     "metadata": {},
     "output_type": "execute_result"
    }
   ],
   "source": [
    "high_var_array = np.array( [1,100,1000,5000,7000,6000])\n",
    "low_var_array = np.array([1,5,4,3,2])\n",
    "\n",
    "np.var(high_var_array),np.var(low_var_array)"
   ]
  },
  {
   "cell_type": "code",
   "execution_count": 91,
   "id": "1ab1d237",
   "metadata": {},
   "outputs": [
    {
     "data": {
      "text/plain": [
       "(2892.5757696788746, 1.4142135623730951)"
      ]
     },
     "execution_count": 91,
     "metadata": {},
     "output_type": "execute_result"
    }
   ],
   "source": [
    "np.std(high_var_array) , np.std(low_var_array)"
   ]
  },
  {
   "cell_type": "code",
   "execution_count": 92,
   "id": "6256c546",
   "metadata": {},
   "outputs": [
    {
     "data": {
      "text/plain": [
       "(3183.5, 3.0)"
      ]
     },
     "execution_count": 92,
     "metadata": {},
     "output_type": "execute_result"
    }
   ],
   "source": [
    "np.mean(high_var_array),np.mean(low_var_array)"
   ]
  },
  {
   "cell_type": "code",
   "execution_count": 93,
   "id": "b633f00c",
   "metadata": {},
   "outputs": [
    {
     "data": {
      "text/plain": [
       "<function matplotlib.pyplot.show(close=None, block=None)>"
      ]
     },
     "execution_count": 93,
     "metadata": {},
     "output_type": "execute_result"
    },
    {
     "data": {
      "image/png": "[encoded data removed]",
      "text/plain": [
       "<Figure size 640x480 with 1 Axes>"
      ]
     },
     "metadata": {},
     "output_type": "display_data"
    }
   ],
   "source": [
    "%matplotlib inline\n",
    "\n",
    "import matplotlib.pyplot as plt\n",
    "plt.hist(low_var_array)\n",
    "plt.show"
   ]
  },
  {
   "cell_type": "code",
   "execution_count": 94,
   "id": "082ed5ad",
   "metadata": {},
   "outputs": [
    {
     "data": {
      "text/plain": [
       "(array([2., 1., 0., 0., 0., 0., 0., 1., 1., 1.]),\n",
       " array([1.0000e+00, 7.0090e+02, 1.4008e+03, 2.1007e+03, 2.8006e+03,\n",
       "        3.5005e+03, 4.2004e+03, 4.9003e+03, 5.6002e+03, 6.3001e+03,\n",
       "        7.0000e+03]),\n",
       " <BarContainer object of 10 artists>)"
      ]
     },
     "execution_count": 94,
     "metadata": {},
     "output_type": "execute_result"
    },
    {
     "data": {
      "image/png": "[encoded data removed]",
      "text/plain": [
       "<Figure size 640x480 with 1 Axes>"
      ]
     },
     "metadata": {},
     "output_type": "display_data"
    }
   ],
   "source": [
    "plt.hist(high_var_array)"
   ]
  },
  {
   "cell_type": "markdown",
   "id": "f14d49e3",
   "metadata": {},
   "source": [
    "# Reshaping & transposing"
   ]
  },
  {
   "cell_type": "code",
   "execution_count": 95,
   "id": "3ea5f6d0",
   "metadata": {},
   "outputs": [
    {
     "data": {
      "text/plain": [
       "(array([[1.2, 5.3, 2. ],\n",
       "        [5.6, 7. , 6.9]]),\n",
       " (2, 3))"
      ]
     },
     "execution_count": 95,
     "metadata": {},
     "output_type": "execute_result"
    }
   ],
   "source": [
    "a2 , a2.shape"
   ]
  },
  {
   "cell_type": "code",
   "execution_count": 96,
   "id": "df38c4f9",
   "metadata": {},
   "outputs": [
    {
     "data": {
      "text/plain": [
       "(array([[[ 1,  2,  3],\n",
       "         [ 4,  5,  6],\n",
       "         [ 7,  8,  9]],\n",
       " \n",
       "        [[10, 11, 12],\n",
       "         [13, 14, 15],\n",
       "         [16, 17, 18]]]),\n",
       " (2, 3, 3))"
      ]
     },
     "execution_count": 96,
     "metadata": {},
     "output_type": "execute_result"
    }
   ],
   "source": [
    "a3 , a3.shape"
   ]
  },
  {
   "cell_type": "code",
   "execution_count": 106,
   "id": "c116274a",
   "metadata": {},
   "outputs": [],
   "source": [
    "# a2*a3 ==> ValueError: operands could not be broadcast together with shapes (2,3) (2,3,3) "
   ]
  },
  {
   "cell_type": "code",
   "execution_count": 107,
   "id": "6e3679c5",
   "metadata": {},
   "outputs": [
    {
     "data": {
      "text/plain": [
       "(2, 3, 1)"
      ]
     },
     "execution_count": 107,
     "metadata": {},
     "output_type": "execute_result"
    }
   ],
   "source": [
    "a2.reshape(2,3,1).shape"
   ]
  },
  {
   "cell_type": "code",
   "execution_count": 108,
   "id": "b708fe5c",
   "metadata": {},
   "outputs": [],
   "source": [
    "a2_reshape = a2.reshape(2,3,1)"
   ]
  },
  {
   "cell_type": "code",
   "execution_count": 109,
   "id": "95744458",
   "metadata": {},
   "outputs": [
    {
     "data": {
      "text/plain": [
       "(2, 3, 3)"
      ]
     },
     "execution_count": 109,
     "metadata": {},
     "output_type": "execute_result"
    }
   ],
   "source": [
    "a3.shape"
   ]
  },
  {
   "cell_type": "code",
   "execution_count": 105,
   "id": "e40746e4",
   "metadata": {},
   "outputs": [
    {
     "data": {
      "text/plain": [
       "array([[[  1.2,   2.4,   3.6],\n",
       "        [ 21.2,  26.5,  31.8],\n",
       "        [ 14. ,  16. ,  18. ]],\n",
       "\n",
       "       [[ 56. ,  61.6,  67.2],\n",
       "        [ 91. ,  98. , 105. ],\n",
       "        [110.4, 117.3, 124.2]]])"
      ]
     },
     "execution_count": 105,
     "metadata": {},
     "output_type": "execute_result"
    }
   ],
   "source": [
    "a2_reshape*a3"
   ]
  },
  {
   "cell_type": "code",
   "execution_count": 113,
   "id": "6637ddbc",
   "metadata": {},
   "outputs": [],
   "source": [
    "# Transpose = swith axis"
   ]
  },
  {
   "cell_type": "code",
   "execution_count": 114,
   "id": "f41dfea5",
   "metadata": {},
   "outputs": [
    {
     "data": {
      "text/plain": [
       "array([[1.2, 5.3, 2. ],\n",
       "       [5.6, 7. , 6.9]])"
      ]
     },
     "execution_count": 114,
     "metadata": {},
     "output_type": "execute_result"
    }
   ],
   "source": [
    "a2"
   ]
  },
  {
   "cell_type": "code",
   "execution_count": 112,
   "id": "201083a6",
   "metadata": {},
   "outputs": [
    {
     "data": {
      "text/plain": [
       "array([[1.2, 5.6],\n",
       "       [5.3, 7. ],\n",
       "       [2. , 6.9]])"
      ]
     },
     "execution_count": 112,
     "metadata": {},
     "output_type": "execute_result"
    }
   ],
   "source": [
    "a2.T"
   ]
  },
  {
   "cell_type": "code",
   "execution_count": 115,
   "id": "ead40039",
   "metadata": {},
   "outputs": [
    {
     "data": {
      "text/plain": [
       "(3, 2)"
      ]
     },
     "execution_count": 115,
     "metadata": {},
     "output_type": "execute_result"
    }
   ],
   "source": [
    "a2.T.shape"
   ]
  },
  {
   "cell_type": "code",
   "execution_count": 117,
   "id": "5d6c15a7",
   "metadata": {},
   "outputs": [
    {
     "data": {
      "text/plain": [
       "(2, 3, 3)"
      ]
     },
     "execution_count": 117,
     "metadata": {},
     "output_type": "execute_result"
    }
   ],
   "source": [
    "a3.shape"
   ]
  },
  {
   "cell_type": "code",
   "execution_count": 118,
   "id": "bd34f1b0",
   "metadata": {},
   "outputs": [
    {
     "data": {
      "text/plain": [
       "array([[[ 1, 10],\n",
       "        [ 4, 13],\n",
       "        [ 7, 16]],\n",
       "\n",
       "       [[ 2, 11],\n",
       "        [ 5, 14],\n",
       "        [ 8, 17]],\n",
       "\n",
       "       [[ 3, 12],\n",
       "        [ 6, 15],\n",
       "        [ 9, 18]]])"
      ]
     },
     "execution_count": 118,
     "metadata": {},
     "output_type": "execute_result"
    }
   ],
   "source": [
    "a3.T"
   ]
  },
  {
   "cell_type": "markdown",
   "id": "b40e314f",
   "metadata": {},
   "source": [
    "# Dot Product"
   ]
  },
  {
   "cell_type": "code",
   "execution_count": 128,
   "id": "3cf2daea",
   "metadata": {},
   "outputs": [],
   "source": [
    "np.random.seed(10)\n",
    "\n",
    "m1 = np.random.randint(5,size=(5,3))\n",
    "m2 = np.random.randint(7,size=(5,3))"
   ]
  },
  {
   "cell_type": "code",
   "execution_count": 129,
   "id": "53d500cd",
   "metadata": {},
   "outputs": [
    {
     "data": {
      "text/plain": [
       "(array([[1, 4, 0],\n",
       "        [1, 3, 4],\n",
       "        [1, 0, 1],\n",
       "        [2, 0, 1],\n",
       "        [0, 2, 0]]),\n",
       " array([[6, 4, 3],\n",
       "        [0, 4, 3],\n",
       "        [6, 0, 3],\n",
       "        [2, 6, 1],\n",
       "        [0, 4, 6]]))"
      ]
     },
     "execution_count": 129,
     "metadata": {},
     "output_type": "execute_result"
    }
   ],
   "source": [
    "m1,m2"
   ]
  },
  {
   "cell_type": "code",
   "execution_count": 130,
   "id": "74d97af5",
   "metadata": {},
   "outputs": [
    {
     "data": {
      "text/plain": [
       "array([[ 6, 16,  0],\n",
       "       [ 0, 12, 12],\n",
       "       [ 6,  0,  3],\n",
       "       [ 4,  0,  1],\n",
       "       [ 0,  8,  0]])"
      ]
     },
     "execution_count": 130,
     "metadata": {},
     "output_type": "execute_result"
    }
   ],
   "source": [
    "m1*m2"
   ]
  },
  {
   "cell_type": "code",
   "execution_count": 131,
   "id": "190c0357",
   "metadata": {},
   "outputs": [
    {
     "data": {
      "text/plain": [
       "array([[ 6, 16,  0],\n",
       "       [ 0, 12, 12],\n",
       "       [ 6,  0,  3],\n",
       "       [ 4,  0,  1],\n",
       "       [ 0,  8,  0]])"
      ]
     },
     "execution_count": 131,
     "metadata": {},
     "output_type": "execute_result"
    }
   ],
   "source": [
    "# Element-wise multiplication (Hadamard product)\n",
    "m1*m2"
   ]
  },
  {
   "cell_type": "code",
   "execution_count": 132,
   "id": "feeda181",
   "metadata": {},
   "outputs": [
    {
     "ename": "ValueError",
     "evalue": "shapes (5,3) and (5,3) not aligned: 3 (dim 1) != 5 (dim 0)",
     "output_type": "error",
     "traceback": [
      "\u001b[1;31m---------------------------------------------------------------------------\u001b[0m",
      "\u001b[1;31mValueError\u001b[0m                                Traceback (most recent call last)",
      "Cell \u001b[1;32mIn[132], line 1\u001b[0m\n\u001b[1;32m----> 1\u001b[0m \u001b[43mnp\u001b[49m\u001b[38;5;241;43m.\u001b[39;49m\u001b[43mdot\u001b[49m\u001b[43m(\u001b[49m\u001b[43mm1\u001b[49m\u001b[43m,\u001b[49m\u001b[43mm2\u001b[49m\u001b[43m)\u001b[49m\n",
      "File \u001b[1;32m<__array_function__ internals>:180\u001b[0m, in \u001b[0;36mdot\u001b[1;34m(*args, **kwargs)\u001b[0m\n",
      "\u001b[1;31mValueError\u001b[0m: shapes (5,3) and (5,3) not aligned: 3 (dim 1) != 5 (dim 0)"
     ]
    }
   ],
   "source": [
    "# np.dot(m1,m2) => ValueError: shapes (5,3) and (5,3) not aligned: 3 (dim 1) != 5 (dim 0)"
   ]
  },
  {
   "cell_type": "code",
   "execution_count": 133,
   "id": "2436b835",
   "metadata": {},
   "outputs": [
    {
     "data": {
      "text/plain": [
       "array([[16, 20, 11],\n",
       "       [24, 36, 33],\n",
       "       [ 8, 22, 16]])"
      ]
     },
     "execution_count": 133,
     "metadata": {},
     "output_type": "execute_result"
    }
   ],
   "source": [
    "#dot product\n",
    "np.dot(m1.T,m2)"
   ]
  },
  {
   "cell_type": "code",
   "execution_count": 134,
   "id": "9b1f88c5",
   "metadata": {},
   "outputs": [
    {
     "data": {
      "text/plain": [
       "((3, 5), (5, 3))"
      ]
     },
     "execution_count": 134,
     "metadata": {},
     "output_type": "execute_result"
    }
   ],
   "source": [
    "m1.T.shape , m2.shape"
   ]
  },
  {
   "cell_type": "code",
   "execution_count": 135,
   "id": "f53d35f8",
   "metadata": {},
   "outputs": [],
   "source": [
    "m3 = np.dot(m1.T,m2)"
   ]
  },
  {
   "cell_type": "code",
   "execution_count": 136,
   "id": "0a78ff70",
   "metadata": {},
   "outputs": [
    {
     "data": {
      "text/plain": [
       "array([[16, 24,  8],\n",
       "       [20, 36, 22],\n",
       "       [11, 33, 16]])"
      ]
     },
     "execution_count": 136,
     "metadata": {},
     "output_type": "execute_result"
    }
   ],
   "source": [
    "m3.T"
   ]
  },
  {
   "cell_type": "code",
   "execution_count": 137,
   "id": "ae658734",
   "metadata": {},
   "outputs": [
    {
     "data": {
      "text/plain": [
       "(3, 3)"
      ]
     },
     "execution_count": 137,
     "metadata": {},
     "output_type": "execute_result"
    }
   ],
   "source": [
    "m3.shape"
   ]
  },
  {
   "cell_type": "code",
   "execution_count": 138,
   "id": "9a332d6d",
   "metadata": {},
   "outputs": [],
   "source": [
    "# From ((3, 5), (5, 3)) to (3, 3)"
   ]
  },
  {
   "cell_type": "code",
   "execution_count": 139,
   "id": "0ae51b6c",
   "metadata": {},
   "outputs": [],
   "source": [
    "# Dot product (example)"
   ]
  },
  {
   "cell_type": "code",
   "execution_count": 143,
   "id": "e619aee0",
   "metadata": {},
   "outputs": [
    {
     "data": {
      "text/plain": [
       "array([[14,  5,  1,  8],\n",
       "       [ 8, 18,  9,  7],\n",
       "       [13,  8,  4, 18],\n",
       "       [12,  6, 10,  3],\n",
       "       [ 0,  9,  6,  6]])"
      ]
     },
     "execution_count": 143,
     "metadata": {},
     "output_type": "execute_result"
    }
   ],
   "source": [
    "np.random.seed(4)\n",
    "#number of sold jars\n",
    "sales_amounts = np.random.randint(20,size=(5,4))\n",
    "sales_amounts"
   ]
  },
  {
   "cell_type": "code",
   "execution_count": 145,
   "id": "06999f5f",
   "metadata": {},
   "outputs": [
    {
     "data": {
      "text/html": [
       "<div>\n",
       "<style scoped>\n",
       "    .dataframe tbody tr th:only-of-type {\n",
       "        vertical-align: middle;\n",
       "    }\n",
       "\n",
       "    .dataframe tbody tr th {\n",
       "        vertical-align: top;\n",
       "    }\n",
       "\n",
       "    .dataframe thead th {\n",
       "        text-align: right;\n",
       "    }\n",
       "</style>\n",
       "<table border=\"1\" class=\"dataframe\">\n",
       "  <thead>\n",
       "    <tr style=\"text-align: right;\">\n",
       "      <th></th>\n",
       "      <th>Peanut Butter</th>\n",
       "      <th>Honey</th>\n",
       "      <th>Butter</th>\n",
       "      <th>Cashew Butter</th>\n",
       "    </tr>\n",
       "  </thead>\n",
       "  <tbody>\n",
       "    <tr>\n",
       "      <th>Mon</th>\n",
       "      <td>14</td>\n",
       "      <td>5</td>\n",
       "      <td>1</td>\n",
       "      <td>8</td>\n",
       "    </tr>\n",
       "    <tr>\n",
       "      <th>Tues</th>\n",
       "      <td>8</td>\n",
       "      <td>18</td>\n",
       "      <td>9</td>\n",
       "      <td>7</td>\n",
       "    </tr>\n",
       "    <tr>\n",
       "      <th>Wed</th>\n",
       "      <td>13</td>\n",
       "      <td>8</td>\n",
       "      <td>4</td>\n",
       "      <td>18</td>\n",
       "    </tr>\n",
       "    <tr>\n",
       "      <th>Thurs</th>\n",
       "      <td>12</td>\n",
       "      <td>6</td>\n",
       "      <td>10</td>\n",
       "      <td>3</td>\n",
       "    </tr>\n",
       "    <tr>\n",
       "      <th>Fri</th>\n",
       "      <td>0</td>\n",
       "      <td>9</td>\n",
       "      <td>6</td>\n",
       "      <td>6</td>\n",
       "    </tr>\n",
       "  </tbody>\n",
       "</table>\n",
       "</div>"
      ],
      "text/plain": [
       "       Peanut Butter  Honey  Butter  Cashew Butter\n",
       "Mon               14      5       1              8\n",
       "Tues               8     18       9              7\n",
       "Wed               13      8       4             18\n",
       "Thurs             12      6      10              3\n",
       "Fri                0      9       6              6"
      ]
     },
     "execution_count": 145,
     "metadata": {},
     "output_type": "execute_result"
    }
   ],
   "source": [
    "# Create a  pandas DataFrame of sold jars\n",
    "\n",
    "Weekly_sales = pd.DataFrame(sales_amounts,\n",
    "                            index=[\"Mon\",\"Tues\",\"Wed\",\"Thurs\",\"Fri\"],\n",
    "                           columns = [\"Peanut Butter\",\"Honey\",\"Butter\",\"Cashew Butter\"])\n",
    "Weekly_sales"
   ]
  },
  {
   "cell_type": "code",
   "execution_count": 151,
   "id": "26ac1237",
   "metadata": {},
   "outputs": [
    {
     "data": {
      "text/plain": [
       "array([[3, 2, 3, 2]])"
      ]
     },
     "execution_count": 151,
     "metadata": {},
     "output_type": "execute_result"
    }
   ],
   "source": [
    "# create a prices data frames\n",
    "\n",
    "prices = np.random.randint(10,size=(1,4))\n",
    "prices"
   ]
  },
  {
   "cell_type": "code",
   "execution_count": 152,
   "id": "4328346e",
   "metadata": {},
   "outputs": [
    {
     "data": {
      "text/html": [
       "<div>\n",
       "<style scoped>\n",
       "    .dataframe tbody tr th:only-of-type {\n",
       "        vertical-align: middle;\n",
       "    }\n",
       "\n",
       "    .dataframe tbody tr th {\n",
       "        vertical-align: top;\n",
       "    }\n",
       "\n",
       "    .dataframe thead th {\n",
       "        text-align: right;\n",
       "    }\n",
       "</style>\n",
       "<table border=\"1\" class=\"dataframe\">\n",
       "  <thead>\n",
       "    <tr style=\"text-align: right;\">\n",
       "      <th></th>\n",
       "      <th>Peanut Butter</th>\n",
       "      <th>Honey</th>\n",
       "      <th>Butter</th>\n",
       "      <th>Cashew Butter</th>\n",
       "    </tr>\n",
       "  </thead>\n",
       "  <tbody>\n",
       "    <tr>\n",
       "      <th>Price</th>\n",
       "      <td>3</td>\n",
       "      <td>2</td>\n",
       "      <td>3</td>\n",
       "      <td>2</td>\n",
       "    </tr>\n",
       "  </tbody>\n",
       "</table>\n",
       "</div>"
      ],
      "text/plain": [
       "       Peanut Butter  Honey  Butter  Cashew Butter\n",
       "Price              3      2       3              2"
      ]
     },
     "execution_count": 152,
     "metadata": {},
     "output_type": "execute_result"
    }
   ],
   "source": [
    "prices_df = pd.DataFrame(prices,\n",
    "                        index=[\"Price\"],\n",
    "                        columns=[\"Peanut Butter\",\"Honey\",\"Butter\",\"Cashew Butter\"])\n",
    "prices_df"
   ]
  },
  {
   "cell_type": "code",
   "execution_count": 154,
   "id": "e740440a",
   "metadata": {},
   "outputs": [
    {
     "data": {
      "text/plain": [
       "array([[ 71],\n",
       "       [101],\n",
       "       [103],\n",
       "       [ 84],\n",
       "       [ 48]])"
      ]
     },
     "execution_count": 154,
     "metadata": {},
     "output_type": "execute_result"
    }
   ],
   "source": [
    "Total = np.dot(Weekly_sales,prices_df.T)\n",
    "Total"
   ]
  },
  {
   "cell_type": "code",
   "execution_count": 155,
   "id": "106bb1f1",
   "metadata": {},
   "outputs": [
    {
     "data": {
      "text/html": [
       "<div>\n",
       "<style scoped>\n",
       "    .dataframe tbody tr th:only-of-type {\n",
       "        vertical-align: middle;\n",
       "    }\n",
       "\n",
       "    .dataframe tbody tr th {\n",
       "        vertical-align: top;\n",
       "    }\n",
       "\n",
       "    .dataframe thead th {\n",
       "        text-align: right;\n",
       "    }\n",
       "</style>\n",
       "<table border=\"1\" class=\"dataframe\">\n",
       "  <thead>\n",
       "    <tr style=\"text-align: right;\">\n",
       "      <th></th>\n",
       "      <th>Peanut Butter</th>\n",
       "      <th>Honey</th>\n",
       "      <th>Butter</th>\n",
       "      <th>Cashew Butter</th>\n",
       "      <th>Total($)</th>\n",
       "    </tr>\n",
       "  </thead>\n",
       "  <tbody>\n",
       "    <tr>\n",
       "      <th>Mon</th>\n",
       "      <td>14</td>\n",
       "      <td>5</td>\n",
       "      <td>1</td>\n",
       "      <td>8</td>\n",
       "      <td>71</td>\n",
       "    </tr>\n",
       "    <tr>\n",
       "      <th>Tues</th>\n",
       "      <td>8</td>\n",
       "      <td>18</td>\n",
       "      <td>9</td>\n",
       "      <td>7</td>\n",
       "      <td>101</td>\n",
       "    </tr>\n",
       "    <tr>\n",
       "      <th>Wed</th>\n",
       "      <td>13</td>\n",
       "      <td>8</td>\n",
       "      <td>4</td>\n",
       "      <td>18</td>\n",
       "      <td>103</td>\n",
       "    </tr>\n",
       "    <tr>\n",
       "      <th>Thurs</th>\n",
       "      <td>12</td>\n",
       "      <td>6</td>\n",
       "      <td>10</td>\n",
       "      <td>3</td>\n",
       "      <td>84</td>\n",
       "    </tr>\n",
       "    <tr>\n",
       "      <th>Fri</th>\n",
       "      <td>0</td>\n",
       "      <td>9</td>\n",
       "      <td>6</td>\n",
       "      <td>6</td>\n",
       "      <td>48</td>\n",
       "    </tr>\n",
       "  </tbody>\n",
       "</table>\n",
       "</div>"
      ],
      "text/plain": [
       "       Peanut Butter  Honey  Butter  Cashew Butter  Total($)\n",
       "Mon               14      5       1              8        71\n",
       "Tues               8     18       9              7       101\n",
       "Wed               13      8       4             18       103\n",
       "Thurs             12      6      10              3        84\n",
       "Fri                0      9       6              6        48"
      ]
     },
     "execution_count": 155,
     "metadata": {},
     "output_type": "execute_result"
    }
   ],
   "source": [
    "Weekly_sales[\"Total($)\"] = Total\n",
    "Weekly_sales"
   ]
  },
  {
   "cell_type": "code",
   "execution_count": 156,
   "id": "3f74901b",
   "metadata": {},
   "outputs": [
    {
     "data": {
      "text/html": [
       "<div>\n",
       "<style scoped>\n",
       "    .dataframe tbody tr th:only-of-type {\n",
       "        vertical-align: middle;\n",
       "    }\n",
       "\n",
       "    .dataframe tbody tr th {\n",
       "        vertical-align: top;\n",
       "    }\n",
       "\n",
       "    .dataframe thead th {\n",
       "        text-align: right;\n",
       "    }\n",
       "</style>\n",
       "<table border=\"1\" class=\"dataframe\">\n",
       "  <thead>\n",
       "    <tr style=\"text-align: right;\">\n",
       "      <th></th>\n",
       "      <th>Peanut Butter</th>\n",
       "      <th>Honey</th>\n",
       "      <th>Butter</th>\n",
       "      <th>Cashew Butter</th>\n",
       "    </tr>\n",
       "  </thead>\n",
       "  <tbody>\n",
       "    <tr>\n",
       "      <th>Price</th>\n",
       "      <td>3</td>\n",
       "      <td>2</td>\n",
       "      <td>3</td>\n",
       "      <td>2</td>\n",
       "    </tr>\n",
       "  </tbody>\n",
       "</table>\n",
       "</div>"
      ],
      "text/plain": [
       "       Peanut Butter  Honey  Butter  Cashew Butter\n",
       "Price              3      2       3              2"
      ]
     },
     "execution_count": 156,
     "metadata": {},
     "output_type": "execute_result"
    }
   ],
   "source": [
    "prices_df"
   ]
  },
  {
   "cell_type": "markdown",
   "id": "1d396fb8",
   "metadata": {},
   "source": [
    "# Comparaison Operators"
   ]
  },
  {
   "cell_type": "code",
   "execution_count": 158,
   "id": "61ccaaac",
   "metadata": {},
   "outputs": [
    {
     "data": {
      "text/plain": [
       "array([1, 2, 3])"
      ]
     },
     "execution_count": 158,
     "metadata": {},
     "output_type": "execute_result"
    }
   ],
   "source": [
    "a1"
   ]
  },
  {
   "cell_type": "code",
   "execution_count": 159,
   "id": "92014074",
   "metadata": {},
   "outputs": [
    {
     "data": {
      "text/plain": [
       "array([[1.2, 5.3, 2. ],\n",
       "       [5.6, 7. , 6.9]])"
      ]
     },
     "execution_count": 159,
     "metadata": {},
     "output_type": "execute_result"
    }
   ],
   "source": [
    "a2"
   ]
  },
  {
   "cell_type": "code",
   "execution_count": 160,
   "id": "ed44796f",
   "metadata": {},
   "outputs": [
    {
     "data": {
      "text/plain": [
       "array([[ True,  True, False],\n",
       "       [ True,  True,  True]])"
      ]
     },
     "execution_count": 160,
     "metadata": {},
     "output_type": "execute_result"
    }
   ],
   "source": [
    "a2 > a1"
   ]
  },
  {
   "cell_type": "code",
   "execution_count": 161,
   "id": "0758cade",
   "metadata": {},
   "outputs": [],
   "source": [
    "bool_array = a2>=a1"
   ]
  },
  {
   "cell_type": "code",
   "execution_count": 162,
   "id": "be9af55f",
   "metadata": {},
   "outputs": [
    {
     "data": {
      "text/plain": [
       "array([[ True,  True, False],\n",
       "       [ True,  True,  True]])"
      ]
     },
     "execution_count": 162,
     "metadata": {},
     "output_type": "execute_result"
    }
   ],
   "source": [
    "bool_array"
   ]
  },
  {
   "cell_type": "code",
   "execution_count": 163,
   "id": "1382645e",
   "metadata": {},
   "outputs": [
    {
     "data": {
      "text/plain": [
       "numpy.ndarray"
      ]
     },
     "execution_count": 163,
     "metadata": {},
     "output_type": "execute_result"
    }
   ],
   "source": [
    "type(bool_array)"
   ]
  },
  {
   "cell_type": "code",
   "execution_count": 164,
   "id": "dc34c051",
   "metadata": {},
   "outputs": [
    {
     "data": {
      "text/plain": [
       "array([ True,  True,  True])"
      ]
     },
     "execution_count": 164,
     "metadata": {},
     "output_type": "execute_result"
    }
   ],
   "source": [
    "a1 == a1"
   ]
  },
  {
   "cell_type": "code",
   "execution_count": 165,
   "id": "17fe113e",
   "metadata": {},
   "outputs": [
    {
     "data": {
      "text/plain": [
       "array([[False, False, False],\n",
       "       [False, False, False]])"
      ]
     },
     "execution_count": 165,
     "metadata": {},
     "output_type": "execute_result"
    }
   ],
   "source": [
    "a1 == a2"
   ]
  },
  {
   "cell_type": "markdown",
   "id": "35ac55e9",
   "metadata": {},
   "source": [
    "# Sorting Arrays"
   ]
  },
  {
   "cell_type": "code",
   "execution_count": 184,
   "id": "c7ea5ad0",
   "metadata": {},
   "outputs": [],
   "source": [
    "random_array = np.random.randint(20,size=(4,3,7))"
   ]
  },
  {
   "cell_type": "code",
   "execution_count": 185,
   "id": "af2fbd75",
   "metadata": {},
   "outputs": [
    {
     "data": {
      "text/plain": [
       "(4, 3, 7)"
      ]
     },
     "execution_count": 185,
     "metadata": {},
     "output_type": "execute_result"
    }
   ],
   "source": [
    "random_array.shape"
   ]
  },
  {
   "cell_type": "code",
   "execution_count": 188,
   "id": "37d30d4a",
   "metadata": {},
   "outputs": [],
   "source": [
    "random_array.sort()"
   ]
  },
  {
   "cell_type": "code",
   "execution_count": 189,
   "id": "b011f0e2",
   "metadata": {},
   "outputs": [
    {
     "data": {
      "text/plain": [
       "array([[[ 0,  0,  5,  5,  9, 11, 19],\n",
       "        [ 2,  4,  5,  7,  9, 10, 18],\n",
       "        [ 3, 12, 12, 16, 16, 19, 19]],\n",
       "\n",
       "       [[ 6,  7,  8, 12, 15, 19, 19],\n",
       "        [ 0,  3,  4,  8, 12, 13, 17],\n",
       "        [ 3,  6, 14, 16, 17, 17, 18]],\n",
       "\n",
       "       [[ 2,  3, 12, 12, 15, 15, 18],\n",
       "        [ 2,  5,  9,  9, 14, 15, 15],\n",
       "        [ 1,  2,  8, 11, 12, 18, 19]],\n",
       "\n",
       "       [[ 5,  8, 10, 12, 14, 16, 19],\n",
       "        [ 4,  5,  9, 13, 15, 17, 19],\n",
       "        [ 0,  2,  5,  5,  5, 16, 17]]])"
      ]
     },
     "execution_count": 189,
     "metadata": {},
     "output_type": "execute_result"
    }
   ],
   "source": [
    "random_array"
   ]
  },
  {
   "cell_type": "code",
   "execution_count": 190,
   "id": "ded0ca45",
   "metadata": {},
   "outputs": [
    {
     "data": {
      "text/plain": [
       "array([[[0, 1, 2, 3, 4, 5, 6],\n",
       "        [0, 1, 2, 3, 4, 5, 6],\n",
       "        [0, 1, 2, 3, 4, 5, 6]],\n",
       "\n",
       "       [[0, 1, 2, 3, 4, 5, 6],\n",
       "        [0, 1, 2, 3, 4, 5, 6],\n",
       "        [0, 1, 2, 3, 4, 5, 6]],\n",
       "\n",
       "       [[0, 1, 2, 3, 4, 5, 6],\n",
       "        [0, 1, 2, 3, 4, 5, 6],\n",
       "        [0, 1, 2, 3, 4, 5, 6]],\n",
       "\n",
       "       [[0, 1, 2, 3, 4, 5, 6],\n",
       "        [0, 1, 2, 3, 4, 5, 6],\n",
       "        [0, 1, 2, 3, 4, 5, 6]]], dtype=int64)"
      ]
     },
     "execution_count": 190,
     "metadata": {},
     "output_type": "execute_result"
    }
   ],
   "source": [
    "random_array.argsort()"
   ]
  },
  {
   "cell_type": "code",
   "execution_count": 191,
   "id": "346edfd7",
   "metadata": {},
   "outputs": [
    {
     "data": {
      "text/plain": [
       "array([1, 2, 3])"
      ]
     },
     "execution_count": 191,
     "metadata": {},
     "output_type": "execute_result"
    }
   ],
   "source": [
    "a1"
   ]
  },
  {
   "cell_type": "code",
   "execution_count": 192,
   "id": "d94ad9b3",
   "metadata": {},
   "outputs": [
    {
     "data": {
      "text/plain": [
       "array([0, 1, 2], dtype=int64)"
      ]
     },
     "execution_count": 192,
     "metadata": {},
     "output_type": "execute_result"
    }
   ],
   "source": [
    "np.argsort(a1)"
   ]
  },
  {
   "cell_type": "code",
   "execution_count": 195,
   "id": "8b905561",
   "metadata": {},
   "outputs": [
    {
     "data": {
      "text/plain": [
       "(1, 0)"
      ]
     },
     "execution_count": 195,
     "metadata": {},
     "output_type": "execute_result"
    }
   ],
   "source": [
    "a1.min() , np.argmin(a1)"
   ]
  },
  {
   "cell_type": "code",
   "execution_count": 196,
   "id": "0577039b",
   "metadata": {},
   "outputs": [
    {
     "data": {
      "text/plain": [
       "array([[1.2, 5.3, 2. ],\n",
       "       [5.6, 7. , 6.9]])"
      ]
     },
     "execution_count": 196,
     "metadata": {},
     "output_type": "execute_result"
    }
   ],
   "source": [
    "a2"
   ]
  },
  {
   "cell_type": "code",
   "execution_count": 198,
   "id": "cd9e988b",
   "metadata": {},
   "outputs": [
    {
     "data": {
      "text/plain": [
       "1.2"
      ]
     },
     "execution_count": 198,
     "metadata": {},
     "output_type": "execute_result"
    }
   ],
   "source": [
    "a2.min()"
   ]
  },
  {
   "cell_type": "code",
   "execution_count": 199,
   "id": "ef4e37bf",
   "metadata": {},
   "outputs": [
    {
     "data": {
      "text/plain": [
       "0"
      ]
     },
     "execution_count": 199,
     "metadata": {},
     "output_type": "execute_result"
    }
   ],
   "source": [
    "np.argmin(a2)"
   ]
  },
  {
   "cell_type": "code",
   "execution_count": 200,
   "id": "ca48a8da",
   "metadata": {},
   "outputs": [
    {
     "data": {
      "text/plain": [
       "3"
      ]
     },
     "execution_count": 200,
     "metadata": {},
     "output_type": "execute_result"
    }
   ],
   "source": [
    "a1.max()"
   ]
  },
  {
   "cell_type": "code",
   "execution_count": 201,
   "id": "6bfb2a7f",
   "metadata": {},
   "outputs": [
    {
     "data": {
      "text/plain": [
       "2"
      ]
     },
     "execution_count": 201,
     "metadata": {},
     "output_type": "execute_result"
    }
   ],
   "source": [
    "a1.argmax()"
   ]
  },
  {
   "cell_type": "code",
   "execution_count": 203,
   "id": "ac890149",
   "metadata": {},
   "outputs": [
    {
     "data": {
      "text/plain": [
       "array([0, 1, 4], dtype=int64)"
      ]
     },
     "execution_count": 203,
     "metadata": {},
     "output_type": "execute_result"
    }
   ],
   "source": [
    "np.argmax(random_array_3,axis=0)"
   ]
  },
  {
   "cell_type": "code",
   "execution_count": 204,
   "id": "10782216",
   "metadata": {},
   "outputs": [
    {
     "data": {
      "text/plain": [
       "array([[0.83725872, 0.63145641, 0.56378288],\n",
       "       [0.58058468, 0.64490714, 0.33384721],\n",
       "       [0.66814024, 0.24241344, 0.5666875 ],\n",
       "       [0.83081696, 0.54634645, 0.8059638 ],\n",
       "       [0.36794908, 0.3558876 , 0.84287121]])"
      ]
     },
     "execution_count": 204,
     "metadata": {},
     "output_type": "execute_result"
    }
   ],
   "source": [
    "random_array_3"
   ]
  },
  {
   "cell_type": "code",
   "execution_count": 205,
   "id": "e04fce78",
   "metadata": {},
   "outputs": [
    {
     "data": {
      "text/plain": [
       "array([0, 1, 0, 0, 2], dtype=int64)"
      ]
     },
     "execution_count": 205,
     "metadata": {},
     "output_type": "execute_result"
    }
   ],
   "source": [
    "np.argmax(random_array_3,axis=1)"
   ]
  },
  {
   "cell_type": "code",
   "execution_count": 206,
   "id": "b186abca",
   "metadata": {},
   "outputs": [
    {
     "data": {
      "text/plain": [
       "array([[1.2, 5.3, 2. ],\n",
       "       [5.6, 7. , 6.9]])"
      ]
     },
     "execution_count": 206,
     "metadata": {},
     "output_type": "execute_result"
    }
   ],
   "source": [
    "a2"
   ]
  },
  {
   "cell_type": "code",
   "execution_count": 208,
   "id": "e5289e02",
   "metadata": {},
   "outputs": [],
   "source": [
    "a2.sort()"
   ]
  },
  {
   "cell_type": "code",
   "execution_count": 209,
   "id": "cb4db9fc",
   "metadata": {},
   "outputs": [
    {
     "data": {
      "text/plain": [
       "array([[1.2, 2. , 5.3],\n",
       "       [5.6, 6.9, 7. ]])"
      ]
     },
     "execution_count": 209,
     "metadata": {},
     "output_type": "execute_result"
    }
   ],
   "source": [
    "a2"
   ]
  },
  {
   "cell_type": "code",
   "execution_count": 222,
   "id": "d84bcd35",
   "metadata": {},
   "outputs": [
    {
     "data": {
      "text/plain": [
       "array([[1, 2, 5],\n",
       "       [5, 6, 7]])"
      ]
     },
     "execution_count": 222,
     "metadata": {},
     "output_type": "execute_result"
    }
   ],
   "source": [
    "a2 = np.floor(a2)\n",
    "a2 = a2.astype(int)\n",
    "a2"
   ]
  },
  {
   "cell_type": "code",
   "execution_count": 223,
   "id": "0b482c99",
   "metadata": {},
   "outputs": [],
   "source": [
    "# Example of Numpy Used"
   ]
  },
  {
   "cell_type": "markdown",
   "id": "bfe7c341",
   "metadata": {},
   "source": [
    "<img src=\"panda.png\"/>"
   ]
  },
  {
   "cell_type": "code",
   "execution_count": 228,
   "id": "d661e00e",
   "metadata": {},
   "outputs": [
    {
     "data": {
      "text/plain": [
       "numpy.ndarray"
      ]
     },
     "execution_count": 228,
     "metadata": {},
     "output_type": "execute_result"
    }
   ],
   "source": [
    "# Turn an image into a NumPy array\n",
    "\n",
    "from matplotlib.image import imread\n",
    "panda = imread(\"panda.png\")\n",
    "type(panda)"
   ]
  },
  {
   "cell_type": "code",
   "execution_count": 230,
   "id": "29b20662",
   "metadata": {},
   "outputs": [
    {
     "data": {
      "text/plain": [
       "(24465000, (2330, 3500, 3))"
      ]
     },
     "execution_count": 230,
     "metadata": {},
     "output_type": "execute_result"
    }
   ],
   "source": [
    "panda.size , panda.shape"
   ]
  },
  {
   "cell_type": "code",
   "execution_count": 231,
   "id": "9c7b9839",
   "metadata": {},
   "outputs": [
    {
     "data": {
      "text/plain": [
       "array([[[0.05490196, 0.10588235, 0.06666667],\n",
       "        [0.05490196, 0.10588235, 0.06666667],\n",
       "        [0.05490196, 0.10588235, 0.06666667],\n",
       "        ...,\n",
       "        [0.16470589, 0.12941177, 0.09411765],\n",
       "        [0.16470589, 0.12941177, 0.09411765],\n",
       "        [0.16470589, 0.12941177, 0.09411765]],\n",
       "\n",
       "       [[0.05490196, 0.10588235, 0.06666667],\n",
       "        [0.05490196, 0.10588235, 0.06666667],\n",
       "        [0.05490196, 0.10588235, 0.06666667],\n",
       "        ...,\n",
       "        [0.16470589, 0.12941177, 0.09411765],\n",
       "        [0.16470589, 0.12941177, 0.09411765],\n",
       "        [0.16470589, 0.12941177, 0.09411765]],\n",
       "\n",
       "       [[0.05490196, 0.10588235, 0.06666667],\n",
       "        [0.05490196, 0.10588235, 0.06666667],\n",
       "        [0.05490196, 0.10588235, 0.06666667],\n",
       "        ...,\n",
       "        [0.16470589, 0.12941177, 0.09411765],\n",
       "        [0.16470589, 0.12941177, 0.09411765],\n",
       "        [0.16470589, 0.12941177, 0.09411765]],\n",
       "\n",
       "       ...,\n",
       "\n",
       "       [[0.13333334, 0.07450981, 0.05490196],\n",
       "        [0.12156863, 0.0627451 , 0.04313726],\n",
       "        [0.10980392, 0.05098039, 0.03137255],\n",
       "        ...,\n",
       "        [0.02745098, 0.02745098, 0.03529412],\n",
       "        [0.02745098, 0.02745098, 0.03529412],\n",
       "        [0.02745098, 0.02745098, 0.03529412]],\n",
       "\n",
       "       [[0.13333334, 0.07450981, 0.05490196],\n",
       "        [0.12156863, 0.0627451 , 0.04313726],\n",
       "        [0.12156863, 0.0627451 , 0.04313726],\n",
       "        ...,\n",
       "        [0.02352941, 0.02352941, 0.03137255],\n",
       "        [0.02352941, 0.02352941, 0.03137255],\n",
       "        [0.02352941, 0.02352941, 0.03137255]],\n",
       "\n",
       "       [[0.13333334, 0.07450981, 0.05490196],\n",
       "        [0.12156863, 0.0627451 , 0.04313726],\n",
       "        [0.12156863, 0.0627451 , 0.04313726],\n",
       "        ...,\n",
       "        [0.02352941, 0.02352941, 0.03137255],\n",
       "        [0.02352941, 0.02352941, 0.03137255],\n",
       "        [0.02352941, 0.02352941, 0.03137255]]], dtype=float32)"
      ]
     },
     "execution_count": 231,
     "metadata": {},
     "output_type": "execute_result"
    }
   ],
   "source": [
    "panda"
   ]
  },
  {
   "cell_type": "code",
   "execution_count": 232,
   "id": "a735d805",
   "metadata": {},
   "outputs": [],
   "source": [
    "car = imread(\"car-photo.png\")"
   ]
  },
  {
   "cell_type": "code",
   "execution_count": 233,
   "id": "735cfd61",
   "metadata": {},
   "outputs": [
    {
     "data": {
      "text/plain": [
       "array([[[0.5019608 , 0.50980395, 0.4862745 , 1.        ],\n",
       "        [0.3372549 , 0.34509805, 0.30588236, 1.        ],\n",
       "        [0.20392157, 0.21568628, 0.14901961, 1.        ],\n",
       "        ...,\n",
       "        [0.64705884, 0.7058824 , 0.54901963, 1.        ],\n",
       "        [0.59607846, 0.63529414, 0.45882353, 1.        ],\n",
       "        [0.44705883, 0.47058824, 0.3372549 , 1.        ]],\n",
       "\n",
       "       [[0.44313726, 0.43529412, 0.40392157, 1.        ],\n",
       "        [0.3137255 , 0.31764707, 0.27450982, 1.        ],\n",
       "        [0.2       , 0.21176471, 0.14117648, 1.        ],\n",
       "        ...,\n",
       "        [0.5058824 , 0.5372549 , 0.4117647 , 1.        ],\n",
       "        [0.49803922, 0.52156866, 0.39607844, 1.        ],\n",
       "        [0.4       , 0.42745098, 0.34117648, 1.        ]],\n",
       "\n",
       "       [[0.39607844, 0.38039216, 0.34117648, 1.        ],\n",
       "        [0.31764707, 0.3137255 , 0.27450982, 1.        ],\n",
       "        [0.28627452, 0.29411766, 0.24705882, 1.        ],\n",
       "        ...,\n",
       "        [0.44705883, 0.45882353, 0.32156864, 1.        ],\n",
       "        [0.45882353, 0.48235294, 0.3529412 , 1.        ],\n",
       "        [0.4509804 , 0.49019608, 0.38039216, 1.        ]],\n",
       "\n",
       "       ...,\n",
       "\n",
       "       [[0.47058824, 0.57254905, 0.6313726 , 1.        ],\n",
       "        [0.4392157 , 0.53333336, 0.5882353 , 1.        ],\n",
       "        [0.48235294, 0.5803922 , 0.6392157 , 1.        ],\n",
       "        ...,\n",
       "        [0.6156863 , 0.7529412 , 0.827451  , 1.        ],\n",
       "        [0.61960787, 0.7607843 , 0.83137256, 1.        ],\n",
       "        [0.5921569 , 0.73333335, 0.7921569 , 1.        ]],\n",
       "\n",
       "       [[0.4745098 , 0.5803922 , 0.6392157 , 1.        ],\n",
       "        [0.47058824, 0.58431375, 0.63529414, 1.        ],\n",
       "        [0.4117647 , 0.5019608 , 0.5529412 , 1.        ],\n",
       "        ...,\n",
       "        [0.54901963, 0.6784314 , 0.74509805, 1.        ],\n",
       "        [0.65882355, 0.8117647 , 0.8862745 , 1.        ],\n",
       "        [0.60784316, 0.74509805, 0.8117647 , 1.        ]],\n",
       "\n",
       "       [[0.4745098 , 0.57254905, 0.627451  , 1.        ],\n",
       "        [0.49411765, 0.6       , 0.65882355, 1.        ],\n",
       "        [0.49019608, 0.5921569 , 0.64705884, 1.        ],\n",
       "        ...,\n",
       "        [0.5294118 , 0.63529414, 0.69803923, 1.        ],\n",
       "        [0.5529412 , 0.67058825, 0.7372549 , 1.        ],\n",
       "        [0.6156863 , 0.73333335, 0.8       , 1.        ]]], dtype=float32)"
      ]
     },
     "execution_count": 233,
     "metadata": {},
     "output_type": "execute_result"
    }
   ],
   "source": [
    "car"
   ]
  },
  {
   "cell_type": "markdown",
   "id": "a33a3e00",
   "metadata": {},
   "source": [
    "<img src=\"car-photo.png\"/>"
   ]
  },
  {
   "cell_type": "code",
   "execution_count": 234,
   "id": "fe419017",
   "metadata": {},
   "outputs": [
    {
     "data": {
      "text/plain": [
       "numpy.ndarray"
      ]
     },
     "execution_count": 234,
     "metadata": {},
     "output_type": "execute_result"
    }
   ],
   "source": [
    "type(car)"
   ]
  },
  {
   "cell_type": "markdown",
   "id": "4fbc3eec",
   "metadata": {},
   "source": [
    "<img src=\"dog-photo.png\"/>"
   ]
  },
  {
   "cell_type": "code",
   "execution_count": 236,
   "id": "b8a6bdab",
   "metadata": {},
   "outputs": [
    {
     "data": {
      "text/plain": [
       "array([[[0.70980394, 0.80784315, 0.88235295, 1.        ],\n",
       "        [0.72156864, 0.8117647 , 0.8862745 , 1.        ],\n",
       "        [0.7411765 , 0.8156863 , 0.8862745 , 1.        ],\n",
       "        ...,\n",
       "        [0.49803922, 0.6862745 , 0.8392157 , 1.        ],\n",
       "        [0.49411765, 0.68235296, 0.8392157 , 1.        ],\n",
       "        [0.49411765, 0.68235296, 0.8352941 , 1.        ]],\n",
       "\n",
       "       [[0.69411767, 0.8039216 , 0.8862745 , 1.        ],\n",
       "        [0.7019608 , 0.8039216 , 0.88235295, 1.        ],\n",
       "        [0.7058824 , 0.80784315, 0.88235295, 1.        ],\n",
       "        ...,\n",
       "        [0.5019608 , 0.6862745 , 0.84705883, 1.        ],\n",
       "        [0.49411765, 0.68235296, 0.84313726, 1.        ],\n",
       "        [0.49411765, 0.68235296, 0.8392157 , 1.        ]],\n",
       "\n",
       "       [[0.6901961 , 0.8       , 0.88235295, 1.        ],\n",
       "        [0.69803923, 0.8039216 , 0.88235295, 1.        ],\n",
       "        [0.7058824 , 0.80784315, 0.88235295, 1.        ],\n",
       "        ...,\n",
       "        [0.5019608 , 0.6862745 , 0.84705883, 1.        ],\n",
       "        [0.49803922, 0.6862745 , 0.84313726, 1.        ],\n",
       "        [0.49803922, 0.6862745 , 0.84313726, 1.        ]],\n",
       "\n",
       "       ...,\n",
       "\n",
       "       [[0.9098039 , 0.81960785, 0.654902  , 1.        ],\n",
       "        [0.8352941 , 0.7490196 , 0.6509804 , 1.        ],\n",
       "        [0.72156864, 0.6313726 , 0.5372549 , 1.        ],\n",
       "        ...,\n",
       "        [0.01568628, 0.07058824, 0.02352941, 1.        ],\n",
       "        [0.03921569, 0.09411765, 0.03529412, 1.        ],\n",
       "        [0.03921569, 0.09019608, 0.05490196, 1.        ]],\n",
       "\n",
       "       [[0.9137255 , 0.83137256, 0.6784314 , 1.        ],\n",
       "        [0.8117647 , 0.7294118 , 0.627451  , 1.        ],\n",
       "        [0.65882355, 0.5686275 , 0.47843137, 1.        ],\n",
       "        ...,\n",
       "        [0.00392157, 0.05490196, 0.03529412, 1.        ],\n",
       "        [0.03137255, 0.09019608, 0.05490196, 1.        ],\n",
       "        [0.04705882, 0.10588235, 0.06666667, 1.        ]],\n",
       "\n",
       "       [[0.9137255 , 0.83137256, 0.68235296, 1.        ],\n",
       "        [0.76862746, 0.68235296, 0.5882353 , 1.        ],\n",
       "        [0.59607846, 0.5058824 , 0.44313726, 1.        ],\n",
       "        ...,\n",
       "        [0.03921569, 0.10196079, 0.07058824, 1.        ],\n",
       "        [0.02745098, 0.08235294, 0.05882353, 1.        ],\n",
       "        [0.05098039, 0.11372549, 0.07058824, 1.        ]]], dtype=float32)"
      ]
     },
     "execution_count": 236,
     "metadata": {},
     "output_type": "execute_result"
    }
   ],
   "source": [
    "dog = imread(\"dog-photo.png\")\n",
    "dog"
   ]
  },
  {
   "cell_type": "code",
   "execution_count": null,
   "id": "b99b7605",
   "metadata": {},
   "outputs": [],
   "source": []
  }
 ],
 "metadata": {
  "kernelspec": {
   "display_name": "Python 3 (ipykernel)",
   "language": "python",
   "name": "python3"
  },
  "language_info": {
   "codemirror_mode": {
    "name": "ipython",
    "version": 3
   },
   "file_extension": ".py",
   "mimetype": "text/x-python",
   "name": "python",
   "nbconvert_exporter": "python",
   "pygments_lexer": "ipython3",
   "version": "3.10.9"
  }
 },
 "nbformat": 4,
 "nbformat_minor": 5
}
