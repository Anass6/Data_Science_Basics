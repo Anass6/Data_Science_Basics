{
 "cells": [
  {
   "cell_type": "code",
   "execution_count": 2,
   "id": "41d71de9",
   "metadata": {},
   "outputs": [],
   "source": [
    "import numpy as np"
   ]
  },
  {
   "cell_type": "markdown",
   "id": "9ce9fcad",
   "metadata": {},
   "source": [
    "# DataTypes and Attributes"
   ]
  },
  {
   "cell_type": "code",
   "execution_count": 3,
   "id": "f4dd285f",
   "metadata": {},
   "outputs": [
    {
     "data": {
      "text/plain": [
       "array([1, 2, 3])"
      ]
     },
     "execution_count": 3,
     "metadata": {},
     "output_type": "execute_result"
    }
   ],
   "source": [
    "a1 = np.array([1,2,3])\n",
    "a1"
   ]
  },
  {
   "cell_type": "code",
   "execution_count": 4,
   "id": "61a499bd",
   "metadata": {},
   "outputs": [
    {
     "data": {
      "text/plain": [
       "numpy.ndarray"
      ]
     },
     "execution_count": 4,
     "metadata": {},
     "output_type": "execute_result"
    }
   ],
   "source": [
    "type(a1)"
   ]
  },
  {
   "cell_type": "code",
   "execution_count": 5,
   "id": "a1c43c72",
   "metadata": {},
   "outputs": [],
   "source": [
    "a2 = np.array([[1.2,5.3,2],[5.6,7,6.9]])\n",
    "a3 = np.array([[[ 1, 2, 3],\n",
    "                [ 4, 5, 6],\n",
    "                [ 7, 8, 9]],\n",
    "               \n",
    "               [[ 10, 11, 12],\n",
    "                [ 13, 14, 15],\n",
    "                [ 16, 17, 18]]])"
   ]
  },
  {
   "cell_type": "code",
   "execution_count": 6,
   "id": "04157b73",
   "metadata": {},
   "outputs": [
    {
     "data": {
      "text/plain": [
       "array([[1.2, 5.3, 2. ],\n",
       "       [5.6, 7. , 6.9]])"
      ]
     },
     "execution_count": 6,
     "metadata": {},
     "output_type": "execute_result"
    }
   ],
   "source": [
    "a2"
   ]
  },
  {
   "cell_type": "code",
   "execution_count": 7,
   "id": "641d1433",
   "metadata": {},
   "outputs": [
    {
     "data": {
      "text/plain": [
       "array([[[ 1,  2,  3],\n",
       "        [ 4,  5,  6],\n",
       "        [ 7,  8,  9]],\n",
       "\n",
       "       [[10, 11, 12],\n",
       "        [13, 14, 15],\n",
       "        [16, 17, 18]]])"
      ]
     },
     "execution_count": 7,
     "metadata": {},
     "output_type": "execute_result"
    }
   ],
   "source": [
    "a3"
   ]
  },
  {
   "cell_type": "code",
   "execution_count": 8,
   "id": "6afed878",
   "metadata": {},
   "outputs": [
    {
     "data": {
      "text/plain": [
       "(3,)"
      ]
     },
     "execution_count": 8,
     "metadata": {},
     "output_type": "execute_result"
    }
   ],
   "source": [
    "a1.shape"
   ]
  },
  {
   "cell_type": "code",
   "execution_count": 9,
   "id": "ccc89a8e",
   "metadata": {},
   "outputs": [
    {
     "data": {
      "text/plain": [
       "(2, 3)"
      ]
     },
     "execution_count": 9,
     "metadata": {},
     "output_type": "execute_result"
    }
   ],
   "source": [
    "a2.shape"
   ]
  },
  {
   "cell_type": "code",
   "execution_count": 10,
   "id": "284adf4e",
   "metadata": {},
   "outputs": [
    {
     "data": {
      "text/plain": [
       "(2, 3, 3)"
      ]
     },
     "execution_count": 10,
     "metadata": {},
     "output_type": "execute_result"
    }
   ],
   "source": [
    "a3.shape"
   ]
  },
  {
   "cell_type": "code",
   "execution_count": 11,
   "id": "8ea0d98b",
   "metadata": {},
   "outputs": [
    {
     "data": {
      "text/plain": [
       "1"
      ]
     },
     "execution_count": 11,
     "metadata": {},
     "output_type": "execute_result"
    }
   ],
   "source": [
    "a1.ndim"
   ]
  },
  {
   "cell_type": "code",
   "execution_count": 12,
   "id": "082b4a52",
   "metadata": {},
   "outputs": [
    {
     "data": {
      "text/plain": [
       "2"
      ]
     },
     "execution_count": 12,
     "metadata": {},
     "output_type": "execute_result"
    }
   ],
   "source": [
    "a2.ndim"
   ]
  },
  {
   "cell_type": "code",
   "execution_count": 13,
   "id": "a4aa1bc1",
   "metadata": {},
   "outputs": [
    {
     "data": {
      "text/plain": [
       "3"
      ]
     },
     "execution_count": 13,
     "metadata": {},
     "output_type": "execute_result"
    }
   ],
   "source": [
    "a3.ndim"
   ]
  },
  {
   "cell_type": "code",
   "execution_count": 14,
   "id": "44d5dda7",
   "metadata": {},
   "outputs": [
    {
     "data": {
      "text/plain": [
       "(dtype('int32'), dtype('float64'), dtype('int32'))"
      ]
     },
     "execution_count": 14,
     "metadata": {},
     "output_type": "execute_result"
    }
   ],
   "source": [
    "a1.dtype , a2.dtype, a3.dtype"
   ]
  },
  {
   "cell_type": "code",
   "execution_count": 15,
   "id": "61433745",
   "metadata": {},
   "outputs": [
    {
     "data": {
      "text/plain": [
       "(3, 6, 18)"
      ]
     },
     "execution_count": 15,
     "metadata": {},
     "output_type": "execute_result"
    }
   ],
   "source": [
    "a1.size ,a2.size,a3.size"
   ]
  },
  {
   "cell_type": "code",
   "execution_count": 16,
   "id": "70988c1f",
   "metadata": {},
   "outputs": [
    {
     "data": {
      "text/plain": [
       "(numpy.ndarray, numpy.ndarray, numpy.ndarray)"
      ]
     },
     "execution_count": 16,
     "metadata": {},
     "output_type": "execute_result"
    }
   ],
   "source": [
    "type(a1) , type(a2) , type(a3)"
   ]
  },
  {
   "cell_type": "code",
   "execution_count": 17,
   "id": "6f03f391",
   "metadata": {},
   "outputs": [
    {
     "data": {
      "text/html": [
       "<div>\n",
       "<style scoped>\n",
       "    .dataframe tbody tr th:only-of-type {\n",
       "        vertical-align: middle;\n",
       "    }\n",
       "\n",
       "    .dataframe tbody tr th {\n",
       "        vertical-align: top;\n",
       "    }\n",
       "\n",
       "    .dataframe thead th {\n",
       "        text-align: right;\n",
       "    }\n",
       "</style>\n",
       "<table border=\"1\" class=\"dataframe\">\n",
       "  <thead>\n",
       "    <tr style=\"text-align: right;\">\n",
       "      <th></th>\n",
       "      <th>0</th>\n",
       "      <th>1</th>\n",
       "      <th>2</th>\n",
       "    </tr>\n",
       "  </thead>\n",
       "  <tbody>\n",
       "    <tr>\n",
       "      <th>0</th>\n",
       "      <td>1.2</td>\n",
       "      <td>5.3</td>\n",
       "      <td>2.0</td>\n",
       "    </tr>\n",
       "    <tr>\n",
       "      <th>1</th>\n",
       "      <td>5.6</td>\n",
       "      <td>7.0</td>\n",
       "      <td>6.9</td>\n",
       "    </tr>\n",
       "  </tbody>\n",
       "</table>\n",
       "</div>"
      ],
      "text/plain": [
       "     0    1    2\n",
       "0  1.2  5.3  2.0\n",
       "1  5.6  7.0  6.9"
      ]
     },
     "execution_count": 17,
     "metadata": {},
     "output_type": "execute_result"
    }
   ],
   "source": [
    " # Create a DataFrame from NumPy array\n",
    "import pandas as pd\n",
    "\n",
    "df=pd.DataFrame(a2)\n",
    "df"
   ]
  },
  {
   "cell_type": "code",
   "execution_count": 18,
   "id": "06d3cbc8",
   "metadata": {},
   "outputs": [],
   "source": [
    "df.columns = [\"c1\",\"c2\",\"c3\"]"
   ]
  },
  {
   "cell_type": "code",
   "execution_count": 19,
   "id": "7f86676a",
   "metadata": {},
   "outputs": [
    {
     "data": {
      "text/plain": [
       "Index(['c1', 'c2', 'c3'], dtype='object')"
      ]
     },
     "execution_count": 19,
     "metadata": {},
     "output_type": "execute_result"
    }
   ],
   "source": [
    "df.columns"
   ]
  },
  {
   "cell_type": "code",
   "execution_count": 20,
   "id": "bbc13209",
   "metadata": {},
   "outputs": [
    {
     "data": {
      "text/html": [
       "<div>\n",
       "<style scoped>\n",
       "    .dataframe tbody tr th:only-of-type {\n",
       "        vertical-align: middle;\n",
       "    }\n",
       "\n",
       "    .dataframe tbody tr th {\n",
       "        vertical-align: top;\n",
       "    }\n",
       "\n",
       "    .dataframe thead th {\n",
       "        text-align: right;\n",
       "    }\n",
       "</style>\n",
       "<table border=\"1\" class=\"dataframe\">\n",
       "  <thead>\n",
       "    <tr style=\"text-align: right;\">\n",
       "      <th></th>\n",
       "      <th>c1</th>\n",
       "      <th>c2</th>\n",
       "      <th>c3</th>\n",
       "    </tr>\n",
       "  </thead>\n",
       "  <tbody>\n",
       "    <tr>\n",
       "      <th>0</th>\n",
       "      <td>1.2</td>\n",
       "      <td>5.3</td>\n",
       "      <td>2.0</td>\n",
       "    </tr>\n",
       "    <tr>\n",
       "      <th>1</th>\n",
       "      <td>5.6</td>\n",
       "      <td>7.0</td>\n",
       "      <td>6.9</td>\n",
       "    </tr>\n",
       "  </tbody>\n",
       "</table>\n",
       "</div>"
      ],
      "text/plain": [
       "    c1   c2   c3\n",
       "0  1.2  5.3  2.0\n",
       "1  5.6  7.0  6.9"
      ]
     },
     "execution_count": 20,
     "metadata": {},
     "output_type": "execute_result"
    }
   ],
   "source": [
    "df"
   ]
  },
  {
   "cell_type": "markdown",
   "id": "0e34cbe6",
   "metadata": {},
   "source": [
    "## Creating Arrays"
   ]
  },
  {
   "cell_type": "code",
   "execution_count": 21,
   "id": "153eeb31",
   "metadata": {},
   "outputs": [
    {
     "data": {
      "text/plain": [
       "array([1, 2, 3])"
      ]
     },
     "execution_count": 21,
     "metadata": {},
     "output_type": "execute_result"
    }
   ],
   "source": [
    "sample_array = np.array(range(1,4))\n",
    "sample_array"
   ]
  },
  {
   "cell_type": "code",
   "execution_count": 22,
   "id": "a97c6ad6",
   "metadata": {},
   "outputs": [
    {
     "data": {
      "text/plain": [
       "dtype('int32')"
      ]
     },
     "execution_count": 22,
     "metadata": {},
     "output_type": "execute_result"
    }
   ],
   "source": [
    "sample_array.dtype"
   ]
  },
  {
   "cell_type": "code",
   "execution_count": 23,
   "id": "1a26600a",
   "metadata": {},
   "outputs": [
    {
     "data": {
      "text/plain": [
       "array([[1., 1., 1., 1.],\n",
       "       [1., 1., 1., 1.],\n",
       "       [1., 1., 1., 1.]])"
      ]
     },
     "execution_count": 23,
     "metadata": {},
     "output_type": "execute_result"
    }
   ],
   "source": [
    "ones=np.ones((3,4))\n",
    "ones"
   ]
  },
  {
   "cell_type": "code",
   "execution_count": 24,
   "id": "6dbeecc3",
   "metadata": {},
   "outputs": [
    {
     "data": {
      "text/plain": [
       "dtype('float64')"
      ]
     },
     "execution_count": 24,
     "metadata": {},
     "output_type": "execute_result"
    }
   ],
   "source": [
    "ones.dtype"
   ]
  },
  {
   "cell_type": "code",
   "execution_count": 25,
   "id": "1bb8e806",
   "metadata": {},
   "outputs": [
    {
     "data": {
      "text/plain": [
       "array([[0., 0., 0.],\n",
       "       [0., 0., 0.]])"
      ]
     },
     "execution_count": 25,
     "metadata": {},
     "output_type": "execute_result"
    }
   ],
   "source": [
    "zeros = np.zeros((2,3))\n",
    "zeros"
   ]
  },
  {
   "cell_type": "code",
   "execution_count": 26,
   "id": "3992dae8",
   "metadata": {},
   "outputs": [
    {
     "data": {
      "text/plain": [
       "array([ 0,  2,  4,  6,  8, 10, 12, 14, 16, 18])"
      ]
     },
     "execution_count": 26,
     "metadata": {},
     "output_type": "execute_result"
    }
   ],
   "source": [
    "range_array = np.arange(0,20,2)\n",
    "range_array"
   ]
  },
  {
   "cell_type": "code",
   "execution_count": 27,
   "id": "41ca4ee1",
   "metadata": {},
   "outputs": [
    {
     "data": {
      "text/plain": [
       "array([[[ 6,  9],\n",
       "        [13,  3],\n",
       "        [ 5, 13],\n",
       "        [ 8, 12],\n",
       "        [13, 10]],\n",
       "\n",
       "       [[12, 13],\n",
       "        [ 1,  7],\n",
       "        [ 4,  2],\n",
       "        [ 9,  1],\n",
       "        [ 2,  6]]])"
      ]
     },
     "execution_count": 27,
     "metadata": {},
     "output_type": "execute_result"
    }
   ],
   "source": [
    "random_array = np.random.randint(0 , 15 ,size = (2,5,2))\n",
    "random_array"
   ]
  },
  {
   "cell_type": "code",
   "execution_count": 28,
   "id": "f7230e7c",
   "metadata": {},
   "outputs": [
    {
     "data": {
      "text/plain": [
       "(2, 5, 2)"
      ]
     },
     "execution_count": 28,
     "metadata": {},
     "output_type": "execute_result"
    }
   ],
   "source": [
    "random_array.shape"
   ]
  },
  {
   "cell_type": "code",
   "execution_count": 29,
   "id": "8e544703",
   "metadata": {},
   "outputs": [
    {
     "data": {
      "text/plain": [
       "3"
      ]
     },
     "execution_count": 29,
     "metadata": {},
     "output_type": "execute_result"
    }
   ],
   "source": [
    "random_array.ndim"
   ]
  },
  {
   "cell_type": "code",
   "execution_count": 30,
   "id": "c912c435",
   "metadata": {},
   "outputs": [
    {
     "data": {
      "text/plain": [
       "20"
      ]
     },
     "execution_count": 30,
     "metadata": {},
     "output_type": "execute_result"
    }
   ],
   "source": [
    "random_array.size"
   ]
  },
  {
   "cell_type": "code",
   "execution_count": 31,
   "id": "b9af656b",
   "metadata": {},
   "outputs": [
    {
     "data": {
      "text/plain": [
       "2"
      ]
     },
     "execution_count": 31,
     "metadata": {},
     "output_type": "execute_result"
    }
   ],
   "source": [
    "len(random_array)"
   ]
  },
  {
   "cell_type": "code",
   "execution_count": 32,
   "id": "d4f30c7f",
   "metadata": {},
   "outputs": [
    {
     "data": {
      "text/plain": [
       "dtype('int32')"
      ]
     },
     "execution_count": 32,
     "metadata": {},
     "output_type": "execute_result"
    }
   ],
   "source": [
    "random_array.dtype"
   ]
  },
  {
   "cell_type": "code",
   "execution_count": 33,
   "id": "2bc4d3ea",
   "metadata": {},
   "outputs": [
    {
     "data": {
      "text/plain": [
       "array([[['6', '9'],\n",
       "        ['13', '3'],\n",
       "        ['5', '13'],\n",
       "        ['8', '12'],\n",
       "        ['13', '10']],\n",
       "\n",
       "       [['12', '13'],\n",
       "        ['1', '7'],\n",
       "        ['4', '2'],\n",
       "        ['9', '1'],\n",
       "        ['2', '6']]], dtype='<U11')"
      ]
     },
     "execution_count": 33,
     "metadata": {},
     "output_type": "execute_result"
    }
   ],
   "source": [
    "r2 = random_array.astype(str)\n",
    "r2"
   ]
  },
  {
   "cell_type": "code",
   "execution_count": 34,
   "id": "e7ccbf5f",
   "metadata": {},
   "outputs": [
    {
     "data": {
      "text/plain": [
       "dtype('int32')"
      ]
     },
     "execution_count": 34,
     "metadata": {},
     "output_type": "execute_result"
    }
   ],
   "source": [
    "random_array.dtype"
   ]
  },
  {
   "cell_type": "code",
   "execution_count": 35,
   "id": "56888f21",
   "metadata": {},
   "outputs": [],
   "source": [
    "random_array_2 = np.random.random((2,3))"
   ]
  },
  {
   "cell_type": "code",
   "execution_count": 36,
   "id": "671cdb77",
   "metadata": {},
   "outputs": [
    {
     "data": {
      "text/plain": [
       "dtype('float64')"
      ]
     },
     "execution_count": 36,
     "metadata": {},
     "output_type": "execute_result"
    }
   ],
   "source": [
    "random_array_2.dtype"
   ]
  },
  {
   "cell_type": "code",
   "execution_count": 37,
   "id": "e5335ccf",
   "metadata": {},
   "outputs": [
    {
     "data": {
      "text/plain": [
       "(2, 3)"
      ]
     },
     "execution_count": 37,
     "metadata": {},
     "output_type": "execute_result"
    }
   ],
   "source": [
    "random_array_2.shape"
   ]
  },
  {
   "cell_type": "code",
   "execution_count": 38,
   "id": "5a75e47a",
   "metadata": {},
   "outputs": [
    {
     "data": {
      "text/plain": [
       "2"
      ]
     },
     "execution_count": 38,
     "metadata": {},
     "output_type": "execute_result"
    }
   ],
   "source": [
    "random_array_2.ndim"
   ]
  },
  {
   "cell_type": "code",
   "execution_count": 39,
   "id": "9cbf15b0",
   "metadata": {},
   "outputs": [],
   "source": [
    "random_array_3 = np.random.rand(5,3)"
   ]
  },
  {
   "cell_type": "code",
   "execution_count": 40,
   "id": "739f2958",
   "metadata": {},
   "outputs": [
    {
     "data": {
      "text/plain": [
       "array([[17.27164625,  9.7538221 ],\n",
       "       [18.34751806, 13.1306163 ],\n",
       "       [12.20383975, 13.48037794],\n",
       "       [11.53228458,  9.04440237],\n",
       "       [15.17506001,  7.98802672]])"
      ]
     },
     "execution_count": 40,
     "metadata": {},
     "output_type": "execute_result"
    }
   ],
   "source": [
    "np.random.uniform(0.0,20.0, size = (5,2))"
   ]
  },
  {
   "cell_type": "code",
   "execution_count": 41,
   "id": "bf61c95a",
   "metadata": {},
   "outputs": [
    {
     "data": {
      "text/plain": [
       "array([[0.65875337, 0.95080038, 0.69665835],\n",
       "       [0.68856683, 0.20445579, 0.67468395],\n",
       "       [0.14858726, 0.39639343, 0.66787687],\n",
       "       [0.26875112, 0.19667506, 0.35548619],\n",
       "       [0.39786067, 0.2918353 , 0.01599883]])"
      ]
     },
     "execution_count": 41,
     "metadata": {},
     "output_type": "execute_result"
    }
   ],
   "source": [
    "random_array_3"
   ]
  },
  {
   "cell_type": "code",
   "execution_count": 42,
   "id": "540aa291",
   "metadata": {},
   "outputs": [
    {
     "data": {
      "text/plain": [
       "array([[3, 3, 3],\n",
       "       [1, 1, 2]])"
      ]
     },
     "execution_count": 42,
     "metadata": {},
     "output_type": "execute_result"
    }
   ],
   "source": [
    "# Pseudo random numbers\n",
    "#np.random.seed(seed=0)\n",
    "random_array_4 = np.random.randint(5, size=(2,3))\n",
    "random_array_4"
   ]
  },
  {
   "cell_type": "code",
   "execution_count": 43,
   "id": "6717a033",
   "metadata": {},
   "outputs": [
    {
     "data": {
      "text/plain": [
       "((2, 3), 2, dtype('int32'), 2, 6)"
      ]
     },
     "execution_count": 43,
     "metadata": {},
     "output_type": "execute_result"
    }
   ],
   "source": [
    "random_array_4.shape , random_array_4.ndim , random_array_4.dtype , len(random_array_4) , random_array_4.size"
   ]
  },
  {
   "cell_type": "code",
   "execution_count": 44,
   "id": "ba0dc6b4",
   "metadata": {},
   "outputs": [
    {
     "data": {
      "text/plain": [
       "array([[0.69409128, 0.86385734, 0.23316339],\n",
       "       [0.63716779, 0.26292193, 0.70309272],\n",
       "       [0.97964101, 0.44524097, 0.25677097],\n",
       "       [0.12920586, 0.75994251, 0.91661213],\n",
       "       [0.37203428, 0.94216661, 0.08300408]])"
      ]
     },
     "execution_count": 44,
     "metadata": {},
     "output_type": "execute_result"
    }
   ],
   "source": [
    "#np.random.seed(seed=69)\n",
    "random_array_5 = np.random.random((5,3))\n",
    "random_array_5"
   ]
  },
  {
   "cell_type": "markdown",
   "id": "7069cb2c",
   "metadata": {},
   "source": [
    "# Viewing Arrays and Matrices"
   ]
  },
  {
   "cell_type": "code",
   "execution_count": 45,
   "id": "637accca",
   "metadata": {},
   "outputs": [
    {
     "data": {
      "text/plain": [
       "array([1, 2, 3])"
      ]
     },
     "execution_count": 45,
     "metadata": {},
     "output_type": "execute_result"
    }
   ],
   "source": [
    "np.unique(random_array_4)"
   ]
  },
  {
   "cell_type": "code",
   "execution_count": 46,
   "id": "42bd4ff2",
   "metadata": {},
   "outputs": [
    {
     "data": {
      "text/plain": [
       "array([1, 2, 3])"
      ]
     },
     "execution_count": 46,
     "metadata": {},
     "output_type": "execute_result"
    }
   ],
   "source": [
    "a1"
   ]
  },
  {
   "cell_type": "code",
   "execution_count": 47,
   "id": "2e24bad6",
   "metadata": {},
   "outputs": [
    {
     "data": {
      "text/plain": [
       "array([[[ 1,  2,  3],\n",
       "        [ 4,  5,  6],\n",
       "        [ 7,  8,  9]],\n",
       "\n",
       "       [[10, 11, 12],\n",
       "        [13, 14, 15],\n",
       "        [16, 17, 18]]])"
      ]
     },
     "execution_count": 47,
     "metadata": {},
     "output_type": "execute_result"
    }
   ],
   "source": [
    "a3"
   ]
  },
  {
   "cell_type": "code",
   "execution_count": 48,
   "id": "1a108d65",
   "metadata": {},
   "outputs": [
    {
     "data": {
      "text/plain": [
       "array([ 1,  2,  3,  4,  5,  6,  7,  8,  9, 10, 11, 12, 13, 14, 15, 16, 17,\n",
       "       18])"
      ]
     },
     "execution_count": 48,
     "metadata": {},
     "output_type": "execute_result"
    }
   ],
   "source": [
    "np.unique(a3)"
   ]
  },
  {
   "cell_type": "code",
   "execution_count": 49,
   "id": "02a5c710",
   "metadata": {},
   "outputs": [
    {
     "data": {
      "text/plain": [
       "1"
      ]
     },
     "execution_count": 49,
     "metadata": {},
     "output_type": "execute_result"
    }
   ],
   "source": [
    "a1[0]"
   ]
  },
  {
   "cell_type": "code",
   "execution_count": 50,
   "id": "92f592ed",
   "metadata": {},
   "outputs": [
    {
     "data": {
      "text/plain": [
       "array([5.6, 7. , 6.9])"
      ]
     },
     "execution_count": 50,
     "metadata": {},
     "output_type": "execute_result"
    }
   ],
   "source": [
    "a2[1]"
   ]
  },
  {
   "cell_type": "code",
   "execution_count": 51,
   "id": "945d4df2",
   "metadata": {},
   "outputs": [
    {
     "data": {
      "text/plain": [
       "array([[10, 11, 12],\n",
       "       [13, 14, 15],\n",
       "       [16, 17, 18]])"
      ]
     },
     "execution_count": 51,
     "metadata": {},
     "output_type": "execute_result"
    }
   ],
   "source": [
    "a3[1]"
   ]
  },
  {
   "cell_type": "code",
   "execution_count": 52,
   "id": "3d9fa68d",
   "metadata": {},
   "outputs": [
    {
     "data": {
      "text/plain": [
       "array([[[ 1,  2,  3],\n",
       "        [ 4,  5,  6],\n",
       "        [ 7,  8,  9]],\n",
       "\n",
       "       [[10, 11, 12],\n",
       "        [13, 14, 15],\n",
       "        [16, 17, 18]]])"
      ]
     },
     "execution_count": 52,
     "metadata": {},
     "output_type": "execute_result"
    }
   ],
   "source": [
    "a3"
   ]
  },
  {
   "cell_type": "code",
   "execution_count": 53,
   "id": "f3ea7bc2",
   "metadata": {},
   "outputs": [
    {
     "data": {
      "text/plain": [
       "array([[[ 1,  2],\n",
       "        [ 4,  5]],\n",
       "\n",
       "       [[10, 11],\n",
       "        [13, 14]]])"
      ]
     },
     "execution_count": 53,
     "metadata": {},
     "output_type": "execute_result"
    }
   ],
   "source": [
    "a3[:2,:2,:2]"
   ]
  },
  {
   "cell_type": "code",
   "execution_count": 54,
   "id": "9142eb3f",
   "metadata": {},
   "outputs": [],
   "source": [
    "a4 = np.random.randint(5.0 , size=(2,3,3,5),dtype=int)"
   ]
  },
  {
   "cell_type": "code",
   "execution_count": 55,
   "id": "d5666cd9",
   "metadata": {},
   "outputs": [
    {
     "data": {
      "text/plain": [
       "array([[[[0, 4, 2, 3, 4],\n",
       "         [3, 0, 3, 0, 0],\n",
       "         [4, 1, 3, 2, 3]],\n",
       "\n",
       "        [[2, 1, 0, 2, 4],\n",
       "         [0, 2, 2, 3, 3],\n",
       "         [0, 2, 0, 1, 2]],\n",
       "\n",
       "        [[0, 4, 0, 1, 1],\n",
       "         [4, 3, 3, 3, 0],\n",
       "         [1, 3, 4, 3, 4]]],\n",
       "\n",
       "\n",
       "       [[[3, 0, 1, 3, 0],\n",
       "         [0, 3, 2, 2, 0],\n",
       "         [3, 3, 0, 0, 3]],\n",
       "\n",
       "        [[1, 4, 4, 0, 0],\n",
       "         [1, 0, 0, 1, 2],\n",
       "         [0, 1, 3, 1, 0]],\n",
       "\n",
       "        [[4, 2, 2, 2, 2],\n",
       "         [4, 3, 0, 2, 2],\n",
       "         [2, 4, 1, 1, 0]]]])"
      ]
     },
     "execution_count": 55,
     "metadata": {},
     "output_type": "execute_result"
    }
   ],
   "source": [
    "a4"
   ]
  },
  {
   "cell_type": "code",
   "execution_count": 56,
   "id": "4530fa53",
   "metadata": {},
   "outputs": [
    {
     "data": {
      "text/plain": [
       "((2, 3, 3, 5), 4, 90, 2, numpy.ndarray)"
      ]
     },
     "execution_count": 56,
     "metadata": {},
     "output_type": "execute_result"
    }
   ],
   "source": [
    "a4.shape,a4.ndim,a4.size,len(a4),type(a4)"
   ]
  },
  {
   "cell_type": "code",
   "execution_count": 57,
   "id": "d4e5301d",
   "metadata": {},
   "outputs": [
    {
     "data": {
      "text/plain": [
       "162"
      ]
     },
     "execution_count": 57,
     "metadata": {},
     "output_type": "execute_result"
    }
   ],
   "source": [
    "a4.sum()"
   ]
  },
  {
   "cell_type": "code",
   "execution_count": 58,
   "id": "98af9182",
   "metadata": {},
   "outputs": [
    {
     "data": {
      "text/plain": [
       "array([[[[0],\n",
       "         [3],\n",
       "         [4]],\n",
       "\n",
       "        [[2],\n",
       "         [0],\n",
       "         [0]],\n",
       "\n",
       "        [[0],\n",
       "         [4],\n",
       "         [1]]],\n",
       "\n",
       "\n",
       "       [[[3],\n",
       "         [0],\n",
       "         [3]],\n",
       "\n",
       "        [[1],\n",
       "         [1],\n",
       "         [0]],\n",
       "\n",
       "        [[4],\n",
       "         [4],\n",
       "         [2]]]])"
      ]
     },
     "execution_count": 58,
     "metadata": {},
     "output_type": "execute_result"
    }
   ],
   "source": [
    "# slice the 4 first elements in the array\n",
    "\n",
    "a4[:,:,:,:1]"
   ]
  },
  {
   "cell_type": "markdown",
   "id": "cd327f30",
   "metadata": {},
   "source": [
    "# Manipulating & Comparing Data"
   ]
  },
  {
   "cell_type": "markdown",
   "id": "0d5723ef",
   "metadata": {},
   "source": [
    "## Arithmetic "
   ]
  },
  {
   "cell_type": "code",
   "execution_count": 59,
   "id": "5d99b855",
   "metadata": {},
   "outputs": [
    {
     "data": {
      "text/plain": [
       "array([1, 2, 3])"
      ]
     },
     "execution_count": 59,
     "metadata": {},
     "output_type": "execute_result"
    }
   ],
   "source": [
    "a1"
   ]
  },
  {
   "cell_type": "code",
   "execution_count": 60,
   "id": "b14b04c3",
   "metadata": {},
   "outputs": [
    {
     "data": {
      "text/plain": [
       "array([[1, 1, 1],\n",
       "       [1, 1, 1],\n",
       "       [1, 1, 1],\n",
       "       [1, 1, 1],\n",
       "       [1, 1, 1]])"
      ]
     },
     "execution_count": 60,
     "metadata": {},
     "output_type": "execute_result"
    }
   ],
   "source": [
    "ones = np.ones((5,3),dtype=int)\n",
    "ones"
   ]
  },
  {
   "cell_type": "code",
   "execution_count": 61,
   "id": "0b00ad5c",
   "metadata": {},
   "outputs": [
    {
     "data": {
      "text/plain": [
       "array([[2, 3, 4],\n",
       "       [2, 3, 4],\n",
       "       [2, 3, 4],\n",
       "       [2, 3, 4],\n",
       "       [2, 3, 4]])"
      ]
     },
     "execution_count": 61,
     "metadata": {},
     "output_type": "execute_result"
    }
   ],
   "source": [
    "a1 + ones"
   ]
  },
  {
   "cell_type": "code",
   "execution_count": 62,
   "id": "706d87cd",
   "metadata": {},
   "outputs": [
    {
     "data": {
      "text/plain": [
       "array([[0, 1, 2],\n",
       "       [0, 1, 2],\n",
       "       [0, 1, 2],\n",
       "       [0, 1, 2],\n",
       "       [0, 1, 2]])"
      ]
     },
     "execution_count": 62,
     "metadata": {},
     "output_type": "execute_result"
    }
   ],
   "source": [
    "a1 - ones"
   ]
  },
  {
   "cell_type": "code",
   "execution_count": 63,
   "id": "1d9ef740",
   "metadata": {},
   "outputs": [
    {
     "data": {
      "text/plain": [
       "array([[1, 2, 3],\n",
       "       [1, 2, 3],\n",
       "       [1, 2, 3],\n",
       "       [1, 2, 3],\n",
       "       [1, 2, 3]])"
      ]
     },
     "execution_count": 63,
     "metadata": {},
     "output_type": "execute_result"
    }
   ],
   "source": [
    "a1* ones"
   ]
  },
  {
   "cell_type": "code",
   "execution_count": 64,
   "id": "84bb9b5c",
   "metadata": {},
   "outputs": [
    {
     "data": {
      "text/plain": [
       "array([[ 1.2, 10.6,  6. ],\n",
       "       [ 5.6, 14. , 20.7]])"
      ]
     },
     "execution_count": 64,
     "metadata": {},
     "output_type": "execute_result"
    }
   ],
   "source": [
    "a1 * a2"
   ]
  },
  {
   "cell_type": "code",
   "execution_count": 65,
   "id": "e04f8a0b",
   "metadata": {},
   "outputs": [
    {
     "data": {
      "text/plain": [
       "array([[0.83333333, 0.37735849, 1.5       ],\n",
       "       [0.17857143, 0.28571429, 0.43478261]])"
      ]
     },
     "execution_count": 65,
     "metadata": {},
     "output_type": "execute_result"
    }
   ],
   "source": [
    "a1 / a2"
   ]
  },
  {
   "cell_type": "code",
   "execution_count": 66,
   "id": "58d94384",
   "metadata": {
    "scrolled": true
   },
   "outputs": [
    {
     "data": {
      "text/plain": [
       "array([[[ 36.4,  44.9,  53.4],\n",
       "        [112.9, 121.4, 129.9]],\n",
       "\n",
       "       [[ 81.9, 101.4, 120.9],\n",
       "        [257.4, 276.9, 296.4]]])"
      ]
     },
     "execution_count": 66,
     "metadata": {},
     "output_type": "execute_result"
    }
   ],
   "source": [
    "np.dot(a2,a3)"
   ]
  },
  {
   "cell_type": "code",
   "execution_count": 67,
   "id": "c9eb5ebe",
   "metadata": {},
   "outputs": [
    {
     "data": {
      "text/plain": [
       "array([[1., 2., 0.],\n",
       "       [5., 3., 2.]])"
      ]
     },
     "execution_count": 67,
     "metadata": {},
     "output_type": "execute_result"
    }
   ],
   "source": [
    "a2 // a1"
   ]
  },
  {
   "cell_type": "code",
   "execution_count": 68,
   "id": "24213a62",
   "metadata": {},
   "outputs": [
    {
     "data": {
      "text/plain": [
       "array([[ 1.44, 28.09,  4.  ],\n",
       "       [31.36, 49.  , 47.61]])"
      ]
     },
     "execution_count": 68,
     "metadata": {},
     "output_type": "execute_result"
    }
   ],
   "source": [
    "a2**2"
   ]
  },
  {
   "cell_type": "code",
   "execution_count": 69,
   "id": "88727ac1",
   "metadata": {},
   "outputs": [
    {
     "data": {
      "text/plain": [
       "array([[2, 3, 4],\n",
       "       [2, 3, 4],\n",
       "       [2, 3, 4],\n",
       "       [2, 3, 4],\n",
       "       [2, 3, 4]])"
      ]
     },
     "execution_count": 69,
     "metadata": {},
     "output_type": "execute_result"
    }
   ],
   "source": [
    "np.add(a1,ones)"
   ]
  },
  {
   "cell_type": "code",
   "execution_count": 70,
   "id": "bbf31d30",
   "metadata": {},
   "outputs": [
    {
     "data": {
      "text/plain": [
       "array([1, 0, 1], dtype=int32)"
      ]
     },
     "execution_count": 70,
     "metadata": {},
     "output_type": "execute_result"
    }
   ],
   "source": [
    "a1%2"
   ]
  },
  {
   "cell_type": "code",
   "execution_count": 71,
   "id": "e36fb52b",
   "metadata": {},
   "outputs": [
    {
     "data": {
      "text/plain": [
       "array([ 2.71828183,  7.3890561 , 20.08553692])"
      ]
     },
     "execution_count": 71,
     "metadata": {},
     "output_type": "execute_result"
    }
   ],
   "source": [
    "np.exp(a1)"
   ]
  },
  {
   "cell_type": "code",
   "execution_count": 72,
   "id": "364740b9",
   "metadata": {},
   "outputs": [
    {
     "data": {
      "text/plain": [
       "array([1, 2, 3])"
      ]
     },
     "execution_count": 72,
     "metadata": {},
     "output_type": "execute_result"
    }
   ],
   "source": [
    "a1"
   ]
  },
  {
   "cell_type": "code",
   "execution_count": 73,
   "id": "89216050",
   "metadata": {},
   "outputs": [
    {
     "data": {
      "text/plain": [
       "array([0.        , 0.69314718, 1.09861229])"
      ]
     },
     "execution_count": 73,
     "metadata": {},
     "output_type": "execute_result"
    }
   ],
   "source": [
    "np.log(a1)"
   ]
  },
  {
   "cell_type": "code",
   "execution_count": 74,
   "id": "b3c25f16",
   "metadata": {},
   "outputs": [
    {
     "data": {
      "text/plain": [
       "0.4804530131419524"
      ]
     },
     "execution_count": 74,
     "metadata": {},
     "output_type": "execute_result"
    }
   ],
   "source": [
    "0.69314718**2"
   ]
  },
  {
   "cell_type": "code",
   "execution_count": 75,
   "id": "54c2fd17",
   "metadata": {},
   "outputs": [
    {
     "data": {
      "text/plain": [
       "0.4804530131419524"
      ]
     },
     "execution_count": 75,
     "metadata": {},
     "output_type": "execute_result"
    }
   ],
   "source": [
    "0.69314718 * 0.69314718"
   ]
  },
  {
   "cell_type": "code",
   "execution_count": 76,
   "id": "1e667b83",
   "metadata": {},
   "outputs": [
    {
     "data": {
      "text/plain": [
       "1.38629436"
      ]
     },
     "execution_count": 76,
     "metadata": {},
     "output_type": "execute_result"
    }
   ],
   "source": [
    "0.69314718 * 2"
   ]
  },
  {
   "cell_type": "markdown",
   "id": "9d565c4a",
   "metadata": {},
   "source": [
    "## Aggregation \n",
    "### Aggregation = performing the same operation on a number things"
   ]
  },
  {
   "cell_type": "code",
   "execution_count": 77,
   "id": "02906867",
   "metadata": {},
   "outputs": [
    {
     "data": {
      "text/plain": [
       "[1, 2, 3, 1, 5]"
      ]
     },
     "execution_count": 77,
     "metadata": {},
     "output_type": "execute_result"
    }
   ],
   "source": [
    "list = [1,2,3,1,5]\n",
    "list"
   ]
  },
  {
   "cell_type": "code",
   "execution_count": 79,
   "id": "8c8ef031",
   "metadata": {},
   "outputs": [
    {
     "data": {
      "text/plain": [
       "12"
      ]
     },
     "execution_count": 79,
     "metadata": {},
     "output_type": "execute_result"
    }
   ],
   "source": [
    "sum(list)"
   ]
  },
  {
   "cell_type": "code",
   "execution_count": 80,
   "id": "e7e6de6a",
   "metadata": {},
   "outputs": [
    {
     "data": {
      "text/plain": [
       "(6, 6)"
      ]
     },
     "execution_count": 80,
     "metadata": {},
     "output_type": "execute_result"
    }
   ],
   "source": [
    "np.sum(a1),sum(a1)"
   ]
  },
  {
   "cell_type": "markdown",
   "id": "2b6c963e",
   "metadata": {},
   "source": [
    "Use Python methods (``sum()``) on Python DataTypes and Use Numpy Methods on Numpy DataTypes"
   ]
  },
  {
   "cell_type": "code",
   "execution_count": 82,
   "id": "9278031b",
   "metadata": {},
   "outputs": [],
   "source": [
    "# Create a Massive Array"
   ]
  },
  {
   "cell_type": "code",
   "execution_count": 87,
   "id": "022f662a",
   "metadata": {},
   "outputs": [
    {
     "data": {
      "text/plain": [
       "array([0.30622655, 0.20596124, 0.75662368, 0.7845449 , 0.42213031,\n",
       "       0.3630281 , 0.83007237, 0.15833186, 0.0025247 , 0.90021145,\n",
       "       0.04643024, 0.83881684, 0.14728916, 0.2807975 , 0.89129478,\n",
       "       0.79232149, 0.91667386, 0.27160685, 0.42576878, 0.80940908,\n",
       "       0.37331145, 0.54293616, 0.27743927, 0.81463811, 0.25299444,\n",
       "       0.88197984, 0.34687508, 0.90014988, 0.14870483, 0.40966755,\n",
       "       0.38843959, 0.45460889, 0.98815139, 0.67375382, 0.24505931,\n",
       "       0.66441629, 0.94941205, 0.89438739, 0.47643757, 0.54326016,\n",
       "       0.47177285, 0.8092186 , 0.14197763, 0.5994578 , 0.03142801,\n",
       "       0.15620459, 0.49226611, 0.35785755, 0.96533376, 0.14192141,\n",
       "       0.67818689, 0.07847619, 0.78451722, 0.9019412 , 0.16619536,\n",
       "       0.04120434, 0.08100419, 0.5268654 , 0.31003582, 0.61138183,\n",
       "       0.45644676, 0.5034254 , 0.49243579, 0.15488642, 0.47155368,\n",
       "       0.46864643, 0.89009256, 0.36717979, 0.10195964, 0.46120575,\n",
       "       0.73927749, 0.46438839, 0.3646511 , 0.68926583, 0.35212336,\n",
       "       0.01489559, 0.29792697, 0.29814003, 0.73285568, 0.53394721,\n",
       "       0.07139532, 0.06122647, 0.08147291, 0.61143466, 0.56715614,\n",
       "       0.25353255, 0.52160218, 0.88336509, 0.21022641, 0.90349534,\n",
       "       0.93500509, 0.30594985, 0.86881505, 0.28835345, 0.04686362,\n",
       "       0.8189855 , 0.71555961, 0.09427745, 0.14887309, 0.30010762,\n",
       "       0.37811235, 0.58447053, 0.73597754, 0.66598903, 0.12123916,\n",
       "       0.98650461, 0.57065792, 0.23737182, 0.86324304, 0.93564226,\n",
       "       0.96729955, 0.35989833, 0.1749511 , 0.01014693, 0.00837098,\n",
       "       0.10421254, 0.47557189, 0.56219352, 0.6260883 , 0.94464183,\n",
       "       0.13106038, 0.19811691, 0.98800803, 0.77710211, 0.82668494,\n",
       "       0.91230066, 0.49080502, 0.61683939, 0.57119821, 0.51504007,\n",
       "       0.91447354, 0.88114118, 0.78853155, 0.90619742, 0.18960006,\n",
       "       0.87873456, 0.72818489, 0.87737772, 0.17247461, 0.83247111,\n",
       "       0.90238149, 0.34301972, 0.64950798, 0.60626019, 0.05398546,\n",
       "       0.09299153, 0.85036871, 0.57225674, 0.39419245, 0.85975333,\n",
       "       0.28633297, 0.39191578, 0.18968584, 0.6723095 , 0.59501931,\n",
       "       0.23101596, 0.33879397, 0.90265124, 0.49371101, 0.62890148,\n",
       "       0.11797633, 0.38262626, 0.61127644, 0.91125634, 0.05967291,\n",
       "       0.35245114, 0.34710025, 0.75789169, 0.53364721, 0.18408057,\n",
       "       0.06033885, 0.15889956, 0.93828236, 0.47476801, 0.12191681,\n",
       "       0.0705694 , 0.18898209, 0.65021493, 0.84592378, 0.68150501,\n",
       "       0.93334477, 0.57671103, 0.97459135, 0.86209863, 0.62438235,\n",
       "       0.45735211, 0.88321078, 0.95181021, 0.15950461, 0.08513826,\n",
       "       0.28816136, 0.3977957 , 0.43898881, 0.35610228, 0.09977882,\n",
       "       0.56880246, 0.86840691, 0.53846307, 0.3548352 , 0.24441979,\n",
       "       0.54227575, 0.14614196, 0.93089145, 0.30645756, 0.73385811,\n",
       "       0.04836098, 0.06648503, 0.81801207, 0.31483736, 0.98400763,\n",
       "       0.70045357, 0.92961184, 0.51529106, 0.29953253, 0.92433637,\n",
       "       0.37461122, 0.30110661, 0.12891324, 0.93115313, 0.17219588,\n",
       "       0.53740852, 0.48480513, 0.37608334, 0.41595302, 0.87577034,\n",
       "       0.48432948, 0.06764194, 0.35532436, 0.18939651, 0.34872226,\n",
       "       0.72296589, 0.94214738, 0.1054356 , 0.35073535, 0.18539953,\n",
       "       0.80478987, 0.89660727, 0.73303302, 0.97183728, 0.85879324,\n",
       "       0.57276107, 0.68102742, 0.12517624, 0.90451717, 0.52499116,\n",
       "       0.18408069, 0.57198718, 0.78317095, 0.74087427, 0.0532295 ,\n",
       "       0.08203782, 0.31546237, 0.25146712, 0.07246033, 0.14051368,\n",
       "       0.27845702, 0.76954901, 0.05209727, 0.42133113, 0.76292044,\n",
       "       0.56686884, 0.957957  , 0.67984774, 0.02347436, 0.80089235,\n",
       "       0.45237761, 0.66704094, 0.44175671, 0.29062016, 0.74023586,\n",
       "       0.25508856, 0.14948893, 0.90997412, 0.86327197, 0.06393109,\n",
       "       0.14482018, 0.82380234, 0.40726174, 0.11457916, 0.79818936,\n",
       "       0.16751997, 0.76924023, 0.24850581, 0.71689246, 0.04435647,\n",
       "       0.14970057, 0.7087961 , 0.77616093, 0.46348977, 0.24315513,\n",
       "       0.11176589, 0.79908234, 0.00175546, 0.71708332, 0.67853014,\n",
       "       0.37033456, 0.93267809, 0.19592295, 0.40150027, 0.14378869,\n",
       "       0.6346189 , 0.95647447, 0.51031364, 0.06149495, 0.82141422,\n",
       "       0.51655213, 0.93995777, 0.8226172 , 0.65233107, 0.42931819,\n",
       "       0.35701106, 0.42623135, 0.98399956, 0.54552713, 0.4377041 ,\n",
       "       0.7202434 , 0.71764327, 0.77624796, 0.85914112, 0.45725574,\n",
       "       0.42373067, 0.00179608, 0.99639818, 0.22433565, 0.5695694 ,\n",
       "       0.24241977, 0.40904692, 0.67152033, 0.43019023, 0.35280979,\n",
       "       0.2999525 , 0.44847034, 0.75306483, 0.93794743, 0.12253418,\n",
       "       0.79142122, 0.17388   , 0.58875788, 0.47974495, 0.69226432,\n",
       "       0.99846805, 0.36890082, 0.00971786, 0.28143854, 0.84872079,\n",
       "       0.27946892, 0.4680562 , 0.35533648, 0.4785406 , 0.04372006,\n",
       "       0.77727256, 0.58819522, 0.56125762, 0.577558  , 0.91159269,\n",
       "       0.69021335, 0.8312527 , 0.01055587, 0.46505175, 0.12094594,\n",
       "       0.79666101, 0.61782677, 0.57631029, 0.22155538, 0.48026297,\n",
       "       0.29414358, 0.26628137, 0.97254992, 0.00149859, 0.40756185,\n",
       "       0.3940281 , 0.02508349, 0.09157132, 0.02219152, 0.18649326,\n",
       "       0.24240473, 0.11920555, 0.15337682, 0.79677747, 0.6833603 ,\n",
       "       0.44756391, 0.72350956, 0.22589274, 0.27824306, 0.55160874,\n",
       "       0.63503813, 0.63234152, 0.15066935, 0.85153568, 0.95804604,\n",
       "       0.3044319 , 0.86536731, 0.51407591, 0.13565614, 0.67573435,\n",
       "       0.56669363, 0.04107573, 0.88513593, 0.18360455, 0.3594068 ,\n",
       "       0.14399579, 0.09037796, 0.3048307 , 0.01348478, 0.31025203,\n",
       "       0.01608556, 0.8900131 , 0.55486563, 0.17107713, 0.60933366,\n",
       "       0.53313329, 0.33810295, 0.56730872, 0.99822733, 0.7097515 ,\n",
       "       0.58132534, 0.48293143, 0.13101224, 0.49557717, 0.8296514 ,\n",
       "       0.64675038, 0.15366941, 0.54435884, 0.15140328, 0.32522614,\n",
       "       0.47319824, 0.09047204, 0.45942982, 0.08713945, 0.62588505,\n",
       "       0.51382497, 0.17114105, 0.37975386, 0.13577476, 0.2914332 ,\n",
       "       0.23005088, 0.43965834, 0.64942727, 0.34313499, 0.81650945,\n",
       "       0.8746934 , 0.07029284, 0.70801816, 0.49905728, 0.8588897 ,\n",
       "       0.93854283, 0.08140204, 0.98906292, 0.84512568, 0.85688287,\n",
       "       0.34472349, 0.25511103, 0.62308948, 0.78376516, 0.43576095,\n",
       "       0.56307664, 0.77832908, 0.19398687, 0.90242763, 0.77595908,\n",
       "       0.41536771, 0.86779808, 0.29564131, 0.41664249, 0.60208177,\n",
       "       0.1376225 , 0.16085563, 0.07849224, 0.09489875, 0.53341455,\n",
       "       0.14879205, 0.12868346, 0.26508504, 0.31601725, 0.88201866,\n",
       "       0.94804661, 0.22593608, 0.61815659, 0.61507757, 0.84618101,\n",
       "       0.51015587, 0.25168356, 0.67749406, 0.59141439, 0.80567673,\n",
       "       0.85490298, 0.81545841, 0.45862002, 0.72180819, 0.6810344 ,\n",
       "       0.37977937, 0.36210598, 0.18148116, 0.09744837, 0.62021205,\n",
       "       0.93973753, 0.00235166, 0.72163533, 0.08549687, 0.00343079,\n",
       "       0.46390837, 0.53783512, 0.52516539, 0.21487014, 0.81156145,\n",
       "       0.75315041, 0.80855849, 0.08319086, 0.49290164, 0.10712213,\n",
       "       0.06369722, 0.77048068, 0.27430779, 0.29089598, 0.30520093,\n",
       "       0.9719889 , 0.2828881 , 0.87712599, 0.14661025, 0.09580673,\n",
       "       0.015532  , 0.71412764, 0.16429779, 0.72913015, 0.92671715,\n",
       "       0.77868129, 0.88075814, 0.70564913, 0.37730264, 0.57202957,\n",
       "       0.8635492 , 0.67224838, 0.80455605, 0.29758128, 0.78120039,\n",
       "       0.27823123, 0.0827455 , 0.13038385, 0.28232415, 0.85397621,\n",
       "       0.88872444, 0.36914335, 0.80986115, 0.4913078 , 0.56261236,\n",
       "       0.95974739, 0.71361052, 0.1467886 , 0.03409255, 0.36611318,\n",
       "       0.6796513 , 0.84393584, 0.35280831, 0.18339622, 0.72126752,\n",
       "       0.92744028, 0.79605281, 0.67352864, 0.89472176, 0.61192224,\n",
       "       0.67102522, 0.06958802, 0.55448283, 0.83187663, 0.42302899,\n",
       "       0.23397055, 0.78039489, 0.58161624, 0.06360508, 0.62244074,\n",
       "       0.07597382, 0.45486503, 0.0761142 , 0.14323614, 0.16415502,\n",
       "       0.5388476 , 0.93294149, 0.7548128 , 0.19216032, 0.22710606,\n",
       "       0.02147307, 0.13804832, 0.31428317, 0.29975287, 0.56337293,\n",
       "       0.64830094, 0.40984534, 0.51276911, 0.12909725, 0.21691201,\n",
       "       0.84383399, 0.23471446, 0.54826136, 0.73978434, 0.19719912,\n",
       "       0.86998098, 0.97616407, 0.46652848, 0.79901956, 0.41698457,\n",
       "       0.85938413, 0.8724868 , 0.20130855, 0.14145175, 0.25953801,\n",
       "       0.73203563, 0.25256214, 0.02689347, 0.6470091 , 0.91158607,\n",
       "       0.39466594, 0.24014755, 0.01536583, 0.26206471, 0.39789163,\n",
       "       0.5281872 , 0.45598882, 0.87254165, 0.10041831, 0.1588308 ,\n",
       "       0.88665698, 0.14447826, 0.47274832, 0.16601593, 0.90529556,\n",
       "       0.22760334, 0.70832081, 0.21556907, 0.75198994, 0.99870216,\n",
       "       0.60380249, 0.58520626, 0.19213343, 0.60700383, 0.95938938,\n",
       "       0.93816698, 0.68818322, 0.88711622, 0.43687526, 0.1391654 ,\n",
       "       0.86035609, 0.69735138, 0.1671879 , 0.43464969, 0.68916113,\n",
       "       0.87808757, 0.58855103, 0.83874415, 0.01334225, 0.92995412,\n",
       "       0.6375762 , 0.72914554, 0.6315581 , 0.92145825, 0.17310663,\n",
       "       0.58690155, 0.64620749, 0.82799636, 0.65950112, 0.66732866,\n",
       "       0.75708297, 0.62632381, 0.77913182, 0.62473738, 0.71729114,\n",
       "       0.7702506 , 0.05008907, 0.88033752, 0.36808776, 0.74716011,\n",
       "       0.55134392, 0.69700205, 0.8038585 , 0.41881107, 0.53508247,\n",
       "       0.01485988, 0.83768507, 0.91424289, 0.37799669, 0.74471106,\n",
       "       0.43085972, 0.01492661, 0.1687902 , 0.01492491, 0.01878023,\n",
       "       0.01989402, 0.87679601, 0.41763116, 0.74842866, 0.43485949,\n",
       "       0.23051227, 0.37527406, 0.65046626, 0.37508887, 0.90718422,\n",
       "       0.37451755, 0.74061808, 0.33235262, 0.85419159, 0.29995582,\n",
       "       0.31897335, 0.84060916, 0.68722175, 0.73183025, 0.15156701,\n",
       "       0.77169248, 0.87346641, 0.5858086 , 0.76478003, 0.22019214,\n",
       "       0.93431773, 0.94446186, 0.98108925, 0.26408915, 0.28701977,\n",
       "       0.6582088 , 0.28170097, 0.98165294, 0.95814167, 0.66817648,\n",
       "       0.64611651, 0.14962336, 0.7409288 , 0.52591767, 0.68049184,\n",
       "       0.23789282, 0.18072618, 0.60931378, 0.83226369, 0.57410552,\n",
       "       0.18570625, 0.88614112, 0.32400271, 0.9495628 , 0.19679081,\n",
       "       0.32590767, 0.12974047, 0.95867027, 0.80525325, 0.56267093,\n",
       "       0.65048167, 0.85056019, 0.98738262, 0.66649866, 0.26361981,\n",
       "       0.46613893, 0.91966496, 0.65615063, 0.23774146, 0.58595732,\n",
       "       0.66277714, 0.76826261, 0.19948404, 0.85923325, 0.71876857,\n",
       "       0.0766285 , 0.50498101, 0.02133286, 0.98948835, 0.07162524,\n",
       "       0.50948487, 0.35233714, 0.42941817, 0.50475271, 0.81952967,\n",
       "       0.28639841, 0.49100016, 0.02740027, 0.42393719, 0.13870346,\n",
       "       0.46764809, 0.92825592, 0.68479002, 0.29780249, 0.54686188,\n",
       "       0.06574672, 0.38811507, 0.55947489, 0.90536579, 0.38966697,\n",
       "       0.62695231, 0.15108731, 0.55123641, 0.90136166, 0.92079739,\n",
       "       0.99508294, 0.4381338 , 0.86103664, 0.3754779 , 0.96834013,\n",
       "       0.47666371, 0.15622633, 0.47150957, 0.80555306, 0.49715464,\n",
       "       0.96287644, 0.30193596, 0.34204781, 0.66657328, 0.01271336,\n",
       "       0.63016127, 0.58639351, 0.77566482, 0.57760562, 0.2699979 ,\n",
       "       0.44590853, 0.22579202, 0.05101693, 0.38332944, 0.4695098 ,\n",
       "       0.67634985, 0.30952247, 0.08582866, 0.75953749, 0.39830535,\n",
       "       0.12694393, 0.06762691, 0.36441714, 0.57489953, 0.10686927,\n",
       "       0.35211631, 0.01600504, 0.4854048 , 0.96623613, 0.52906701,\n",
       "       0.37199164, 0.63382271, 0.64175203, 0.58942496, 0.55543588,\n",
       "       0.07604547, 0.73311154, 0.08842697, 0.8377378 , 0.49614611,\n",
       "       0.99746269, 0.26431772, 0.28337154, 0.79032273, 0.80553257,\n",
       "       0.24693944, 0.49502435, 0.94337174, 0.24170784, 0.53441151,\n",
       "       0.46869542, 0.86070213, 0.02647532, 0.45084394, 0.71872364,\n",
       "       0.0683348 , 0.00242385, 0.90230028, 0.17164525, 0.84682479,\n",
       "       0.98482192, 0.03580442, 0.77720334, 0.87360729, 0.45357444,\n",
       "       0.0947257 , 0.67559149, 0.01374667, 0.69630077, 0.45763932,\n",
       "       0.61974823, 0.54248338, 0.2758069 , 0.15215684, 0.77132082,\n",
       "       0.65471917, 0.20105445, 0.040026  , 0.38580527, 0.37629098,\n",
       "       0.39472175, 0.43545412, 0.03166148, 0.94704254, 0.88674232,\n",
       "       0.14967851, 0.0573293 , 0.01120706, 0.68012801, 0.52502373,\n",
       "       0.68509267, 0.44888514, 0.87364436, 0.8538521 , 0.35576405,\n",
       "       0.59041585, 0.54051951, 0.97132035, 0.69603126, 0.32682503,\n",
       "       0.25682426, 0.25821019, 0.33236938, 0.82074117, 0.38063008,\n",
       "       0.90557917, 0.12798311, 0.75245488, 0.54099249, 0.91084587,\n",
       "       0.86531572, 0.40436641, 0.99902778, 0.64523145, 0.01405203,\n",
       "       0.7448458 , 0.45214468, 0.41453657, 0.72072346, 0.27044308,\n",
       "       0.67798254, 0.1259553 , 0.14524182, 0.8742571 , 0.93131787,\n",
       "       0.65561951, 0.42594006, 0.77689079, 0.66115037, 0.10633003,\n",
       "       0.5324616 , 0.47128112, 0.63734126, 0.0135066 , 0.44434276,\n",
       "       0.68642027, 0.11038711, 0.01850763, 0.55986021, 0.19594485,\n",
       "       0.22528022, 0.21257368, 0.83998319, 0.28679838, 0.27457079,\n",
       "       0.2481622 , 0.01181804, 0.06407696, 0.96809082, 0.67991573,\n",
       "       0.29300448, 0.545282  , 0.79135771, 0.47178549, 0.24048893,\n",
       "       0.56389885, 0.11035748, 0.75585345, 0.5116401 , 0.62111472,\n",
       "       0.73468548, 0.74845236, 0.5188074 , 0.71527885, 0.26226068,\n",
       "       0.95000448, 0.97030999, 0.02870106, 0.35835001, 0.23973161,\n",
       "       0.31618521, 0.45034044, 0.28320227, 0.20174323, 0.43300651,\n",
       "       0.86712098, 0.10433388, 0.96613067, 0.13222277, 0.15475842,\n",
       "       0.24195855, 0.63152923, 0.90916532, 0.73797502, 0.49319091,\n",
       "       0.91581901, 0.69435138, 0.9294057 , 0.21262212, 0.97868141,\n",
       "       0.12013582, 0.12904593, 0.25967118, 0.99010977, 0.46672904,\n",
       "       0.14165914, 0.65452137, 0.35024666, 0.65561846, 0.82427479,\n",
       "       0.02828905, 0.27319023, 0.93816607, 0.85880926, 0.31490431])"
      ]
     },
     "execution_count": 87,
     "metadata": {},
     "output_type": "execute_result"
    }
   ],
   "source": [
    "m_a = np.random.random(1000)\n",
    "m_a"
   ]
  },
  {
   "cell_type": "code",
   "execution_count": 88,
   "id": "461b40ff",
   "metadata": {},
   "outputs": [
    {
     "data": {
      "text/plain": [
       "array([0.30622655, 0.20596124, 0.75662368, 0.7845449 , 0.42213031,\n",
       "       0.3630281 , 0.83007237, 0.15833186, 0.0025247 , 0.90021145])"
      ]
     },
     "execution_count": 88,
     "metadata": {},
     "output_type": "execute_result"
    }
   ],
   "source": [
    "m_a[:10]"
   ]
  },
  {
   "cell_type": "code",
   "execution_count": 89,
   "id": "988fe8d8",
   "metadata": {},
   "outputs": [
    {
     "data": {
      "text/plain": [
       "498.6063903845335"
      ]
     },
     "execution_count": 89,
     "metadata": {},
     "output_type": "execute_result"
    }
   ],
   "source": [
    "sum(m_a)"
   ]
  },
  {
   "cell_type": "code",
   "execution_count": 90,
   "id": "1895d143",
   "metadata": {},
   "outputs": [
    {
     "name": "stdout",
     "output_type": "stream",
     "text": [
      "65.1 µs ± 976 ns per loop (mean ± std. dev. of 7 runs, 10,000 loops each)\n",
      "3.38 µs ± 19.3 ns per loop (mean ± std. dev. of 7 runs, 100,000 loops each)\n"
     ]
    }
   ],
   "source": [
    "%timeit sum(m_a) #how much it takes time to sum this big array Python Method\n",
    "%timeit np.sum(m_a) #Numpy Method"
   ]
  },
  {
   "cell_type": "code",
   "execution_count": 91,
   "id": "e3e1760b",
   "metadata": {},
   "outputs": [
    {
     "data": {
      "text/plain": [
       "array([[1.2, 5.3, 2. ],\n",
       "       [5.6, 7. , 6.9]])"
      ]
     },
     "execution_count": 91,
     "metadata": {},
     "output_type": "execute_result"
    }
   ],
   "source": [
    "a2"
   ]
  },
  {
   "cell_type": "code",
   "execution_count": 93,
   "id": "890094f8",
   "metadata": {},
   "outputs": [
    {
     "data": {
      "text/plain": [
       "4.666666666666667"
      ]
     },
     "execution_count": 93,
     "metadata": {},
     "output_type": "execute_result"
    }
   ],
   "source": [
    "np.mean(a2)"
   ]
  },
  {
   "cell_type": "code",
   "execution_count": 94,
   "id": "ca9085ec",
   "metadata": {},
   "outputs": [
    {
     "data": {
      "text/plain": [
       "2.266911751455907"
      ]
     },
     "execution_count": 94,
     "metadata": {},
     "output_type": "execute_result"
    }
   ],
   "source": [
    "np.std(a2)"
   ]
  },
  {
   "cell_type": "code",
   "execution_count": 95,
   "id": "0d99aa1b",
   "metadata": {},
   "outputs": [
    {
     "data": {
      "text/plain": [
       "5.138888888888888"
      ]
     },
     "execution_count": 95,
     "metadata": {},
     "output_type": "execute_result"
    }
   ],
   "source": [
    "#Variance \n",
    "np.var(a2)"
   ]
  },
  {
   "cell_type": "code",
   "execution_count": 96,
   "id": "ce61483c",
   "metadata": {},
   "outputs": [
    {
     "data": {
      "text/plain": [
       "2.266911751455907"
      ]
     },
     "execution_count": 96,
     "metadata": {},
     "output_type": "execute_result"
    }
   ],
   "source": [
    "\n",
    "np.sqrt(np.var(a2))"
   ]
  },
  {
   "cell_type": "code",
   "execution_count": null,
   "id": "9f528fce",
   "metadata": {},
   "outputs": [],
   "source": []
  }
 ],
 "metadata": {
  "kernelspec": {
   "display_name": "Python 3 (ipykernel)",
   "language": "python",
   "name": "python3"
  },
  "language_info": {
   "codemirror_mode": {
    "name": "ipython",
    "version": 3
   },
   "file_extension": ".py",
   "mimetype": "text/x-python",
   "name": "python",
   "nbconvert_exporter": "python",
   "pygments_lexer": "ipython3",
   "version": "3.10.9"
  }
 },
 "nbformat": 4,
 "nbformat_minor": 5
}
