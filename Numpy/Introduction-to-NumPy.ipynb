{
 "cells": [
  {
   "cell_type": "code",
   "execution_count": 2,
   "id": "41d71de9",
   "metadata": {},
   "outputs": [],
   "source": [
    "import numpy as np"
   ]
  },
  {
   "cell_type": "markdown",
   "id": "9ce9fcad",
   "metadata": {},
   "source": [
    "# DataTypes and Attributes"
   ]
  },
  {
   "cell_type": "code",
   "execution_count": 3,
   "id": "f4dd285f",
   "metadata": {},
   "outputs": [
    {
     "data": {
      "text/plain": [
       "array([1, 2, 3])"
      ]
     },
     "execution_count": 3,
     "metadata": {},
     "output_type": "execute_result"
    }
   ],
   "source": [
    "a1 = np.array([1,2,3])\n",
    "a1"
   ]
  },
  {
   "cell_type": "code",
   "execution_count": 4,
   "id": "61a499bd",
   "metadata": {},
   "outputs": [
    {
     "data": {
      "text/plain": [
       "numpy.ndarray"
      ]
     },
     "execution_count": 4,
     "metadata": {},
     "output_type": "execute_result"
    }
   ],
   "source": [
    "type(a1)"
   ]
  },
  {
   "cell_type": "code",
   "execution_count": 5,
   "id": "a1c43c72",
   "metadata": {},
   "outputs": [],
   "source": [
    "a2 = np.array([[1.2,5.3,2],[5.6,7,6.9]])\n",
    "a3 = np.array([[[ 1, 2, 3],\n",
    "                [ 4, 5, 6],\n",
    "                [ 7, 8, 9]],\n",
    "               \n",
    "               [[ 10, 11, 12],\n",
    "                [ 13, 14, 15],\n",
    "                [ 16, 17, 18]]])"
   ]
  },
  {
   "cell_type": "code",
   "execution_count": 6,
   "id": "04157b73",
   "metadata": {},
   "outputs": [
    {
     "data": {
      "text/plain": [
       "array([[1.2, 5.3, 2. ],\n",
       "       [5.6, 7. , 6.9]])"
      ]
     },
     "execution_count": 6,
     "metadata": {},
     "output_type": "execute_result"
    }
   ],
   "source": [
    "a2"
   ]
  },
  {
   "cell_type": "code",
   "execution_count": 7,
   "id": "641d1433",
   "metadata": {},
   "outputs": [
    {
     "data": {
      "text/plain": [
       "array([[[ 1,  2,  3],\n",
       "        [ 4,  5,  6],\n",
       "        [ 7,  8,  9]],\n",
       "\n",
       "       [[10, 11, 12],\n",
       "        [13, 14, 15],\n",
       "        [16, 17, 18]]])"
      ]
     },
     "execution_count": 7,
     "metadata": {},
     "output_type": "execute_result"
    }
   ],
   "source": [
    "a3"
   ]
  },
  {
   "cell_type": "code",
   "execution_count": 8,
   "id": "6afed878",
   "metadata": {},
   "outputs": [
    {
     "data": {
      "text/plain": [
       "(3,)"
      ]
     },
     "execution_count": 8,
     "metadata": {},
     "output_type": "execute_result"
    }
   ],
   "source": [
    "a1.shape"
   ]
  },
  {
   "cell_type": "code",
   "execution_count": 9,
   "id": "ccc89a8e",
   "metadata": {},
   "outputs": [
    {
     "data": {
      "text/plain": [
       "(2, 3)"
      ]
     },
     "execution_count": 9,
     "metadata": {},
     "output_type": "execute_result"
    }
   ],
   "source": [
    "a2.shape"
   ]
  },
  {
   "cell_type": "code",
   "execution_count": 10,
   "id": "284adf4e",
   "metadata": {},
   "outputs": [
    {
     "data": {
      "text/plain": [
       "(2, 3, 3)"
      ]
     },
     "execution_count": 10,
     "metadata": {},
     "output_type": "execute_result"
    }
   ],
   "source": [
    "a3.shape"
   ]
  },
  {
   "cell_type": "code",
   "execution_count": 11,
   "id": "8ea0d98b",
   "metadata": {},
   "outputs": [
    {
     "data": {
      "text/plain": [
       "1"
      ]
     },
     "execution_count": 11,
     "metadata": {},
     "output_type": "execute_result"
    }
   ],
   "source": [
    "a1.ndim"
   ]
  },
  {
   "cell_type": "code",
   "execution_count": 12,
   "id": "082b4a52",
   "metadata": {},
   "outputs": [
    {
     "data": {
      "text/plain": [
       "2"
      ]
     },
     "execution_count": 12,
     "metadata": {},
     "output_type": "execute_result"
    }
   ],
   "source": [
    "a2.ndim"
   ]
  },
  {
   "cell_type": "code",
   "execution_count": 13,
   "id": "a4aa1bc1",
   "metadata": {},
   "outputs": [
    {
     "data": {
      "text/plain": [
       "3"
      ]
     },
     "execution_count": 13,
     "metadata": {},
     "output_type": "execute_result"
    }
   ],
   "source": [
    "a3.ndim"
   ]
  },
  {
   "cell_type": "code",
   "execution_count": 14,
   "id": "44d5dda7",
   "metadata": {},
   "outputs": [
    {
     "data": {
      "text/plain": [
       "(dtype('int32'), dtype('float64'), dtype('int32'))"
      ]
     },
     "execution_count": 14,
     "metadata": {},
     "output_type": "execute_result"
    }
   ],
   "source": [
    "a1.dtype , a2.dtype, a3.dtype"
   ]
  },
  {
   "cell_type": "code",
   "execution_count": 15,
   "id": "61433745",
   "metadata": {},
   "outputs": [
    {
     "data": {
      "text/plain": [
       "(3, 6, 18)"
      ]
     },
     "execution_count": 15,
     "metadata": {},
     "output_type": "execute_result"
    }
   ],
   "source": [
    "a1.size ,a2.size,a3.size"
   ]
  },
  {
   "cell_type": "code",
   "execution_count": 16,
   "id": "70988c1f",
   "metadata": {},
   "outputs": [
    {
     "data": {
      "text/plain": [
       "(numpy.ndarray, numpy.ndarray, numpy.ndarray)"
      ]
     },
     "execution_count": 16,
     "metadata": {},
     "output_type": "execute_result"
    }
   ],
   "source": [
    "type(a1) , type(a2) , type(a3)"
   ]
  },
  {
   "cell_type": "code",
   "execution_count": 17,
   "id": "6f03f391",
   "metadata": {},
   "outputs": [
    {
     "data": {
      "text/html": [
       "<div>\n",
       "<style scoped>\n",
       "    .dataframe tbody tr th:only-of-type {\n",
       "        vertical-align: middle;\n",
       "    }\n",
       "\n",
       "    .dataframe tbody tr th {\n",
       "        vertical-align: top;\n",
       "    }\n",
       "\n",
       "    .dataframe thead th {\n",
       "        text-align: right;\n",
       "    }\n",
       "</style>\n",
       "<table border=\"1\" class=\"dataframe\">\n",
       "  <thead>\n",
       "    <tr style=\"text-align: right;\">\n",
       "      <th></th>\n",
       "      <th>0</th>\n",
       "      <th>1</th>\n",
       "      <th>2</th>\n",
       "    </tr>\n",
       "  </thead>\n",
       "  <tbody>\n",
       "    <tr>\n",
       "      <th>0</th>\n",
       "      <td>1.2</td>\n",
       "      <td>5.3</td>\n",
       "      <td>2.0</td>\n",
       "    </tr>\n",
       "    <tr>\n",
       "      <th>1</th>\n",
       "      <td>5.6</td>\n",
       "      <td>7.0</td>\n",
       "      <td>6.9</td>\n",
       "    </tr>\n",
       "  </tbody>\n",
       "</table>\n",
       "</div>"
      ],
      "text/plain": [
       "     0    1    2\n",
       "0  1.2  5.3  2.0\n",
       "1  5.6  7.0  6.9"
      ]
     },
     "execution_count": 17,
     "metadata": {},
     "output_type": "execute_result"
    }
   ],
   "source": [
    " # Create a DataFrame from NumPy array\n",
    "import pandas as pd\n",
    "\n",
    "df=pd.DataFrame(a2)\n",
    "df"
   ]
  },
  {
   "cell_type": "code",
   "execution_count": 18,
   "id": "06d3cbc8",
   "metadata": {},
   "outputs": [],
   "source": [
    "df.columns = [\"c1\",\"c2\",\"c3\"]"
   ]
  },
  {
   "cell_type": "code",
   "execution_count": 19,
   "id": "7f86676a",
   "metadata": {},
   "outputs": [
    {
     "data": {
      "text/plain": [
       "Index(['c1', 'c2', 'c3'], dtype='object')"
      ]
     },
     "execution_count": 19,
     "metadata": {},
     "output_type": "execute_result"
    }
   ],
   "source": [
    "df.columns"
   ]
  },
  {
   "cell_type": "code",
   "execution_count": 20,
   "id": "bbc13209",
   "metadata": {},
   "outputs": [
    {
     "data": {
      "text/html": [
       "<div>\n",
       "<style scoped>\n",
       "    .dataframe tbody tr th:only-of-type {\n",
       "        vertical-align: middle;\n",
       "    }\n",
       "\n",
       "    .dataframe tbody tr th {\n",
       "        vertical-align: top;\n",
       "    }\n",
       "\n",
       "    .dataframe thead th {\n",
       "        text-align: right;\n",
       "    }\n",
       "</style>\n",
       "<table border=\"1\" class=\"dataframe\">\n",
       "  <thead>\n",
       "    <tr style=\"text-align: right;\">\n",
       "      <th></th>\n",
       "      <th>c1</th>\n",
       "      <th>c2</th>\n",
       "      <th>c3</th>\n",
       "    </tr>\n",
       "  </thead>\n",
       "  <tbody>\n",
       "    <tr>\n",
       "      <th>0</th>\n",
       "      <td>1.2</td>\n",
       "      <td>5.3</td>\n",
       "      <td>2.0</td>\n",
       "    </tr>\n",
       "    <tr>\n",
       "      <th>1</th>\n",
       "      <td>5.6</td>\n",
       "      <td>7.0</td>\n",
       "      <td>6.9</td>\n",
       "    </tr>\n",
       "  </tbody>\n",
       "</table>\n",
       "</div>"
      ],
      "text/plain": [
       "    c1   c2   c3\n",
       "0  1.2  5.3  2.0\n",
       "1  5.6  7.0  6.9"
      ]
     },
     "execution_count": 20,
     "metadata": {},
     "output_type": "execute_result"
    }
   ],
   "source": [
    "df"
   ]
  },
  {
   "cell_type": "markdown",
   "id": "0e34cbe6",
   "metadata": {},
   "source": [
    "## Creating Arrays"
   ]
  },
  {
   "cell_type": "code",
   "execution_count": 21,
   "id": "153eeb31",
   "metadata": {},
   "outputs": [
    {
     "data": {
      "text/plain": [
       "array([1, 2, 3])"
      ]
     },
     "execution_count": 21,
     "metadata": {},
     "output_type": "execute_result"
    }
   ],
   "source": [
    "sample_array = np.array(range(1,4))\n",
    "sample_array"
   ]
  },
  {
   "cell_type": "code",
   "execution_count": 22,
   "id": "a97c6ad6",
   "metadata": {},
   "outputs": [
    {
     "data": {
      "text/plain": [
       "dtype('int32')"
      ]
     },
     "execution_count": 22,
     "metadata": {},
     "output_type": "execute_result"
    }
   ],
   "source": [
    "sample_array.dtype"
   ]
  },
  {
   "cell_type": "code",
   "execution_count": 23,
   "id": "1a26600a",
   "metadata": {},
   "outputs": [
    {
     "data": {
      "text/plain": [
       "array([[1., 1., 1., 1.],\n",
       "       [1., 1., 1., 1.],\n",
       "       [1., 1., 1., 1.]])"
      ]
     },
     "execution_count": 23,
     "metadata": {},
     "output_type": "execute_result"
    }
   ],
   "source": [
    "ones=np.ones((3,4))\n",
    "ones"
   ]
  },
  {
   "cell_type": "code",
   "execution_count": 24,
   "id": "6dbeecc3",
   "metadata": {},
   "outputs": [
    {
     "data": {
      "text/plain": [
       "dtype('float64')"
      ]
     },
     "execution_count": 24,
     "metadata": {},
     "output_type": "execute_result"
    }
   ],
   "source": [
    "ones.dtype"
   ]
  },
  {
   "cell_type": "code",
   "execution_count": 25,
   "id": "1bb8e806",
   "metadata": {},
   "outputs": [
    {
     "data": {
      "text/plain": [
       "array([[0., 0., 0.],\n",
       "       [0., 0., 0.]])"
      ]
     },
     "execution_count": 25,
     "metadata": {},
     "output_type": "execute_result"
    }
   ],
   "source": [
    "zeros = np.zeros((2,3))\n",
    "zeros"
   ]
  },
  {
   "cell_type": "code",
   "execution_count": 26,
   "id": "3992dae8",
   "metadata": {},
   "outputs": [
    {
     "data": {
      "text/plain": [
       "array([ 0,  2,  4,  6,  8, 10, 12, 14, 16, 18])"
      ]
     },
     "execution_count": 26,
     "metadata": {},
     "output_type": "execute_result"
    }
   ],
   "source": [
    "range_array = np.arange(0,20,2)\n",
    "range_array"
   ]
  },
  {
   "cell_type": "code",
   "execution_count": 27,
   "id": "41ca4ee1",
   "metadata": {},
   "outputs": [
    {
     "data": {
      "text/plain": [
       "array([[[ 6,  6],\n",
       "        [11,  5],\n",
       "        [11, 14],\n",
       "        [ 3,  5],\n",
       "        [ 9,  2]],\n",
       "\n",
       "       [[14,  2],\n",
       "        [ 4, 10],\n",
       "        [11,  3],\n",
       "        [ 9,  0],\n",
       "        [ 4, 11]]])"
      ]
     },
     "execution_count": 27,
     "metadata": {},
     "output_type": "execute_result"
    }
   ],
   "source": [
    "random_array = np.random.randint(0 , 15 ,size = (2,5,2))\n",
    "random_array"
   ]
  },
  {
   "cell_type": "code",
   "execution_count": 28,
   "id": "f7230e7c",
   "metadata": {},
   "outputs": [
    {
     "data": {
      "text/plain": [
       "(2, 5, 2)"
      ]
     },
     "execution_count": 28,
     "metadata": {},
     "output_type": "execute_result"
    }
   ],
   "source": [
    "random_array.shape"
   ]
  },
  {
   "cell_type": "code",
   "execution_count": 29,
   "id": "8e544703",
   "metadata": {},
   "outputs": [
    {
     "data": {
      "text/plain": [
       "3"
      ]
     },
     "execution_count": 29,
     "metadata": {},
     "output_type": "execute_result"
    }
   ],
   "source": [
    "random_array.ndim"
   ]
  },
  {
   "cell_type": "code",
   "execution_count": 30,
   "id": "c912c435",
   "metadata": {},
   "outputs": [
    {
     "data": {
      "text/plain": [
       "20"
      ]
     },
     "execution_count": 30,
     "metadata": {},
     "output_type": "execute_result"
    }
   ],
   "source": [
    "random_array.size"
   ]
  },
  {
   "cell_type": "code",
   "execution_count": 31,
   "id": "b9af656b",
   "metadata": {},
   "outputs": [
    {
     "data": {
      "text/plain": [
       "2"
      ]
     },
     "execution_count": 31,
     "metadata": {},
     "output_type": "execute_result"
    }
   ],
   "source": [
    "len(random_array)"
   ]
  },
  {
   "cell_type": "code",
   "execution_count": 32,
   "id": "d4f30c7f",
   "metadata": {},
   "outputs": [
    {
     "data": {
      "text/plain": [
       "dtype('int32')"
      ]
     },
     "execution_count": 32,
     "metadata": {},
     "output_type": "execute_result"
    }
   ],
   "source": [
    "random_array.dtype"
   ]
  },
  {
   "cell_type": "code",
   "execution_count": 33,
   "id": "2bc4d3ea",
   "metadata": {},
   "outputs": [
    {
     "data": {
      "text/plain": [
       "array([[['6', '6'],\n",
       "        ['11', '5'],\n",
       "        ['11', '14'],\n",
       "        ['3', '5'],\n",
       "        ['9', '2']],\n",
       "\n",
       "       [['14', '2'],\n",
       "        ['4', '10'],\n",
       "        ['11', '3'],\n",
       "        ['9', '0'],\n",
       "        ['4', '11']]], dtype='<U11')"
      ]
     },
     "execution_count": 33,
     "metadata": {},
     "output_type": "execute_result"
    }
   ],
   "source": [
    "r2 = random_array.astype(str)\n",
    "r2"
   ]
  },
  {
   "cell_type": "code",
   "execution_count": 34,
   "id": "e7ccbf5f",
   "metadata": {},
   "outputs": [
    {
     "data": {
      "text/plain": [
       "dtype('int32')"
      ]
     },
     "execution_count": 34,
     "metadata": {},
     "output_type": "execute_result"
    }
   ],
   "source": [
    "random_array.dtype"
   ]
  },
  {
   "cell_type": "code",
   "execution_count": 35,
   "id": "56888f21",
   "metadata": {},
   "outputs": [],
   "source": [
    "random_array_2 = np.random.random((2,3))"
   ]
  },
  {
   "cell_type": "code",
   "execution_count": 36,
   "id": "671cdb77",
   "metadata": {},
   "outputs": [
    {
     "data": {
      "text/plain": [
       "dtype('float64')"
      ]
     },
     "execution_count": 36,
     "metadata": {},
     "output_type": "execute_result"
    }
   ],
   "source": [
    "random_array_2.dtype"
   ]
  },
  {
   "cell_type": "code",
   "execution_count": 37,
   "id": "e5335ccf",
   "metadata": {},
   "outputs": [
    {
     "data": {
      "text/plain": [
       "(2, 3)"
      ]
     },
     "execution_count": 37,
     "metadata": {},
     "output_type": "execute_result"
    }
   ],
   "source": [
    "random_array_2.shape"
   ]
  },
  {
   "cell_type": "code",
   "execution_count": 38,
   "id": "5a75e47a",
   "metadata": {},
   "outputs": [
    {
     "data": {
      "text/plain": [
       "2"
      ]
     },
     "execution_count": 38,
     "metadata": {},
     "output_type": "execute_result"
    }
   ],
   "source": [
    "random_array_2.ndim"
   ]
  },
  {
   "cell_type": "code",
   "execution_count": 39,
   "id": "9cbf15b0",
   "metadata": {},
   "outputs": [],
   "source": [
    "random_array_3 = np.random.rand(5,3)"
   ]
  },
  {
   "cell_type": "code",
   "execution_count": 40,
   "id": "739f2958",
   "metadata": {},
   "outputs": [
    {
     "data": {
      "text/plain": [
       "array([[ 7.70046177,  9.24618173],\n",
       "       [ 2.7570119 ,  2.87797466],\n",
       "       [ 6.10272659, 16.70892747],\n",
       "       [14.1613625 ,  1.18420575],\n",
       "       [ 9.8037385 , 10.13675632]])"
      ]
     },
     "execution_count": 40,
     "metadata": {},
     "output_type": "execute_result"
    }
   ],
   "source": [
    "np.random.uniform(0.0,20.0, size = (5,2))"
   ]
  },
  {
   "cell_type": "code",
   "execution_count": 41,
   "id": "bf61c95a",
   "metadata": {},
   "outputs": [
    {
     "data": {
      "text/plain": [
       "array([[0.49548882, 0.04932716, 0.58985005],\n",
       "       [0.33868002, 0.81104254, 0.51255043],\n",
       "       [0.74586519, 0.64215474, 0.92578679],\n",
       "       [0.83039962, 0.33182958, 0.8389708 ],\n",
       "       [0.87357488, 0.04833147, 0.22958836]])"
      ]
     },
     "execution_count": 41,
     "metadata": {},
     "output_type": "execute_result"
    }
   ],
   "source": [
    "random_array_3"
   ]
  },
  {
   "cell_type": "code",
   "execution_count": 42,
   "id": "540aa291",
   "metadata": {},
   "outputs": [
    {
     "data": {
      "text/plain": [
       "array([[4, 1, 3],\n",
       "       [3, 2, 1]])"
      ]
     },
     "execution_count": 42,
     "metadata": {},
     "output_type": "execute_result"
    }
   ],
   "source": [
    "# Pseudo random numbers\n",
    "#np.random.seed(seed=0)\n",
    "random_array_4 = np.random.randint(5, size=(2,3))\n",
    "random_array_4"
   ]
  },
  {
   "cell_type": "code",
   "execution_count": 43,
   "id": "6717a033",
   "metadata": {},
   "outputs": [
    {
     "data": {
      "text/plain": [
       "((2, 3), 2, dtype('int32'), 2, 6)"
      ]
     },
     "execution_count": 43,
     "metadata": {},
     "output_type": "execute_result"
    }
   ],
   "source": [
    "random_array_4.shape , random_array_4.ndim , random_array_4.dtype , len(random_array_4) , random_array_4.size"
   ]
  },
  {
   "cell_type": "code",
   "execution_count": 44,
   "id": "ba0dc6b4",
   "metadata": {},
   "outputs": [
    {
     "data": {
      "text/plain": [
       "array([[0.15377009, 0.69286606, 0.0596653 ],\n",
       "       [0.06225845, 0.24403418, 0.95285975],\n",
       "       [0.73293611, 0.48740859, 0.19705589],\n",
       "       [0.22966514, 0.72454281, 0.57542454],\n",
       "       [0.39545951, 0.91425548, 0.35365942]])"
      ]
     },
     "execution_count": 44,
     "metadata": {},
     "output_type": "execute_result"
    }
   ],
   "source": [
    "#np.random.seed(seed=69)\n",
    "random_array_5 = np.random.random((5,3))\n",
    "random_array_5"
   ]
  },
  {
   "cell_type": "markdown",
   "id": "7069cb2c",
   "metadata": {},
   "source": [
    "# Viewing Arrays and Matrices"
   ]
  },
  {
   "cell_type": "code",
   "execution_count": 45,
   "id": "637accca",
   "metadata": {},
   "outputs": [
    {
     "data": {
      "text/plain": [
       "array([1, 2, 3, 4])"
      ]
     },
     "execution_count": 45,
     "metadata": {},
     "output_type": "execute_result"
    }
   ],
   "source": [
    "np.unique(random_array_4)"
   ]
  },
  {
   "cell_type": "code",
   "execution_count": 46,
   "id": "42bd4ff2",
   "metadata": {},
   "outputs": [
    {
     "data": {
      "text/plain": [
       "array([1, 2, 3])"
      ]
     },
     "execution_count": 46,
     "metadata": {},
     "output_type": "execute_result"
    }
   ],
   "source": [
    "a1"
   ]
  },
  {
   "cell_type": "code",
   "execution_count": 47,
   "id": "2e24bad6",
   "metadata": {},
   "outputs": [
    {
     "data": {
      "text/plain": [
       "array([[[ 1,  2,  3],\n",
       "        [ 4,  5,  6],\n",
       "        [ 7,  8,  9]],\n",
       "\n",
       "       [[10, 11, 12],\n",
       "        [13, 14, 15],\n",
       "        [16, 17, 18]]])"
      ]
     },
     "execution_count": 47,
     "metadata": {},
     "output_type": "execute_result"
    }
   ],
   "source": [
    "a3"
   ]
  },
  {
   "cell_type": "code",
   "execution_count": 48,
   "id": "1a108d65",
   "metadata": {},
   "outputs": [
    {
     "data": {
      "text/plain": [
       "array([ 1,  2,  3,  4,  5,  6,  7,  8,  9, 10, 11, 12, 13, 14, 15, 16, 17,\n",
       "       18])"
      ]
     },
     "execution_count": 48,
     "metadata": {},
     "output_type": "execute_result"
    }
   ],
   "source": [
    "np.unique(a3)"
   ]
  },
  {
   "cell_type": "code",
   "execution_count": 49,
   "id": "02a5c710",
   "metadata": {},
   "outputs": [
    {
     "data": {
      "text/plain": [
       "1"
      ]
     },
     "execution_count": 49,
     "metadata": {},
     "output_type": "execute_result"
    }
   ],
   "source": [
    "a1[0]"
   ]
  },
  {
   "cell_type": "code",
   "execution_count": 50,
   "id": "92f592ed",
   "metadata": {},
   "outputs": [
    {
     "data": {
      "text/plain": [
       "array([5.6, 7. , 6.9])"
      ]
     },
     "execution_count": 50,
     "metadata": {},
     "output_type": "execute_result"
    }
   ],
   "source": [
    "a2[1]"
   ]
  },
  {
   "cell_type": "code",
   "execution_count": 51,
   "id": "945d4df2",
   "metadata": {},
   "outputs": [
    {
     "data": {
      "text/plain": [
       "array([[10, 11, 12],\n",
       "       [13, 14, 15],\n",
       "       [16, 17, 18]])"
      ]
     },
     "execution_count": 51,
     "metadata": {},
     "output_type": "execute_result"
    }
   ],
   "source": [
    "a3[1]"
   ]
  },
  {
   "cell_type": "code",
   "execution_count": 52,
   "id": "3d9fa68d",
   "metadata": {},
   "outputs": [
    {
     "data": {
      "text/plain": [
       "array([[[ 1,  2,  3],\n",
       "        [ 4,  5,  6],\n",
       "        [ 7,  8,  9]],\n",
       "\n",
       "       [[10, 11, 12],\n",
       "        [13, 14, 15],\n",
       "        [16, 17, 18]]])"
      ]
     },
     "execution_count": 52,
     "metadata": {},
     "output_type": "execute_result"
    }
   ],
   "source": [
    "a3"
   ]
  },
  {
   "cell_type": "code",
   "execution_count": 53,
   "id": "f3ea7bc2",
   "metadata": {},
   "outputs": [
    {
     "data": {
      "text/plain": [
       "array([[[ 1,  2],\n",
       "        [ 4,  5]],\n",
       "\n",
       "       [[10, 11],\n",
       "        [13, 14]]])"
      ]
     },
     "execution_count": 53,
     "metadata": {},
     "output_type": "execute_result"
    }
   ],
   "source": [
    "a3[:2,:2,:2]"
   ]
  },
  {
   "cell_type": "code",
   "execution_count": 54,
   "id": "9142eb3f",
   "metadata": {},
   "outputs": [],
   "source": [
    "a4 = np.random.randint(5.0 , size=(2,3,3,5),dtype=int)"
   ]
  },
  {
   "cell_type": "code",
   "execution_count": 55,
   "id": "d5666cd9",
   "metadata": {},
   "outputs": [
    {
     "data": {
      "text/plain": [
       "array([[[[3, 1, 1, 0, 3],\n",
       "         [1, 0, 1, 0, 2],\n",
       "         [1, 3, 4, 3, 3]],\n",
       "\n",
       "        [[1, 1, 2, 1, 1],\n",
       "         [2, 2, 0, 2, 3],\n",
       "         [0, 0, 4, 2, 4]],\n",
       "\n",
       "        [[1, 3, 4, 2, 2],\n",
       "         [0, 2, 1, 3, 4],\n",
       "         [2, 2, 2, 1, 0]]],\n",
       "\n",
       "\n",
       "       [[[2, 2, 0, 2, 0],\n",
       "         [4, 1, 0, 1, 0],\n",
       "         [4, 3, 1, 3, 2]],\n",
       "\n",
       "        [[2, 3, 4, 3, 0],\n",
       "         [3, 1, 0, 1, 3],\n",
       "         [1, 2, 1, 4, 2]],\n",
       "\n",
       "        [[1, 0, 4, 2, 3],\n",
       "         [1, 1, 1, 2, 1],\n",
       "         [4, 2, 4, 3, 4]]]])"
      ]
     },
     "execution_count": 55,
     "metadata": {},
     "output_type": "execute_result"
    }
   ],
   "source": [
    "a4"
   ]
  },
  {
   "cell_type": "code",
   "execution_count": 56,
   "id": "4530fa53",
   "metadata": {},
   "outputs": [
    {
     "data": {
      "text/plain": [
       "((2, 3, 3, 5), 4, 90, 2, numpy.ndarray)"
      ]
     },
     "execution_count": 56,
     "metadata": {},
     "output_type": "execute_result"
    }
   ],
   "source": [
    "a4.shape,a4.ndim,a4.size,len(a4),type(a4)"
   ]
  },
  {
   "cell_type": "code",
   "execution_count": 57,
   "id": "d4e5301d",
   "metadata": {},
   "outputs": [
    {
     "data": {
      "text/plain": [
       "168"
      ]
     },
     "execution_count": 57,
     "metadata": {},
     "output_type": "execute_result"
    }
   ],
   "source": [
    "a4.sum()"
   ]
  },
  {
   "cell_type": "code",
   "execution_count": 58,
   "id": "98af9182",
   "metadata": {},
   "outputs": [
    {
     "data": {
      "text/plain": [
       "array([[[[3],\n",
       "         [1],\n",
       "         [1]],\n",
       "\n",
       "        [[1],\n",
       "         [2],\n",
       "         [0]],\n",
       "\n",
       "        [[1],\n",
       "         [0],\n",
       "         [2]]],\n",
       "\n",
       "\n",
       "       [[[2],\n",
       "         [4],\n",
       "         [4]],\n",
       "\n",
       "        [[2],\n",
       "         [3],\n",
       "         [1]],\n",
       "\n",
       "        [[1],\n",
       "         [1],\n",
       "         [4]]]])"
      ]
     },
     "execution_count": 58,
     "metadata": {},
     "output_type": "execute_result"
    }
   ],
   "source": [
    "# slice the 4 first elements in the array\n",
    "\n",
    "a4[:,:,:,:1]"
   ]
  },
  {
   "cell_type": "markdown",
   "id": "cd327f30",
   "metadata": {},
   "source": [
    "# Manipulating & Comparing Data"
   ]
  },
  {
   "cell_type": "markdown",
   "id": "0d5723ef",
   "metadata": {},
   "source": [
    "## Arithmetic "
   ]
  },
  {
   "cell_type": "code",
   "execution_count": 59,
   "id": "5d99b855",
   "metadata": {},
   "outputs": [
    {
     "data": {
      "text/plain": [
       "array([1, 2, 3])"
      ]
     },
     "execution_count": 59,
     "metadata": {},
     "output_type": "execute_result"
    }
   ],
   "source": [
    "a1"
   ]
  },
  {
   "cell_type": "code",
   "execution_count": 60,
   "id": "b14b04c3",
   "metadata": {},
   "outputs": [
    {
     "data": {
      "text/plain": [
       "array([[1, 1, 1],\n",
       "       [1, 1, 1],\n",
       "       [1, 1, 1],\n",
       "       [1, 1, 1],\n",
       "       [1, 1, 1]])"
      ]
     },
     "execution_count": 60,
     "metadata": {},
     "output_type": "execute_result"
    }
   ],
   "source": [
    "ones = np.ones((5,3),dtype=int)\n",
    "ones"
   ]
  },
  {
   "cell_type": "code",
   "execution_count": 61,
   "id": "0b00ad5c",
   "metadata": {},
   "outputs": [
    {
     "data": {
      "text/plain": [
       "array([[2, 3, 4],\n",
       "       [2, 3, 4],\n",
       "       [2, 3, 4],\n",
       "       [2, 3, 4],\n",
       "       [2, 3, 4]])"
      ]
     },
     "execution_count": 61,
     "metadata": {},
     "output_type": "execute_result"
    }
   ],
   "source": [
    "a1 + ones"
   ]
  },
  {
   "cell_type": "code",
   "execution_count": 62,
   "id": "706d87cd",
   "metadata": {},
   "outputs": [
    {
     "data": {
      "text/plain": [
       "array([[0, 1, 2],\n",
       "       [0, 1, 2],\n",
       "       [0, 1, 2],\n",
       "       [0, 1, 2],\n",
       "       [0, 1, 2]])"
      ]
     },
     "execution_count": 62,
     "metadata": {},
     "output_type": "execute_result"
    }
   ],
   "source": [
    "a1 - ones"
   ]
  },
  {
   "cell_type": "code",
   "execution_count": 63,
   "id": "1d9ef740",
   "metadata": {},
   "outputs": [
    {
     "data": {
      "text/plain": [
       "array([[1, 2, 3],\n",
       "       [1, 2, 3],\n",
       "       [1, 2, 3],\n",
       "       [1, 2, 3],\n",
       "       [1, 2, 3]])"
      ]
     },
     "execution_count": 63,
     "metadata": {},
     "output_type": "execute_result"
    }
   ],
   "source": [
    "a1* ones"
   ]
  },
  {
   "cell_type": "code",
   "execution_count": 64,
   "id": "84bb9b5c",
   "metadata": {},
   "outputs": [
    {
     "data": {
      "text/plain": [
       "array([[ 1.2, 10.6,  6. ],\n",
       "       [ 5.6, 14. , 20.7]])"
      ]
     },
     "execution_count": 64,
     "metadata": {},
     "output_type": "execute_result"
    }
   ],
   "source": [
    "a1 * a2"
   ]
  },
  {
   "cell_type": "code",
   "execution_count": 65,
   "id": "e04f8a0b",
   "metadata": {},
   "outputs": [
    {
     "data": {
      "text/plain": [
       "array([[0.83333333, 0.37735849, 1.5       ],\n",
       "       [0.17857143, 0.28571429, 0.43478261]])"
      ]
     },
     "execution_count": 65,
     "metadata": {},
     "output_type": "execute_result"
    }
   ],
   "source": [
    "a1 / a2"
   ]
  },
  {
   "cell_type": "code",
   "execution_count": 66,
   "id": "58d94384",
   "metadata": {
    "scrolled": true
   },
   "outputs": [
    {
     "data": {
      "text/plain": [
       "array([[[ 36.4,  44.9,  53.4],\n",
       "        [112.9, 121.4, 129.9]],\n",
       "\n",
       "       [[ 81.9, 101.4, 120.9],\n",
       "        [257.4, 276.9, 296.4]]])"
      ]
     },
     "execution_count": 66,
     "metadata": {},
     "output_type": "execute_result"
    }
   ],
   "source": [
    "np.dot(a2,a3)"
   ]
  },
  {
   "cell_type": "code",
   "execution_count": 67,
   "id": "c9eb5ebe",
   "metadata": {},
   "outputs": [
    {
     "data": {
      "text/plain": [
       "array([[1., 2., 0.],\n",
       "       [5., 3., 2.]])"
      ]
     },
     "execution_count": 67,
     "metadata": {},
     "output_type": "execute_result"
    }
   ],
   "source": [
    "a2 // a1"
   ]
  },
  {
   "cell_type": "code",
   "execution_count": 68,
   "id": "24213a62",
   "metadata": {},
   "outputs": [
    {
     "data": {
      "text/plain": [
       "array([[ 1.44, 28.09,  4.  ],\n",
       "       [31.36, 49.  , 47.61]])"
      ]
     },
     "execution_count": 68,
     "metadata": {},
     "output_type": "execute_result"
    }
   ],
   "source": [
    "a2**2"
   ]
  },
  {
   "cell_type": "code",
   "execution_count": 69,
   "id": "85a8dcc3",
   "metadata": {},
   "outputs": [
    {
     "data": {
      "text/plain": [
       "array([[2, 3, 4],\n",
       "       [2, 3, 4],\n",
       "       [2, 3, 4],\n",
       "       [2, 3, 4],\n",
       "       [2, 3, 4]])"
      ]
     },
     "execution_count": 69,
     "metadata": {},
     "output_type": "execute_result"
    }
   ],
   "source": [
    "np.add(a1,ones)"
   ]
  },
  {
   "cell_type": "code",
   "execution_count": 70,
   "id": "fa79a373",
   "metadata": {},
   "outputs": [
    {
     "data": {
      "text/plain": [
       "array([1, 0, 1], dtype=int32)"
      ]
     },
     "execution_count": 70,
     "metadata": {},
     "output_type": "execute_result"
    }
   ],
   "source": [
    "a1%2"
   ]
  },
  {
   "cell_type": "code",
   "execution_count": 71,
   "id": "c21e3773",
   "metadata": {},
   "outputs": [
    {
     "data": {
      "text/plain": [
       "array([ 2.71828183,  7.3890561 , 20.08553692])"
      ]
     },
     "execution_count": 71,
     "metadata": {},
     "output_type": "execute_result"
    }
   ],
   "source": [
    "np.exp(a1)"
   ]
  },
  {
   "cell_type": "code",
   "execution_count": 72,
   "id": "2ce863cb",
   "metadata": {},
   "outputs": [
    {
     "data": {
      "text/plain": [
       "array([1, 2, 3])"
      ]
     },
     "execution_count": 72,
     "metadata": {},
     "output_type": "execute_result"
    }
   ],
   "source": [
    "a1"
   ]
  },
  {
   "cell_type": "code",
   "execution_count": 73,
   "id": "6c7c7f3b",
   "metadata": {},
   "outputs": [
    {
     "data": {
      "text/plain": [
       "array([0.        , 0.69314718, 1.09861229])"
      ]
     },
     "execution_count": 73,
     "metadata": {},
     "output_type": "execute_result"
    }
   ],
   "source": [
    "np.log(a1)"
   ]
  },
  {
   "cell_type": "code",
   "execution_count": 74,
   "id": "eb46c015",
   "metadata": {},
   "outputs": [
    {
     "data": {
      "text/plain": [
       "0.4804530131419524"
      ]
     },
     "execution_count": 74,
     "metadata": {},
     "output_type": "execute_result"
    }
   ],
   "source": [
    "0.69314718**2"
   ]
  },
  {
   "cell_type": "code",
   "execution_count": 75,
   "id": "9bf92bd2",
   "metadata": {},
   "outputs": [
    {
     "data": {
      "text/plain": [
       "0.4804530131419524"
      ]
     },
     "execution_count": 75,
     "metadata": {},
     "output_type": "execute_result"
    }
   ],
   "source": [
    "0.69314718 * 0.69314718"
   ]
  },
  {
   "cell_type": "code",
   "execution_count": 76,
   "id": "b4c59573",
   "metadata": {},
   "outputs": [
    {
     "data": {
      "text/plain": [
       "1.38629436"
      ]
     },
     "execution_count": 76,
     "metadata": {},
     "output_type": "execute_result"
    }
   ],
   "source": [
    "0.69314718 * 2"
   ]
  },
  {
   "cell_type": "markdown",
   "id": "375413a2",
   "metadata": {},
   "source": [
    "## Aggregation \n",
    "### Aggregation = performing the same operation on a number things"
   ]
  },
  {
   "cell_type": "code",
   "execution_count": 77,
   "id": "22b86954",
   "metadata": {},
   "outputs": [
    {
     "data": {
      "text/plain": [
       "[1, 2, 3, 1, 5]"
      ]
     },
     "execution_count": 77,
     "metadata": {},
     "output_type": "execute_result"
    }
   ],
   "source": [
    "list = [1,2,3,1,5]\n",
    "list"
   ]
  },
  {
   "cell_type": "code",
   "execution_count": 78,
   "id": "eb9c6697",
   "metadata": {},
   "outputs": [
    {
     "data": {
      "text/plain": [
       "12"
      ]
     },
     "execution_count": 78,
     "metadata": {},
     "output_type": "execute_result"
    }
   ],
   "source": [
    "sum(list)"
   ]
  },
  {
   "cell_type": "code",
   "execution_count": 79,
   "id": "6a905890",
   "metadata": {},
   "outputs": [
    {
     "data": {
      "text/plain": [
       "(6, 6)"
      ]
     },
     "execution_count": 79,
     "metadata": {},
     "output_type": "execute_result"
    }
   ],
   "source": [
    "np.sum(a1),sum(a1)"
   ]
  },
  {
   "cell_type": "markdown",
   "id": "9d23c7cb",
   "metadata": {},
   "source": [
    "Use Python methods (``sum()``) on Python DataTypes and Use Numpy Methods on Numpy DataTypes"
   ]
  },
  {
   "cell_type": "code",
   "execution_count": 80,
   "id": "428f2a37",
   "metadata": {},
   "outputs": [],
   "source": [
    "# Create a Massive Array"
   ]
  },
  {
   "cell_type": "code",
   "execution_count": 81,
   "id": "8613a4d1",
   "metadata": {},
   "outputs": [
    {
     "data": {
      "text/plain": [
       "array([0.31093624, 0.94468143, 0.16557946, 0.14039751, 0.20116865,\n",
       "       0.0302267 , 0.00776121, 0.10790219, 0.99621247, 0.63163254,\n",
       "       0.21100623, 0.24303551, 0.17356231, 0.87461865, 0.54815636,\n",
       "       0.33061941, 0.03198731, 0.17602905, 0.16861945, 0.83365009,\n",
       "       0.94021802, 0.78942872, 0.09702427, 0.21248098, 0.46257834,\n",
       "       0.03621793, 0.82112744, 0.24774253, 0.42482977, 0.66964209,\n",
       "       0.90471615, 0.77937379, 0.34093869, 0.86502084, 0.73380299,\n",
       "       0.29068929, 0.00711429, 0.16079355, 0.63360592, 0.15845452,\n",
       "       0.42945292, 0.98363374, 0.33174379, 0.14509611, 0.33963864,\n",
       "       0.72878534, 0.80421666, 0.08494516, 0.12619069, 0.97918836,\n",
       "       0.05344415, 0.87677372, 0.8518075 , 0.6741382 , 0.85724327,\n",
       "       0.21175578, 0.69060105, 0.04230857, 0.19350225, 0.1669432 ,\n",
       "       0.87850813, 0.44940342, 0.1288534 , 0.54484294, 0.67681466,\n",
       "       0.76393136, 0.82700375, 0.47298275, 0.92887863, 0.51119711,\n",
       "       0.90386596, 0.62436799, 0.39003841, 0.5644105 , 0.8131027 ,\n",
       "       0.96488308, 0.39127702, 0.0382138 , 0.08949304, 0.60416678,\n",
       "       0.48083725, 0.59505793, 0.54281954, 0.73590475, 0.45939216,\n",
       "       0.11167359, 0.77886749, 0.96782346, 0.74834751, 0.84253183,\n",
       "       0.6183552 , 0.45613247, 0.7620235 , 0.22032449, 0.89310539,\n",
       "       0.31806427, 0.54916644, 0.20814675, 0.02856337, 0.55168171,\n",
       "       0.68694382, 0.70041828, 0.57010206, 0.18826907, 0.41654716,\n",
       "       0.58771266, 0.79394994, 0.55599497, 0.35568146, 0.20783859,\n",
       "       0.29917811, 0.08876182, 0.90135146, 0.0843956 , 0.59394665,\n",
       "       0.46488783, 0.9585171 , 0.01588407, 0.2209936 , 0.51196235,\n",
       "       0.95113121, 0.66378176, 0.23365315, 0.78973497, 0.06030971,\n",
       "       0.11337631, 0.56818198, 0.38430067, 0.47610367, 0.06217595,\n",
       "       0.12340354, 0.86304961, 0.02397892, 0.76679447, 0.45102626,\n",
       "       0.9593513 , 0.92502333, 0.14103493, 0.89160606, 0.36879814,\n",
       "       0.22363683, 0.82399694, 0.05983565, 0.19151517, 0.25292525,\n",
       "       0.99237128, 0.44903498, 0.77281167, 0.3286233 , 0.78706179,\n",
       "       0.31918414, 0.17486189, 0.64362184, 0.69113152, 0.91325721,\n",
       "       0.40268927, 0.005972  , 0.25768891, 0.33575737, 0.68955804,\n",
       "       0.72701945, 0.65909963, 0.03518887, 0.34151879, 0.32191045,\n",
       "       0.19797795, 0.24594212, 0.06625516, 0.48415353, 0.98943675,\n",
       "       0.76762295, 0.49149768, 0.58382682, 0.2984506 , 0.92593548,\n",
       "       0.09695872, 0.04247184, 0.23695505, 0.88229279, 0.04784303,\n",
       "       0.90515072, 0.59405702, 0.26616414, 0.20050028, 0.72712837,\n",
       "       0.4217786 , 0.85682034, 0.51456594, 0.7574743 , 0.47452667,\n",
       "       0.00279635, 0.77515661, 0.09970189, 0.87024765, 0.63150147,\n",
       "       0.25588198, 0.72619973, 0.04127727, 0.05195666, 0.2860445 ,\n",
       "       0.86890527, 0.90466326, 0.65426467, 0.87113754, 0.02772708,\n",
       "       0.39366134, 0.16048746, 0.66569741, 0.91635374, 0.6480456 ,\n",
       "       0.53038073, 0.10155268, 0.58906968, 0.74616536, 0.76875023,\n",
       "       0.31331182, 0.51117966, 0.09146495, 0.9944195 , 0.91151448,\n",
       "       0.23661437, 0.72823619, 0.17744042, 0.79663828, 0.88055284,\n",
       "       0.32043847, 0.2705312 , 0.68707411, 0.87020491, 0.91697127,\n",
       "       0.79939497, 0.04134841, 0.92626135, 0.20748969, 0.88011024,\n",
       "       0.09752967, 0.77185102, 0.96785213, 0.18498256, 0.79993463,\n",
       "       0.49677509, 0.83586816, 0.07685518, 0.36562063, 0.50890362,\n",
       "       0.41337257, 0.93671076, 0.16717408, 0.14003745, 0.88878843,\n",
       "       0.14072229, 0.17131188, 0.39178781, 0.805105  , 0.59223389,\n",
       "       0.83238836, 0.93112116, 0.9712945 , 0.08046349, 0.16685517,\n",
       "       0.91512654, 0.31575554, 0.23352664, 0.86440715, 0.56383684,\n",
       "       0.3339453 , 0.87359907, 0.35302064, 0.37304332, 0.75588544,\n",
       "       0.35865001, 0.85687226, 0.62551805, 0.31726649, 0.8938338 ,\n",
       "       0.35580905, 0.80448191, 0.92621291, 0.59127377, 0.16919163,\n",
       "       0.455421  , 0.04993771, 0.98950691, 0.58271524, 0.93425217,\n",
       "       0.85584949, 0.98414041, 0.17446188, 0.94824928, 0.38787326,\n",
       "       0.75942001, 0.97923507, 0.08746042, 0.32648463, 0.09313713,\n",
       "       0.7172198 , 0.58491593, 0.5322854 , 0.99025401, 0.19641741,\n",
       "       0.20042215, 0.81383718, 0.29043296, 0.04761431, 0.69025973,\n",
       "       0.5597062 , 0.99228479, 0.864624  , 0.28446955, 0.14136059,\n",
       "       0.24430972, 0.69030826, 0.8641167 , 0.34542771, 0.06145302,\n",
       "       0.71639378, 0.16483825, 0.13795618, 0.98329982, 0.28543489,\n",
       "       0.74408649, 0.77061562, 0.34107346, 0.1282161 , 0.33805552,\n",
       "       0.81059248, 0.59992933, 0.99900396, 0.75004917, 0.95097043,\n",
       "       0.20007429, 0.08179245, 0.05110479, 0.16418063, 0.49198732,\n",
       "       0.62688827, 0.04572712, 0.51903177, 0.55661778, 0.21261826,\n",
       "       0.15224404, 0.21343452, 0.64279327, 0.0785788 , 0.12514818,\n",
       "       0.3648074 , 0.50572545, 0.6970876 , 0.80688784, 0.43710276,\n",
       "       0.26270915, 0.23432605, 0.9817544 , 0.32747328, 0.17981966,\n",
       "       0.16751568, 0.70984414, 0.25202018, 0.13745883, 0.49600276,\n",
       "       0.5120707 , 0.26259796, 0.63508423, 0.39597372, 0.72057778,\n",
       "       0.84217455, 0.5476987 , 0.48405251, 0.92272206, 0.13496116,\n",
       "       0.15771515, 0.45901874, 0.52613059, 0.96717326, 0.63131114,\n",
       "       0.13318949, 0.03166091, 0.05798589, 0.71552812, 0.94540607,\n",
       "       0.76569711, 0.76355239, 0.65318248, 0.51730103, 0.20340623,\n",
       "       0.26498966, 0.59443345, 0.83008501, 0.89724482, 0.01215745,\n",
       "       0.49072004, 0.32813156, 0.30478085, 0.93278095, 0.70653178,\n",
       "       0.94147516, 0.60012446, 0.6704607 , 0.41706349, 0.49153132,\n",
       "       0.44438575, 0.60714843, 0.47872831, 0.76683646, 0.75673554,\n",
       "       0.74781452, 0.53515794, 0.16699234, 0.26743679, 0.00678791,\n",
       "       0.82771144, 0.60978574, 0.6177109 , 0.26171767, 0.12885147,\n",
       "       0.6584274 , 0.38272931, 0.41500225, 0.90440611, 0.19276665,\n",
       "       0.70310317, 0.53324012, 0.56648602, 0.21283023, 0.67165604,\n",
       "       0.17007287, 0.63592471, 0.95647558, 0.3804273 , 0.52646005,\n",
       "       0.93531474, 0.46782219, 0.51322594, 0.11823758, 0.30000571,\n",
       "       0.70791649, 0.9864452 , 0.7876994 , 0.02800963, 0.74911299,\n",
       "       0.19288504, 0.83932159, 0.95875092, 0.4922397 , 0.58035239,\n",
       "       0.02641869, 0.27108212, 0.36009818, 0.22026745, 0.05907691,\n",
       "       0.3545755 , 0.79628224, 0.16708421, 0.5705205 , 0.09113772,\n",
       "       0.35177131, 0.91908961, 0.88838556, 0.68818711, 0.39457261,\n",
       "       0.73717312, 0.5984834 , 0.75853558, 0.55780015, 0.55554177,\n",
       "       0.35439024, 0.70328216, 0.15858894, 0.1861802 , 0.56285699,\n",
       "       0.06720969, 0.4960375 , 0.61468173, 0.15538373, 0.79294685,\n",
       "       0.3545614 , 0.9400625 , 0.97310234, 0.08341728, 0.61616991,\n",
       "       0.72224063, 0.13859176, 0.13710736, 0.32907787, 0.89437861,\n",
       "       0.69550237, 0.17067554, 0.25930294, 0.57326646, 0.24614699,\n",
       "       0.5545771 , 0.87720667, 0.07178062, 0.94980121, 0.32841142,\n",
       "       0.11109155, 0.60379264, 0.26349595, 0.00864844, 0.15489637,\n",
       "       0.12547594, 0.3492167 , 0.09078738, 0.9345523 , 0.46254233,\n",
       "       0.7880279 , 0.36141102, 0.94995762, 0.80672166, 0.95562812,\n",
       "       0.03123788, 0.30889751, 0.61277771, 0.68525563, 0.32162814,\n",
       "       0.60364606, 0.5766793 , 0.22419631, 0.19490717, 0.44567665,\n",
       "       0.38823287, 0.99995222, 0.42145491, 0.52194441, 0.79073982,\n",
       "       0.22860064, 0.56248789, 0.85835197, 0.26258912, 0.31835269,\n",
       "       0.798409  , 0.35294909, 0.85841239, 0.53925977, 0.97804598,\n",
       "       0.94557844, 0.46631029, 0.84053886, 0.06601316, 0.75043144,\n",
       "       0.23959843, 0.84194589, 0.70555105, 0.16475281, 0.03421109,\n",
       "       0.60800824, 0.64648858, 0.91898714, 0.26621479, 0.44210345,\n",
       "       0.30945887, 0.19537929, 0.60806017, 0.27857695, 0.39232553,\n",
       "       0.26549071, 0.35389033, 0.37099139, 0.39051255, 0.78019043,\n",
       "       0.83965826, 0.94211195, 0.49930449, 0.82201971, 0.22171485,\n",
       "       0.03805911, 0.90843299, 0.94199715, 0.40444145, 0.6142623 ,\n",
       "       0.28099432, 0.30711346, 0.0649348 , 0.39139557, 0.59382262,\n",
       "       0.61462432, 0.91517668, 0.2425854 , 0.15176078, 0.01711176,\n",
       "       0.51926335, 0.26171312, 0.87957371, 0.11619084, 0.81833548,\n",
       "       0.96070739, 0.44340599, 0.86328533, 0.37648445, 0.88848398,\n",
       "       0.61355238, 0.61587852, 0.83109962, 0.54919974, 0.28971647,\n",
       "       0.04879439, 0.90651262, 0.14738755, 0.12592993, 0.37678374,\n",
       "       0.79002609, 0.9162031 , 0.6366784 , 0.05724281, 0.18434836,\n",
       "       0.14146614, 0.85445551, 0.52522102, 0.04386588, 0.12422538,\n",
       "       0.00134798, 0.94372294, 0.40520501, 0.04378485, 0.34415466,\n",
       "       0.13533792, 0.20274824, 0.80487139, 0.4800955 , 0.91544761,\n",
       "       0.04097304, 0.66830128, 0.27182082, 0.58044661, 0.51221375,\n",
       "       0.35197387, 0.32164626, 0.94654181, 0.36231411, 0.32061051,\n",
       "       0.09399878, 0.08318656, 0.58818636, 0.14867793, 0.89501966,\n",
       "       0.1121485 , 0.5343342 , 0.14963814, 0.47362618, 0.26693929,\n",
       "       0.43600385, 0.11793977, 0.36440313, 0.61033217, 0.19728977,\n",
       "       0.35185433, 0.25994087, 0.98533174, 0.82984278, 0.33156267,\n",
       "       0.3198483 , 0.7271081 , 0.1786707 , 0.29648649, 0.05129468,\n",
       "       0.9595182 , 0.04763362, 0.19820543, 0.9979079 , 0.12200131,\n",
       "       0.7342661 , 0.43092834, 0.93597061, 0.7191935 , 0.00538646,\n",
       "       0.93994165, 0.06419339, 0.37619519, 0.63689243, 0.11239013,\n",
       "       0.52811416, 0.44358075, 0.03521646, 0.21209764, 0.7081652 ,\n",
       "       0.61726532, 0.7399573 , 0.96415479, 0.19570007, 0.9358354 ,\n",
       "       0.56612795, 0.26768512, 0.10913547, 0.29912176, 0.40936378,\n",
       "       0.1331231 , 0.94640176, 0.23548815, 0.65537207, 0.95330452,\n",
       "       0.92022657, 0.77431586, 0.25940323, 0.70112224, 0.41431253,\n",
       "       0.52882926, 0.96816457, 0.23650576, 0.08927889, 0.29369513,\n",
       "       0.0374666 , 0.83559201, 0.97076581, 0.10421458, 0.80696886,\n",
       "       0.58784704, 0.01996973, 0.06195497, 0.3057221 , 0.80340914,\n",
       "       0.3465565 , 0.32050288, 0.02296843, 0.3674701 , 0.72363848,\n",
       "       0.55843683, 0.1265703 , 0.50567522, 0.27027902, 0.56148974,\n",
       "       0.58240509, 0.69763997, 0.76521382, 0.41965402, 0.67658964,\n",
       "       0.4525317 , 0.50524725, 0.1662903 , 0.6831892 , 0.34782947,\n",
       "       0.42798258, 0.91794582, 0.56292773, 0.24665619, 0.4870196 ,\n",
       "       0.19602295, 0.69652011, 0.72953778, 0.40162456, 0.00872812,\n",
       "       0.6269501 , 0.2558777 , 0.91662818, 0.4372092 , 0.14510075,\n",
       "       0.92248852, 0.95304456, 0.11259779, 0.35935924, 0.88365971,\n",
       "       0.36256341, 0.38738137, 0.72427002, 0.89520157, 0.28991612,\n",
       "       0.05624196, 0.25187631, 0.38012266, 0.50728063, 0.94927863,\n",
       "       0.9725818 , 0.45431185, 0.25327905, 0.26899343, 0.97488099,\n",
       "       0.7603435 , 0.26525329, 0.2173877 , 0.3787458 , 0.23872664,\n",
       "       0.50191345, 0.26451344, 0.93971378, 0.92324482, 0.85772013,\n",
       "       0.17921724, 0.48493224, 0.08289323, 0.59179616, 0.42199553,\n",
       "       0.54061608, 0.11317703, 0.95623364, 0.18082412, 0.99823918,\n",
       "       0.66819849, 0.61889159, 0.63849961, 0.47272039, 0.91320218,\n",
       "       0.49198231, 0.3136377 , 0.26785674, 0.21180493, 0.48733087,\n",
       "       0.75491629, 0.65832943, 0.56785351, 0.11177348, 0.16527994,\n",
       "       0.9309364 , 0.88339562, 0.75248477, 0.60092038, 0.42555652,\n",
       "       0.90774909, 0.10863627, 0.12973408, 0.82340148, 0.34953128,\n",
       "       0.07865281, 0.55775588, 0.69496303, 0.96057427, 0.33833698,\n",
       "       0.03599314, 0.55196382, 0.46668083, 0.53825623, 0.25229296,\n",
       "       0.95075005, 0.20684467, 0.3622831 , 0.53699662, 0.49928582,\n",
       "       0.07376982, 0.09227763, 0.47835561, 0.51857594, 0.32040837,\n",
       "       0.33520086, 0.64924671, 0.20757845, 0.01955708, 0.95743178,\n",
       "       0.76824122, 0.58711895, 0.85659108, 0.2645678 , 0.52858857,\n",
       "       0.05496101, 0.97856364, 0.65601996, 0.19224808, 0.80022704,\n",
       "       0.97004745, 0.02560372, 0.88227019, 0.01094711, 0.23878373,\n",
       "       0.08613276, 0.47504376, 0.00962854, 0.26987753, 0.3163166 ,\n",
       "       0.99057992, 0.38291338, 0.52000085, 0.09608615, 0.93264374,\n",
       "       0.23213976, 0.5243881 , 0.59146582, 0.67949023, 0.45335295,\n",
       "       0.94533612, 0.83202869, 0.27490682, 0.01263265, 0.18633832,\n",
       "       0.66420832, 0.41186175, 0.3732889 , 0.35451863, 0.99906115,\n",
       "       0.49068375, 0.18537683, 0.94693394, 0.32208447, 0.22566133,\n",
       "       0.54815466, 0.47759156, 0.0819567 , 0.47720024, 0.80616275,\n",
       "       0.08786836, 0.79290748, 0.49554574, 0.12428294, 0.58562855,\n",
       "       0.85633282, 0.42030144, 0.56643285, 0.63681575, 0.31791603,\n",
       "       0.70686509, 0.5804054 , 0.13736909, 0.38343085, 0.34208105,\n",
       "       0.230671  , 0.2105905 , 0.75259447, 0.68358682, 0.33296382,\n",
       "       0.02550813, 0.23419165, 0.55231992, 0.30692269, 0.22232702,\n",
       "       0.98394701, 0.31180744, 0.14574623, 0.99410077, 0.10729446,\n",
       "       0.0235584 , 0.94350517, 0.87053038, 0.85328904, 0.57193077,\n",
       "       0.23801624, 0.60804841, 0.36971941, 0.1766694 , 0.80295481,\n",
       "       0.59365706, 0.88660323, 0.4301958 , 0.68115126, 0.8698887 ,\n",
       "       0.75383409, 0.14864747, 0.2219445 , 0.34188727, 0.65423495,\n",
       "       0.03782969, 0.54997435, 0.48626182, 0.18797696, 0.59969394,\n",
       "       0.60997298, 0.72159485, 0.05363595, 0.37170344, 0.89824271,\n",
       "       0.01400636, 0.86688884, 0.29446698, 0.92730213, 0.7778952 ,\n",
       "       0.50449989, 0.44355479, 0.0279533 , 0.60480454, 0.46948248,\n",
       "       0.38084934, 0.33663076, 0.96043434, 0.02144064, 0.35169018,\n",
       "       0.93883077, 0.94223042, 0.02870619, 0.4485911 , 0.8558511 ,\n",
       "       0.17312704, 0.56680747, 0.52841553, 0.10969808, 0.81113038,\n",
       "       0.06761079, 0.6411463 , 0.96693142, 0.05187931, 0.0100946 ,\n",
       "       0.64738627, 0.22434608, 0.81778592, 0.0605766 , 0.48419454,\n",
       "       0.06366479, 0.093893  , 0.75842971, 0.4907453 , 0.11215767,\n",
       "       0.09184183, 0.34016314, 0.71881008, 0.74746743, 0.56020294,\n",
       "       0.59758828, 0.19024376, 0.46079315, 0.81119624, 0.53022772,\n",
       "       0.61103454, 0.17203168, 0.49609268, 0.22305771, 0.25962967])"
      ]
     },
     "execution_count": 81,
     "metadata": {},
     "output_type": "execute_result"
    }
   ],
   "source": [
    "m_a = np.random.random(1000)\n",
    "m_a"
   ]
  },
  {
   "cell_type": "code",
   "execution_count": 82,
   "id": "d2ac913f",
   "metadata": {},
   "outputs": [
    {
     "data": {
      "text/plain": [
       "array([0.31093624, 0.94468143, 0.16557946, 0.14039751, 0.20116865,\n",
       "       0.0302267 , 0.00776121, 0.10790219, 0.99621247, 0.63163254])"
      ]
     },
     "execution_count": 82,
     "metadata": {},
     "output_type": "execute_result"
    }
   ],
   "source": [
    "m_a[:10]"
   ]
  },
  {
   "cell_type": "code",
   "execution_count": 83,
   "id": "9ecf62ba",
   "metadata": {},
   "outputs": [
    {
     "data": {
      "text/plain": [
       "486.14641320146137"
      ]
     },
     "execution_count": 83,
     "metadata": {},
     "output_type": "execute_result"
    }
   ],
   "source": [
    "sum(m_a)"
   ]
  },
  {
   "cell_type": "code",
   "execution_count": 84,
   "id": "5de4e9de",
   "metadata": {},
   "outputs": [
    {
     "name": "stdout",
     "output_type": "stream",
     "text": [
      "66 µs ± 1.28 µs per loop (mean ± std. dev. of 7 runs, 10,000 loops each)\n",
      "3.56 µs ± 128 ns per loop (mean ± std. dev. of 7 runs, 100,000 loops each)\n"
     ]
    }
   ],
   "source": [
    "%timeit sum(m_a) #how much it takes time to sum this big array Python Method\n",
    "%timeit np.sum(m_a) #Numpy Method"
   ]
  },
  {
   "cell_type": "code",
   "execution_count": 85,
   "id": "0a4d8cd5",
   "metadata": {},
   "outputs": [
    {
     "data": {
      "text/plain": [
       "array([[1.2, 5.3, 2. ],\n",
       "       [5.6, 7. , 6.9]])"
      ]
     },
     "execution_count": 85,
     "metadata": {},
     "output_type": "execute_result"
    }
   ],
   "source": [
    "a2"
   ]
  },
  {
   "cell_type": "code",
   "execution_count": 86,
   "id": "edc46a0b",
   "metadata": {},
   "outputs": [
    {
     "data": {
      "text/plain": [
       "4.666666666666667"
      ]
     },
     "execution_count": 86,
     "metadata": {},
     "output_type": "execute_result"
    }
   ],
   "source": [
    "np.mean(a2)"
   ]
  },
  {
   "cell_type": "code",
   "execution_count": 87,
   "id": "991a3aaf",
   "metadata": {},
   "outputs": [
    {
     "data": {
      "text/plain": [
       "2.266911751455907"
      ]
     },
     "execution_count": 87,
     "metadata": {},
     "output_type": "execute_result"
    }
   ],
   "source": [
    "np.std(a2)"
   ]
  },
  {
   "cell_type": "code",
   "execution_count": 88,
   "id": "d7672b15",
   "metadata": {},
   "outputs": [
    {
     "data": {
      "text/plain": [
       "5.138888888888888"
      ]
     },
     "execution_count": 88,
     "metadata": {},
     "output_type": "execute_result"
    }
   ],
   "source": [
    "#Variance \n",
    "np.var(a2)"
   ]
  },
  {
   "cell_type": "code",
   "execution_count": 89,
   "id": "dc950a43",
   "metadata": {},
   "outputs": [
    {
     "data": {
      "text/plain": [
       "2.266911751455907"
      ]
     },
     "execution_count": 89,
     "metadata": {},
     "output_type": "execute_result"
    }
   ],
   "source": [
    "# STD = square root of variance\n",
    "np.sqrt(np.var(a2))"
   ]
  },
  {
   "cell_type": "code",
   "execution_count": 91,
   "id": "1c917a29",
   "metadata": {},
   "outputs": [
    {
     "data": {
      "text/plain": [
       "(8366994.583333333, 2.0)"
      ]
     },
     "execution_count": 91,
     "metadata": {},
     "output_type": "execute_result"
    }
   ],
   "source": [
    "high_var_array = np.array( [1,100,1000,5000,7000,6000])\n",
    "low_var_array = np.array([1,5,4,3,2])\n",
    "\n",
    "np.var(high_var_array),np.var(low_var_array)"
   ]
  },
  {
   "cell_type": "code",
   "execution_count": 92,
   "id": "1ab1d237",
   "metadata": {},
   "outputs": [
    {
     "data": {
      "text/plain": [
       "(2892.5757696788746, 1.4142135623730951)"
      ]
     },
     "execution_count": 92,
     "metadata": {},
     "output_type": "execute_result"
    }
   ],
   "source": [
    "np.std(high_var_array) , np.std(low_var_array)"
   ]
  },
  {
   "cell_type": "code",
   "execution_count": 93,
   "id": "6256c546",
   "metadata": {},
   "outputs": [
    {
     "data": {
      "text/plain": [
       "(3183.5, 3.0)"
      ]
     },
     "execution_count": 93,
     "metadata": {},
     "output_type": "execute_result"
    }
   ],
   "source": [
    "np.mean(high_var_array),np.mean(low_var_array)"
   ]
  },
  {
   "cell_type": "code",
   "execution_count": 96,
   "id": "b633f00c",
   "metadata": {},
   "outputs": [
    {
     "data": {
      "text/plain": [
       "<function matplotlib.pyplot.show(close=None, block=None)>"
      ]
     },
     "execution_count": 96,
     "metadata": {},
     "output_type": "execute_result"
    },
    {
     "data": {
      "image/png": "[encoded data removed]",
      "text/plain": [
       "<Figure size 640x480 with 1 Axes>"
      ]
     },
     "metadata": {},
     "output_type": "display_data"
    }
   ],
   "source": [
    "%matplotlib inline\n",
    "\n",
    "import matplotlib.pyplot as plt\n",
    "plt.hist(low_var_array)\n",
    "plt.show"
   ]
  },
  {
   "cell_type": "code",
   "execution_count": 97,
   "id": "082ed5ad",
   "metadata": {},
   "outputs": [
    {
     "data": {
      "text/plain": [
       "(array([2., 1., 0., 0., 0., 0., 0., 1., 1., 1.]),\n",
       " array([1.0000e+00, 7.0090e+02, 1.4008e+03, 2.1007e+03, 2.8006e+03,\n",
       "        3.5005e+03, 4.2004e+03, 4.9003e+03, 5.6002e+03, 6.3001e+03,\n",
       "        7.0000e+03]),\n",
       " <BarContainer object of 10 artists>)"
      ]
     },
     "execution_count": 97,
     "metadata": {},
     "output_type": "execute_result"
    },
    {
     "data": {
      "image/png": "[encoded data removed]",
      "text/plain": [
       "<Figure size 640x480 with 1 Axes>"
      ]
     },
     "metadata": {},
     "output_type": "display_data"
    }
   ],
   "source": [
    "plt.hist(high_var_array)"
   ]
  },
  {
   "cell_type": "code",
   "execution_count": null,
   "id": "e665f4ef",
   "metadata": {},
   "outputs": [],
   "source": []
  }
 ],
 "metadata": {
  "kernelspec": {
   "display_name": "Python 3 (ipykernel)",
   "language": "python",
   "name": "python3"
  },
  "language_info": {
   "codemirror_mode": {
    "name": "ipython",
    "version": 3
   },
   "file_extension": ".py",
   "mimetype": "text/x-python",
   "name": "python",
   "nbconvert_exporter": "python",
   "pygments_lexer": "ipython3",
   "version": "3.10.9"
  }
 },
 "nbformat": 4,
 "nbformat_minor": 5
}
