{
 "cells": [
  {
   "cell_type": "code",
   "execution_count": 6,
   "id": "b1d1bb9a",
   "metadata": {},
   "outputs": [],
   "source": [
    "import pandas as pd"
   ]
  },
  {
   "cell_type": "code",
   "execution_count": 7,
   "id": "cce05e07",
   "metadata": {},
   "outputs": [
    {
     "data": {
      "text/plain": [
       "0    Michael Scofield\n",
       "1     Lincoln Burrows\n",
       "2    Theodore Bagwell\n",
       "3        Brad Bellick\n",
       "4       Sara Tancredi\n",
       "dtype: object"
      ]
     },
     "execution_count": 7,
     "metadata": {},
     "output_type": "execute_result"
    }
   ],
   "source": [
    "Character_Name = pd.Series([\"Michael Scofield\", \"Lincoln Burrows\",\"Theodore Bagwell\",\"Brad Bellick\",\"Sara Tancredi\"])\n",
    "Character_Name"
   ]
  },
  {
   "cell_type": "code",
   "execution_count": 8,
   "id": "da3a6a02",
   "metadata": {},
   "outputs": [
    {
     "data": {
      "text/plain": [
       "0       Wentworth Miller\n",
       "1        Dominic Purcell\n",
       "2         Robert Knepper\n",
       "3          Wade Williams\n",
       "4    Sarah Wayne Callies\n",
       "dtype: object"
      ]
     },
     "execution_count": 8,
     "metadata": {},
     "output_type": "execute_result"
    }
   ],
   "source": [
    "Character_Real_Life_Name = pd.Series([\"Wentworth Miller\", \"Dominic Purcell\",\"Robert Knepper\",\"Wade Williams\",\"Sarah Wayne Callies\"])\n",
    "Character_Real_Life_Name"
   ]
  },
  {
   "cell_type": "code",
   "execution_count": 9,
   "id": "90f09177",
   "metadata": {},
   "outputs": [
    {
     "data": {
      "text/plain": [
       "0    51\n",
       "1    53\n",
       "2    64\n",
       "3    61\n",
       "4    46\n",
       "dtype: int64"
      ]
     },
     "execution_count": 9,
     "metadata": {},
     "output_type": "execute_result"
    }
   ],
   "source": [
    "Character_Age = pd.Series([51, 53,64,61,46])\n",
    "Character_Age"
   ]
  },
  {
   "cell_type": "code",
   "execution_count": 10,
   "id": "8ff48521",
   "metadata": {},
   "outputs": [],
   "source": [
    "Prison_Break = pd.DataFrame({\n",
    "    \"Character_Name\":Character_Name,\n",
    "    \"Character_Real_Life_Name\":Character_Real_Life_Name,\n",
    "    \"Character_Age\":Character_Age\n",
    "    \n",
    "})"
   ]
  },
  {
   "cell_type": "code",
   "execution_count": 11,
   "id": "d5c71c38",
   "metadata": {},
   "outputs": [
    {
     "data": {
      "text/html": [
       "<div>\n",
       "<style scoped>\n",
       "    .dataframe tbody tr th:only-of-type {\n",
       "        vertical-align: middle;\n",
       "    }\n",
       "\n",
       "    .dataframe tbody tr th {\n",
       "        vertical-align: top;\n",
       "    }\n",
       "\n",
       "    .dataframe thead th {\n",
       "        text-align: right;\n",
       "    }\n",
       "</style>\n",
       "<table border=\"1\" class=\"dataframe\">\n",
       "  <thead>\n",
       "    <tr style=\"text-align: right;\">\n",
       "      <th></th>\n",
       "      <th>Character_Name</th>\n",
       "      <th>Character_Real_Life_Name</th>\n",
       "      <th>Character_Age</th>\n",
       "    </tr>\n",
       "  </thead>\n",
       "  <tbody>\n",
       "    <tr>\n",
       "      <th>0</th>\n",
       "      <td>Michael Scofield</td>\n",
       "      <td>Wentworth Miller</td>\n",
       "      <td>51</td>\n",
       "    </tr>\n",
       "    <tr>\n",
       "      <th>1</th>\n",
       "      <td>Lincoln Burrows</td>\n",
       "      <td>Dominic Purcell</td>\n",
       "      <td>53</td>\n",
       "    </tr>\n",
       "    <tr>\n",
       "      <th>2</th>\n",
       "      <td>Theodore Bagwell</td>\n",
       "      <td>Robert Knepper</td>\n",
       "      <td>64</td>\n",
       "    </tr>\n",
       "    <tr>\n",
       "      <th>3</th>\n",
       "      <td>Brad Bellick</td>\n",
       "      <td>Wade Williams</td>\n",
       "      <td>61</td>\n",
       "    </tr>\n",
       "    <tr>\n",
       "      <th>4</th>\n",
       "      <td>Sara Tancredi</td>\n",
       "      <td>Sarah Wayne Callies</td>\n",
       "      <td>46</td>\n",
       "    </tr>\n",
       "  </tbody>\n",
       "</table>\n",
       "</div>"
      ],
      "text/plain": [
       "     Character_Name Character_Real_Life_Name  Character_Age\n",
       "0  Michael Scofield         Wentworth Miller             51\n",
       "1   Lincoln Burrows          Dominic Purcell             53\n",
       "2  Theodore Bagwell           Robert Knepper             64\n",
       "3      Brad Bellick            Wade Williams             61\n",
       "4     Sara Tancredi      Sarah Wayne Callies             46"
      ]
     },
     "execution_count": 11,
     "metadata": {},
     "output_type": "execute_result"
    }
   ],
   "source": [
    "Prison_Break"
   ]
  },
  {
   "cell_type": "code",
   "execution_count": 16,
   "id": "335b28d8",
   "metadata": {},
   "outputs": [
    {
     "data": {
      "text/html": [
       "<div>\n",
       "<style scoped>\n",
       "    .dataframe tbody tr th:only-of-type {\n",
       "        vertical-align: middle;\n",
       "    }\n",
       "\n",
       "    .dataframe tbody tr th {\n",
       "        vertical-align: top;\n",
       "    }\n",
       "\n",
       "    .dataframe thead th {\n",
       "        text-align: right;\n",
       "    }\n",
       "</style>\n",
       "<table border=\"1\" class=\"dataframe\">\n",
       "  <thead>\n",
       "    <tr style=\"text-align: right;\">\n",
       "      <th></th>\n",
       "      <th>Character_Age</th>\n",
       "    </tr>\n",
       "  </thead>\n",
       "  <tbody>\n",
       "    <tr>\n",
       "      <th>count</th>\n",
       "      <td>5.000000</td>\n",
       "    </tr>\n",
       "    <tr>\n",
       "      <th>mean</th>\n",
       "      <td>55.000000</td>\n",
       "    </tr>\n",
       "    <tr>\n",
       "      <th>std</th>\n",
       "      <td>7.382412</td>\n",
       "    </tr>\n",
       "    <tr>\n",
       "      <th>min</th>\n",
       "      <td>46.000000</td>\n",
       "    </tr>\n",
       "    <tr>\n",
       "      <th>25%</th>\n",
       "      <td>51.000000</td>\n",
       "    </tr>\n",
       "    <tr>\n",
       "      <th>50%</th>\n",
       "      <td>53.000000</td>\n",
       "    </tr>\n",
       "    <tr>\n",
       "      <th>75%</th>\n",
       "      <td>61.000000</td>\n",
       "    </tr>\n",
       "    <tr>\n",
       "      <th>max</th>\n",
       "      <td>64.000000</td>\n",
       "    </tr>\n",
       "  </tbody>\n",
       "</table>\n",
       "</div>"
      ],
      "text/plain": [
       "       Character_Age\n",
       "count       5.000000\n",
       "mean       55.000000\n",
       "std         7.382412\n",
       "min        46.000000\n",
       "25%        51.000000\n",
       "50%        53.000000\n",
       "75%        61.000000\n",
       "max        64.000000"
      ]
     },
     "execution_count": 16,
     "metadata": {},
     "output_type": "execute_result"
    }
   ],
   "source": [
    "Prison_Break.describe()"
   ]
  },
  {
   "cell_type": "code",
   "execution_count": 17,
   "id": "186a3966",
   "metadata": {},
   "outputs": [
    {
     "data": {
      "text/plain": [
       "Character_Name              object\n",
       "Character_Real_Life_Name    object\n",
       "Character_Age                int64\n",
       "dtype: object"
      ]
     },
     "execution_count": 17,
     "metadata": {},
     "output_type": "execute_result"
    }
   ],
   "source": [
    "Prison_Break.dtypes"
   ]
  },
  {
   "cell_type": "code",
   "execution_count": null,
   "id": "4eba07b6",
   "metadata": {},
   "outputs": [],
   "source": []
  }
 ],
 "metadata": {
  "kernelspec": {
   "display_name": "Python 3 (ipykernel)",
   "language": "python",
   "name": "python3"
  },
  "language_info": {
   "codemirror_mode": {
    "name": "ipython",
    "version": 3
   },
   "file_extension": ".py",
   "mimetype": "text/x-python",
   "name": "python",
   "nbconvert_exporter": "python",
   "pygments_lexer": "ipython3",
   "version": "3.10.9"
  }
 },
 "nbformat": 4,
 "nbformat_minor": 5
}
